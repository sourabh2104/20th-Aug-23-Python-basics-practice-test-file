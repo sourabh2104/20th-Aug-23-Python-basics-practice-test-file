{
 "cells": [
  {
   "cell_type": "markdown",
   "id": "5152b9fd-65e3-41a2-b24b-36c5edaf2e33",
   "metadata": {},
   "source": [
    "\n",
    "20th August Assignment!!!"
   ]
  },
  {
   "cell_type": "markdown",
   "id": "b2a54cbc-8170-42a2-ae83-0d2b00735ee5",
   "metadata": {},
   "source": [
    "Topic- String Based Assignment Problems..!!"
   ]
  },
  {
   "cell_type": "code",
   "execution_count": 2,
   "id": "7a57f8bf-7f5c-4a25-9967-39a778c143fe",
   "metadata": {},
   "outputs": [],
   "source": [
    "# 1). Write a program to reverse a string."
   ]
  },
  {
   "cell_type": "code",
   "execution_count": 1,
   "id": "88bc2cb0-d51a-497c-a43b-344a8c062855",
   "metadata": {},
   "outputs": [
    {
     "name": "stdout",
     "output_type": "stream",
     "text": [
      "Reversed string: hbaruos\n"
     ]
    }
   ],
   "source": [
    "# Input String!!!\n",
    "input_string = \"sourabh\"\n",
    "\n",
    "# Here I did slicing and store the result in reversed_string variable!!\n",
    "reversed_string = input_string[::-1]\n",
    "\n",
    "# Here I just print the output!!\n",
    "print(\"Reversed string:\", reversed_string)\n"
   ]
  },
  {
   "cell_type": "code",
   "execution_count": 4,
   "id": "2a29f735-78d3-459f-bea5-e830cc45bb90",
   "metadata": {},
   "outputs": [],
   "source": [
    "# 2.Q). Check if a string is a palindrome."
   ]
  },
  {
   "cell_type": "code",
   "execution_count": 5,
   "id": "bd940609-1cea-454a-814f-4662b33c8fb5",
   "metadata": {},
   "outputs": [
    {
     "name": "stdout",
     "output_type": "stream",
     "text": [
      "The string is not a palindrome.\n"
     ]
    }
   ],
   "source": [
    "# \n",
    "input_string = \"sourabhyadav\"\n",
    "\n",
    "# Convert the input string to lowercase\n",
    "input_string = input_string.lower()\n",
    "\n",
    "# Remove spaces from the modified string\n",
    "input_string = input_string.replace(\" \", \"\")\n",
    "\n",
    "# Check if the modified string is equal to its reverse\n",
    "is_palindrome = input_string == input_string[::-1]\n",
    "\n",
    "# Check if the string is a palindrome and print the result\n",
    "if is_palindrome:\n",
    "    print(\"The string is a palindrome.\")\n",
    "else:\n",
    "    print(\"The string is not a palindrome.\")\n"
   ]
  },
  {
   "cell_type": "code",
   "execution_count": 6,
   "id": "ac072781-1a62-41ea-ad3c-fb8c538b4ba7",
   "metadata": {},
   "outputs": [],
   "source": [
    "# 3.Q) Convert a string to uppercase."
   ]
  },
  {
   "cell_type": "code",
   "execution_count": 7,
   "id": "1d926478-df27-4c0a-b2ac-e6777b4ec1db",
   "metadata": {},
   "outputs": [
    {
     "name": "stdout",
     "output_type": "stream",
     "text": [
      "DATA SCIENCE\n"
     ]
    }
   ],
   "source": [
    "# This code convert a given string to uppercase.\n",
    "# The original string is assigned to the variable \"original_string\".\n",
    "# The \"upper()\" method is used to convert the original string to uppercase.\n",
    "\n",
    "original_string = \"data science\"\n",
    "uppercase_string = original_string.upper()\n",
    "\n",
    "# It prints the output!!\n",
    "print(uppercase_string)\n"
   ]
  },
  {
   "cell_type": "code",
   "execution_count": 8,
   "id": "aad405cf-d9fb-4c7b-992d-358fe77740c1",
   "metadata": {},
   "outputs": [],
   "source": [
    "# 4.) Convert a string to lowercase."
   ]
  },
  {
   "cell_type": "code",
   "execution_count": 9,
   "id": "2da4c2fc-8843-4585-a5bd-1704134564b8",
   "metadata": {},
   "outputs": [
    {
     "name": "stdout",
     "output_type": "stream",
     "text": [
      "data science\n"
     ]
    }
   ],
   "source": [
    "# Similarly 3rd question..\n",
    "# I use here 'lower()' function to convert in lower case..\n",
    "\n",
    "original_string = \"DATA SCIENCE\"\n",
    "uppercase_string = original_string.lower()\n",
    "\n",
    "# It prints the output!!\n",
    "print(uppercase_string)"
   ]
  },
  {
   "cell_type": "code",
   "execution_count": 10,
   "id": "ccc62925-0f19-4463-9f48-32852d7635e0",
   "metadata": {},
   "outputs": [],
   "source": [
    "# 5.) Count the number of vowels in a string."
   ]
  },
  {
   "cell_type": "code",
   "execution_count": 11,
   "id": "d2391250-7616-4707-b7b2-8484682e0b55",
   "metadata": {},
   "outputs": [
    {
     "name": "stdout",
     "output_type": "stream",
     "text": [
      "The number of vowels in 'wetefwuyeoyoeyo' is: 8\n"
     ]
    }
   ],
   "source": [
    "# This code counts the number of vowels in a given string.\n",
    "# It iterates through each character in the string and checks if it's a vowel,\n",
    "\n",
    "\n",
    "# Input string!!\n",
    "input_string = \"wetefwuyeoyoeyo\"\n",
    "\n",
    "# Define the vowels to check for, both uppercase and lowercase\n",
    "vowels = \"AEIOUaeiou\"\n",
    "\n",
    "# Here I Initialize the vowel count..\n",
    "vowel_count = 0\n",
    "\n",
    "# Iterate through each character in the input string\n",
    "for char in input_string:\n",
    "    if char in vowels:\n",
    "        vowel_count += 1\n",
    "\n",
    "# Print the result!!\n",
    "print(f\"The number of vowels in '{input_string}' is: {vowel_count}\")\n"
   ]
  },
  {
   "cell_type": "code",
   "execution_count": 12,
   "id": "fb691d8a-7e60-4e52-8fff-cbb1d17de3dc",
   "metadata": {},
   "outputs": [],
   "source": [
    "# 6.) Count the number of consonants in a string."
   ]
  },
  {
   "cell_type": "code",
   "execution_count": 13,
   "id": "5640170e-259c-449c-b313-28c8f591824a",
   "metadata": {},
   "outputs": [
    {
     "name": "stdout",
     "output_type": "stream",
     "text": [
      "The number of consonants in 'ygfwtebeohboehtkugiti' is: 13\n"
     ]
    }
   ],
   "source": [
    "# This code count the number of consonants in a string.\n",
    "\n",
    "# Input string..\n",
    "input_string = \"ygfwtebeohboehtkugiti\"\n",
    "\n",
    "# Define the consonants to check for, both uppercase and lowercase letters..\n",
    "consonants = \"BCDFGHJKLMNPQRSTVWXYZbcdfghjklmnpqrstvwxyz\"\n",
    "\n",
    "# Count the consonants using list comprehension and len() function\n",
    "consonant_count = len([char for char in input_string if char in consonants])\n",
    "\n",
    "# Print the result\n",
    "print(f\"The number of consonants in '{input_string}' is: {consonant_count}\")\n"
   ]
  },
  {
   "cell_type": "code",
   "execution_count": 14,
   "id": "22400908-fe0d-4058-96dc-5096e16a1aac",
   "metadata": {},
   "outputs": [],
   "source": [
    "# 7.) Remove all whitespaces from a string."
   ]
  },
  {
   "cell_type": "code",
   "execution_count": 15,
   "id": "49c62280-1838-4ab3-98ee-44fe81011957",
   "metadata": {},
   "outputs": [
    {
     "name": "stdout",
     "output_type": "stream",
     "text": [
      "Original string: I am sourabh student of fsds pro batch\n",
      "String with whitespaces removed: Iamsourabhstudentoffsdsprobatch\n"
     ]
    }
   ],
   "source": [
    "# This code removes all whitespaces from a given string.\n",
    "\n",
    "# Input string with whitespaces!!\n",
    "input_string = \"I am sourabh student of fsds pro batch\"\n",
    "\n",
    "# Use the replace() method to remove whitespaces..\n",
    "# Replace \" \" (space) with an empty string \"\" from the entire string..\n",
    "no_whitespace_string = input_string.replace(\" \", \"\")\n",
    "\n",
    "# Print the original and modified strings\n",
    "print(\"Original string:\", input_string)\n",
    "print(\"String with whitespaces removed:\", no_whitespace_string)\n"
   ]
  },
  {
   "cell_type": "code",
   "execution_count": 16,
   "id": "6f4e625b-6f93-488d-9d3d-92131ef325a5",
   "metadata": {},
   "outputs": [],
   "source": [
    "# 8.) Find the length of a string without using the `len()` function."
   ]
  },
  {
   "cell_type": "markdown",
   "id": "4c9b0c5e-342c-4374-9d7c-25878568f3c9",
   "metadata": {},
   "source": [
    "\n",
    "1. The code sets up an input string, e.g., \"Hello, World!\".\n",
    "    It initializes a counter called string_length to keep track of the string length.\n",
    "\n",
    "2. Through a for loop, each character in the input string is processed one by one.\n",
    "  For each character encountered, the string_length counter is incremented by 1.\n",
    " \n",
    "\n",
    "3. After looping through all characters, the final value of string_length corresponds to the length of the string.\n",
    "  The code outputs the calculated length, providing a way to find the length of the input string without using len().\n",
    "  \n",
    "\n",
    "\n",
    "\n",
    "\n"
   ]
  },
  {
   "cell_type": "code",
   "execution_count": 17,
   "id": "ecebc5db-6295-487d-affb-33929ed771e2",
   "metadata": {},
   "outputs": [
    {
     "name": "stdout",
     "output_type": "stream",
     "text": [
      "Length of the string: 12\n"
     ]
    }
   ],
   "source": [
    "# This code calculates the length of a string without using the len() function.\n",
    "\n",
    "# Input string\n",
    "input_string = \"Hello, World\"\n",
    "\n",
    "# Initialize a counter..\n",
    "string_length = 0\n",
    "\n",
    "# Iterate through each character in the string\n",
    "for char in input_string:\n",
    "    string_length += 1\n",
    "\n",
    "# Print the length of the string.\n",
    "print(\"Length of the string:\", string_length)\n"
   ]
  },
  {
   "cell_type": "code",
   "execution_count": 18,
   "id": "2d516720-9ba9-4fc7-9895-ae20710cf206",
   "metadata": {},
   "outputs": [],
   "source": [
    "# 9) Check if a string contains a specific word."
   ]
  },
  {
   "cell_type": "code",
   "execution_count": 19,
   "id": "c3ae04c5-7388-48a9-adf8-830cabd6f666",
   "metadata": {},
   "outputs": [
    {
     "name": "stdout",
     "output_type": "stream",
     "text": [
      "True\n"
     ]
    }
   ],
   "source": [
    "# Example strings\n",
    "text = \"Hello, this is an example string.\"\n",
    "word_to_check = \"example\"\n",
    "\n",
    "# Check if the word is present in the string\n",
    "result = word_to_check in text\n",
    "\n",
    "# Print the result\n",
    "print(result)  \n"
   ]
  },
  {
   "cell_type": "markdown",
   "id": "2f0449a0-076c-4eab-8b14-a3679c024fe2",
   "metadata": {},
   "source": [
    "Explanation:\n",
    "\n",
    ". We define an example string text that contains the text in which we want to check for the presence of a specific word.\n",
    "\n",
    ". We define another variable word_to_check containing the word we're interested in, which is \"example\" in this case.\n",
    "\n",
    ". We use the in operator to directly check if the value of word_to_check is present anywhere within the value of text.\n",
    "\n",
    ". The result of the word_to_check in text expression is assigned to the result variable. If word_to_check is found in text, result will be True; otherwise, it will be False.\n",
    "\n",
    ". Finally, we print the value of the result variable, which will be True since the word \"example\" is present in the input string.\n",
    "\n",
    "\n",
    "\n",
    "\n"
   ]
  },
  {
   "cell_type": "code",
   "execution_count": 20,
   "id": "e7e63d3b-9c9e-4f5b-8259-7246db86331a",
   "metadata": {},
   "outputs": [],
   "source": [
    "# 10) Replace a word in a string with another word."
   ]
  },
  {
   "cell_type": "code",
   "execution_count": 21,
   "id": "05be5b05-2aa6-4f15-8f85-0cde7d41b8ae",
   "metadata": {},
   "outputs": [
    {
     "name": "stdout",
     "output_type": "stream",
     "text": [
      "Hello, this is an sample string.\n"
     ]
    }
   ],
   "source": [
    "# Example string\n",
    "text = \"Hello, this is an example string.\"\n",
    "\n",
    "# Words to replace and their replacements\n",
    "word_to_replace = \"example\"\n",
    "replacement_word = \"sample\"\n",
    "\n",
    "# Replace the word\n",
    "new_text = text.replace(word_to_replace, replacement_word)\n",
    "\n",
    "# Print the updated string\n",
    "print(new_text)\n"
   ]
  },
  {
   "cell_type": "markdown",
   "id": "9b06e11d-b5c5-40c6-9ab0-c9ad90276de6",
   "metadata": {},
   "source": [
    "Explanation:\n",
    "\n",
    "1.We define an example string text that contains the text in which we want to replace a specific word.\n",
    "\n",
    "2.We define two more variables: word_to_replace holds the word you want to replace, and replacement_word holds the word you want to replace it with.\n",
    "\n",
    "3.The str.replace() method is used to replace all occurrences of word_to_replace in text with replacement_word. The result is stored in the variable new_text.\n",
    "\n",
    "4.Finally, we print the value of new_text, which is the updated string with the specified word replaced.\n",
    "\n"
   ]
  },
  {
   "cell_type": "code",
   "execution_count": 22,
   "id": "83f8e358-4202-48f7-8de7-a64e774f7062",
   "metadata": {},
   "outputs": [],
   "source": [
    "# 11) Count the occurrences of a word in a string."
   ]
  },
  {
   "cell_type": "code",
   "execution_count": 23,
   "id": "ea0534e1-5c95-4580-a37c-d1b842e6bc82",
   "metadata": {},
   "outputs": [
    {
     "name": "stdout",
     "output_type": "stream",
     "text": [
      "The word 'assignment' appears 2 times in the string.\n"
     ]
    }
   ],
   "source": [
    "# Example string\n",
    "text = \"Hello, world this is my second assignment how are you this assignment is very easy .\"\n",
    "\n",
    "# Word to count\n",
    "word_to_count = \"assignment\"\n",
    "\n",
    "# Count the occurrences of the word\n",
    "count = text.count(word_to_count)\n",
    "\n",
    "# Print the count\n",
    "print(\"The word '{}' appears {} times in the string.\".format(word_to_count, count))\n"
   ]
  },
  {
   "cell_type": "markdown",
   "id": "c34b1202-cc68-427d-8f52-68375985222b",
   "metadata": {},
   "source": [
    "Explanation:\n",
    "\n",
    "1 We define an example string text in which we want to count the occurrences of a specific word.\n",
    "\n",
    "2 We define the word_to_count variable, which holds the word you want to count.\n",
    "\n",
    "3 The str.count() method is used to count the occurrences of word_to_count in text. The result is stored in the variable count.\n",
    "\n",
    "4 We print a message using the format() method to display the original word and the count of its occurrences in the string."
   ]
  },
  {
   "cell_type": "code",
   "execution_count": 24,
   "id": "2244012d-4b1d-430f-8150-0cbc716aa857",
   "metadata": {},
   "outputs": [],
   "source": [
    "# 12) Find the first occurrence of a word in a string."
   ]
  },
  {
   "cell_type": "code",
   "execution_count": 25,
   "id": "e5343778-8194-4210-8680-e0e33a4037d9",
   "metadata": {},
   "outputs": [
    {
     "name": "stdout",
     "output_type": "stream",
     "text": [
      "The word 'hii' first appears at index 0 in the string.\n"
     ]
    }
   ],
   "source": [
    "# Here i take a string and store it in variable text..\n",
    "text = \"hii hellow hii how are you hellow hii.\"\n",
    "\n",
    "# Word to find\n",
    "word_to_find = \"hii\"\n",
    "\n",
    "# Find the index of the first occurrence of the word\n",
    "index = text.find(word_to_find)\n",
    "\n",
    "if index != -1:\n",
    "    print(\"The word '{}' first appears at index {} in the string.\".format(word_to_find, index))\n",
    "else:\n",
    "    print(\"The word '{}' was not found in the string.\".format(word_to_find))\n"
   ]
  },
  {
   "cell_type": "markdown",
   "id": "2b8c0460-ffe9-4101-a4a7-30f0967b10da",
   "metadata": {},
   "source": [
    "Explanation:\n",
    "\n",
    "1 We define an example string text in which we want to find the first occurrence of a specific word.\n",
    "\n",
    "2 We define the word_to_find variable, which holds the word you want to locate.\n",
    "\n",
    "3 The str.find() method is used to find the index of the first occurrence of word_to_find in text. If the word is found, the index is returned. If the word is not found, -1 is returned. The result is stored in the variable index.\n",
    "\n",
    "4 We use a conditional statement to check whether the index is not equal to -1. If it's not -1, the word was found, so we print a message indicating the word and its index. Otherwise, we print a message indicating that the word was not found."
   ]
  },
  {
   "cell_type": "code",
   "execution_count": 26,
   "id": "ec5a32ea-7c0b-44b9-9184-6472dcb06fa9",
   "metadata": {},
   "outputs": [],
   "source": [
    "# 13) Find the last occurrence of a word in a string."
   ]
  },
  {
   "cell_type": "code",
   "execution_count": 27,
   "id": "72617c92-0156-476e-8cf7-1e99c83b0cf9",
   "metadata": {},
   "outputs": [
    {
     "name": "stdout",
     "output_type": "stream",
     "text": [
      "The word 'hii' last appears at index 34 in the string.\n"
     ]
    }
   ],
   "source": [
    "# Example string\n",
    "text = \"hii hellow hii how are you hellow hii.\"\n",
    "# Word to find\n",
    "word_to_find = \"hii\"\n",
    "\n",
    "# Find the index of the last occurrence of the word\n",
    "index = text.rfind(word_to_find)\n",
    "\n",
    "if index != -1:\n",
    "    print(\"The word '{}' last appears at index {} in the string.\".format(word_to_find, index))\n",
    "else:\n",
    "    print(\"The word '{}' was not found in the string.\".format(word_to_find))\n"
   ]
  },
  {
   "cell_type": "markdown",
   "id": "ae9faf72-88c2-4b6b-83e4-730062376298",
   "metadata": {},
   "source": [
    "Explanation:\n",
    "\n",
    "We define an example string text in which we want to find the last occurrence of a specific word.\n",
    "\n",
    "We define the word_to_find variable, which holds the word you want to locate.\n",
    "\n",
    "The str.rfind() method is used to find the index of the last occurrence of word_to_find in text. If the word is found, the index is returned. If the word is not found, -1 is returned. The result is stored in the variable index.\n",
    "\n",
    "We use a conditional statement to check whether the index is not equal to -1. If it's not -1, the word was found, so we print a message indicating the word and its index. Otherwise, we print a message indicating that the word was not found."
   ]
  },
  {
   "cell_type": "code",
   "execution_count": 28,
   "id": "ff305bec-5f3a-46c9-bb72-5a2a0d87b6de",
   "metadata": {},
   "outputs": [],
   "source": [
    "# 14) Split a string into a list of words."
   ]
  },
  {
   "cell_type": "code",
   "execution_count": 29,
   "id": "bfd09250-2101-48ce-9a48-226df86c0543",
   "metadata": {},
   "outputs": [
    {
     "name": "stdout",
     "output_type": "stream",
     "text": [
      "['kuehfiu', 'wiuhgiueiue', 'eiurhgiuergi', 'euehgiuen', 'ieuhin.']\n"
     ]
    }
   ],
   "source": [
    "# Example string\n",
    "text = \"kuehfiu wiuhgiueiue eiurhgiuergi euehgiuen ieuhin.\"\n",
    "\n",
    "# Split the string into a list of words\n",
    "word_list = text.split()\n",
    "\n",
    "# Print the list of words\n",
    "print(word_list)\n"
   ]
  },
  {
   "cell_type": "markdown",
   "id": "3f91e2fb-f736-4ac3-b216-75f77b7fdebb",
   "metadata": {},
   "source": [
    "Explanation:\n",
    "\n",
    "We define an example string text that contains the text you want to split into words.\n",
    "\n",
    "The str.split() method is used without any arguments to split the string into a list of words. By default, it splits the string wherever whitespace (spaces, tabs, newlines) is encountered.\n",
    "\n",
    "The result of the split operation is stored in the variable word_list.\n",
    "\n",
    "Finally, we print the word_list, which will be a list of individual words from the input string."
   ]
  },
  {
   "cell_type": "code",
   "execution_count": 30,
   "id": "5daeb80e-6a67-4373-bc41-ce917e4e9c45",
   "metadata": {},
   "outputs": [],
   "source": [
    "# 15) Join a list of words into a string."
   ]
  },
  {
   "cell_type": "code",
   "execution_count": 31,
   "id": "35fb27c1-e8d6-4169-8603-8921fc6a9d4b",
   "metadata": {},
   "outputs": [
    {
     "name": "stdout",
     "output_type": "stream",
     "text": [
      "Hello, this is an example string.\n"
     ]
    }
   ],
   "source": [
    "# List of words\n",
    "word_list = [\"Hello,\", \"this\", \"is\", \"an\", \"example\", \"string.\"]\n",
    "\n",
    "# Join the list of words into a string\n",
    "text = ' '.join(word_list)\n",
    "\n",
    "# Print the joined string\n",
    "print(text)\n"
   ]
  },
  {
   "cell_type": "markdown",
   "id": "9c79c86b-cc92-4ae5-844f-3b7e5ca91f7e",
   "metadata": {},
   "source": [
    "Explanation:\n",
    "\n",
    "We define a list of words word_list that you want to join together into a single string.\n",
    "\n",
    "The str.join() method is used to join the elements of word_list into a string. We provide a space ' ' as the separator between the words.\n",
    "\n",
    "The result of the join operation is stored in the variable text.\n",
    "\n",
    "Finally, we print the text, which will be a string containing all the words joined together with spaces."
   ]
  },
  {
   "cell_type": "code",
   "execution_count": 32,
   "id": "3cc29c5b-dec7-4465-bdba-d934b43e6d86",
   "metadata": {},
   "outputs": [
    {
     "data": {
      "text/plain": [
       "'16) Convert a string where words are separated by spaces to one where words\\nare separated by underscores.'"
      ]
     },
     "execution_count": 32,
     "metadata": {},
     "output_type": "execute_result"
    }
   ],
   "source": [
    "\"\"\"16) Convert a string where words are separated by spaces to one where words\n",
    "are separated by underscores.\"\"\""
   ]
  },
  {
   "cell_type": "code",
   "execution_count": 33,
   "id": "df385acc-8913-46f9-ab25-1795011aa51a",
   "metadata": {},
   "outputs": [
    {
     "name": "stdout",
     "output_type": "stream",
     "text": [
      "Convert_a_string_where_words_are_separated_by_spaces.\n"
     ]
    }
   ],
   "source": [
    "# Example string with spaces\n",
    "original_string = \"Convert a string where words are separated by spaces.\"\n",
    "\n",
    "# Replace spaces with underscores\n",
    "underscore_string = original_string.replace(' ', '_')\n",
    "\n",
    "# Print the converted string\n",
    "print(underscore_string)\n"
   ]
  },
  {
   "cell_type": "markdown",
   "id": "7047c694-240e-4913-9d6e-18894837b923",
   "metadata": {},
   "source": [
    "Explanation:\n",
    "\n",
    "We define an example string original_string that contains the text with spaces that you want to convert.\n",
    "\n",
    "The str.replace() method is used to replace all occurrences of a space ' ' with an underscore '_' in the original_string.\n",
    "\n",
    "The result of the replace operation is stored in the variable underscore_string.\n",
    "\n",
    "Finally, we print the underscore_string, which will be a string where spaces have been replaced by underscores."
   ]
  },
  {
   "cell_type": "code",
   "execution_count": 34,
   "id": "49d9e238-d69e-416c-884b-a751838a5e33",
   "metadata": {},
   "outputs": [],
   "source": [
    "# 17) Check if a string starts with a specific word or phrase."
   ]
  },
  {
   "cell_type": "code",
   "execution_count": 35,
   "id": "03d0c6b0-6c1f-4ec7-a71a-5542f5f370b6",
   "metadata": {},
   "outputs": [
    {
     "name": "stdout",
     "output_type": "stream",
     "text": [
      "True\n"
     ]
    }
   ],
   "source": [
    "# Example string\n",
    "text = \"Hello, this is an example string.\"\n",
    "\n",
    "# Word or phrase to check\n",
    "word_to_check = \"Hello\"\n",
    "\n",
    "# Check if the string starts with the specified word or phrase\n",
    "starts_with_word = text.startswith(word_to_check)\n",
    "\n",
    "# Print the result\n",
    "print(starts_with_word)  # Output will be True\n"
   ]
  },
  {
   "cell_type": "markdown",
   "id": "dbbea3f8-2e6c-4f0b-87f2-a4d63d1a1084",
   "metadata": {},
   "source": [
    "Explanation:\n",
    "\n",
    "We define an example string text that you want to check if it starts with a specific word or phrase.\n",
    "\n",
    "We define the word_to_check variable, which holds the word or phrase you want to check for at the beginning of the string.\n",
    "\n",
    "The str.startswith() method is used to check if the text starts with the value of word_to_check. The result is stored in the starts_with_word variable.\n",
    "\n",
    "Finally, we print the value of starts_with_word, which will be True if the string starts with the specified word or phrase, and False otherwise."
   ]
  },
  {
   "cell_type": "code",
   "execution_count": 36,
   "id": "c67bf422-8f80-454a-bc3d-973fffd41401",
   "metadata": {},
   "outputs": [],
   "source": [
    "# 18) Check if a string ends with a specific word or phrase."
   ]
  },
  {
   "cell_type": "code",
   "execution_count": 37,
   "id": "f029b591-8e3d-4387-9438-e02609120a54",
   "metadata": {},
   "outputs": [
    {
     "name": "stdout",
     "output_type": "stream",
     "text": [
      "True\n"
     ]
    }
   ],
   "source": [
    "# Example string\n",
    "text = \"This is the end of the example string.\"\n",
    "\n",
    "# Word or phrase to check\n",
    "word_to_check = \"string.\"\n",
    "\n",
    "# Check if the string ends with the specified word or phrase\n",
    "ends_with_word = text.endswith(word_to_check)\n",
    "\n",
    "# Print the result\n",
    "print(ends_with_word)  # Output will be True\n"
   ]
  },
  {
   "cell_type": "markdown",
   "id": "270d6582-026f-48eb-9b89-863d98b77bf2",
   "metadata": {},
   "source": [
    "Explanation:\n",
    "\n",
    "We define an example string text that you want to check if it ends with a specific word or phrase.\n",
    "\n",
    "We define the word_to_check variable, which holds the word or phrase you want to check for at the end of the string.\n",
    "\n",
    "The str.endswith() method is used to check if the text ends with the value of word_to_check. The result is stored in the ends_with_word variable.\n",
    "\n",
    "Finally, we print the value of ends_with_word, which will be True if the string ends with the specified word or phrase, and False otherwise."
   ]
  },
  {
   "cell_type": "code",
   "execution_count": 38,
   "id": "cb62709b-0083-4af5-a57f-37a1e8d973e0",
   "metadata": {},
   "outputs": [],
   "source": [
    "# 19) Convert a string to title case (e.g., \"hello world\" to \"Hello World\")."
   ]
  },
  {
   "cell_type": "code",
   "execution_count": 39,
   "id": "946b20cf-0d19-4c0e-8914-d8521baa3863",
   "metadata": {},
   "outputs": [
    {
     "name": "stdout",
     "output_type": "stream",
     "text": [
      "Hello World\n"
     ]
    }
   ],
   "source": [
    "# Example string\n",
    "text = \"hello world\"\n",
    "\n",
    "# Convert the string to title case\n",
    "title_case_text = text.title()\n",
    "\n",
    "# Print the result\n",
    "print(title_case_text)  # Output will be \"Hello World\"\n"
   ]
  },
  {
   "cell_type": "markdown",
   "id": "b8f6f226-b48d-4de8-b874-021ea632b44c",
   "metadata": {},
   "source": [
    "Explanation:\n",
    "\n",
    "We define an example string text that you want to convert to title case.\n",
    "\n",
    "The str.title() method is used to convert each word in the string to title case, where the first letter of each word is capitalized.\n",
    "\n",
    "The result of the title case conversion is stored in the variable title_case_text.\n",
    "\n",
    "Finally, we print the title_case_text, which will be the string in title case.\n",
    "\n"
   ]
  },
  {
   "cell_type": "code",
   "execution_count": 40,
   "id": "b258fd0e-833a-4f52-8472-a478d7a8f934",
   "metadata": {},
   "outputs": [],
   "source": [
    "# 20) Find the longest word in a string."
   ]
  },
  {
   "cell_type": "code",
   "execution_count": 41,
   "id": "9eda4e7a-7452-4914-94cd-e341baf7a02d",
   "metadata": {},
   "outputs": [
    {
     "name": "stdout",
     "output_type": "stream",
     "text": [
      "The longest word is: sentence\n"
     ]
    }
   ],
   "source": [
    "# Example string\n",
    "text = \"This is an example sentence to find the longest word.\"\n",
    "\n",
    "# Split the string into words\n",
    "words = text.split()\n",
    "\n",
    "# Find the longest word\n",
    "longest_word = max(words, key=len)\n",
    "\n",
    "# Print the longest word\n",
    "print(\"The longest word is:\", longest_word)\n"
   ]
  },
  {
   "cell_type": "markdown",
   "id": "6bda65ec-309f-4367-a821-da419e82340f",
   "metadata": {},
   "source": [
    "Explanation:\n",
    "\n",
    "We define an example string text that contains the sentence in which you want to find the longest word.\n",
    "\n",
    "The str.split() method is used to split the string into a list of words. By default, it splits the string using spaces as separators.\n",
    "\n",
    "The max() function is used with the key parameter set to len to find the word with the maximum length from the list of words. The len function calculates the length of each word, and max uses this information to determine the longest word.\n",
    "\n",
    "The result, which is the longest word, is stored in the variable longest_word.\n",
    "\n",
    "Finally, we print the longest_word."
   ]
  },
  {
   "cell_type": "code",
   "execution_count": 42,
   "id": "46f931f1-a4a2-46e8-95da-af6f60f8281d",
   "metadata": {},
   "outputs": [],
   "source": [
    "# 21) Find the shortest word in a string."
   ]
  },
  {
   "cell_type": "code",
   "execution_count": 43,
   "id": "94e00697-29fa-479a-9936-03ca28c41b6e",
   "metadata": {},
   "outputs": [
    {
     "name": "stdout",
     "output_type": "stream",
     "text": [
      "The shortest word is: is\n"
     ]
    }
   ],
   "source": [
    "# Example string\n",
    "text = \"This is an example sentence to find the shortest word.\"\n",
    "\n",
    "# Split the string into words\n",
    "words = text.split()\n",
    "\n",
    "# Find the shortest word\n",
    "shortest_word = min(words, key=len)\n",
    "\n",
    "# Print the shortest word\n",
    "print(\"The shortest word is:\", shortest_word)\n"
   ]
  },
  {
   "cell_type": "markdown",
   "id": "e380bd19-4ab4-4b6f-8e24-8372c6ea6d38",
   "metadata": {},
   "source": [
    "Explanation:\n",
    "\n",
    "We define an example string text that contains the sentence in which you want to find the shortest word.\n",
    "\n",
    "The str.split() method is used to split the string into a list of words. By default, it splits the string using spaces as separators.\n",
    "\n",
    "The min() function is used with the key parameter set to len to find the word with the minimum length from the list of words. The len function calculates the length of each word, and min uses this information to determine the shortest word.\n",
    "\n",
    "The result, which is the shortest word, is stored in the variable shortest_word.\n",
    "\n",
    "Finally, we print the shortest_word.\n",
    "\n",
    "Running this code will give you the shortest word in the provided string. If there are multiple words with the same minimum length, this code will return the first word encountered in the list.\n",
    "\n",
    "\n",
    "\n",
    "\n",
    "\n"
   ]
  },
  {
   "cell_type": "code",
   "execution_count": 44,
   "id": "427a2cba-f9d4-4181-8ed8-bd302149956f",
   "metadata": {},
   "outputs": [],
   "source": [
    "# 22) Reverse the order of words in a string."
   ]
  },
  {
   "cell_type": "code",
   "execution_count": 45,
   "id": "ac656874-008a-4a0c-bead-9b96a1badcb1",
   "metadata": {},
   "outputs": [
    {
     "name": "stdout",
     "output_type": "stream",
     "text": [
      "reverse. to sentence example an is This\n"
     ]
    }
   ],
   "source": [
    "# Example string\n",
    "text = \"This is an example sentence to reverse.\"\n",
    "\n",
    "# Split the string into words\n",
    "words = text.split()\n",
    "\n",
    "# Reverse the order of words\n",
    "reversed_words = words[::-1]\n",
    "\n",
    "# Join the reversed words into a string\n",
    "reversed_text = ' '.join(reversed_words)\n",
    "\n",
    "# Print the reversed string\n",
    "print(reversed_text)\n"
   ]
  },
  {
   "cell_type": "markdown",
   "id": "2a1ac924-d511-4777-a8a1-9c27047b12e1",
   "metadata": {},
   "source": [
    "Explanation:\n",
    "\n",
    "We define an example string text that contains the sentence whose word order you want to reverse.\n",
    "\n",
    "The str.split() method is used to split the string into a list of words. By default, it splits the string using spaces as separators.\n",
    "\n",
    "We use list slicing with '[::-1]' to reverse the order of the words in the list.\n",
    "\n",
    "The str.join() method is used to join the reversed words into a string, using a space ' ' as the separator between the words.\n",
    "\n",
    "The result, which is the reversed string, is stored in the variable reversed_text.\n",
    "\n",
    "Finally, we print the reversed_text, which will be the string with the words in reverse order.\n",
    "\n"
   ]
  },
  {
   "cell_type": "code",
   "execution_count": 46,
   "id": "94fcb75b-f5e5-46ca-bcd0-b5fdcab48f82",
   "metadata": {},
   "outputs": [],
   "source": [
    "# 23) Check if a string is alphanumeric."
   ]
  },
  {
   "cell_type": "code",
   "execution_count": 47,
   "id": "9084db37-d5ff-4865-8532-c283ce9303c4",
   "metadata": {},
   "outputs": [
    {
     "name": "stdout",
     "output_type": "stream",
     "text": [
      "'Hello123' is alphanumeric: True\n",
      "'Hello 123' is alphanumeric: False\n",
      "'Hello!' is alphanumeric: False\n"
     ]
    }
   ],
   "source": [
    "# Example strings\n",
    "string1 = \"Hello123\"\n",
    "string2 = \"Hello 123\"\n",
    "string3 = \"Hello!\"\n",
    "\n",
    "# Check if the strings are alphanumeric\n",
    "is_alphanumeric1 = string1.isalnum()\n",
    "is_alphanumeric2 = string2.isalnum()\n",
    "is_alphanumeric3 = string3.isalnum()\n",
    "\n",
    "# Print the results\n",
    "print(f\"'{string1}' is alphanumeric:\", is_alphanumeric1)  # Output will be True\n",
    "print(f\"'{string2}' is alphanumeric:\", is_alphanumeric2)  # Output will be False\n",
    "print(f\"'{string3}' is alphanumeric:\", is_alphanumeric3)  # Output will be False\n"
   ]
  },
  {
   "cell_type": "markdown",
   "id": "bcbadce0-444f-4d56-a800-112e91ffb56e",
   "metadata": {},
   "source": [
    "Explanation:\n",
    "\n",
    "We define three example strings: string1, string2, and string3.\n",
    "\n",
    "The str.isalnum() method is used to check if a string consists only of alphanumeric characters (letters and digits). It returns True if all characters in the string are alphanumeric, and False otherwise.\n",
    "\n",
    "We use the is_alphanumeric1, is_alphanumeric2, and is_alphanumeric3 variables to store the results of the isalnum() checks for each string.\n",
    "\n",
    "Finally, we print the results to see whether each string is alphanumeric or not."
   ]
  },
  {
   "cell_type": "code",
   "execution_count": 48,
   "id": "534cecea-69cb-472a-80a1-e96b85842682",
   "metadata": {},
   "outputs": [],
   "source": [
    "# 24) Extract all digits from a string."
   ]
  },
  {
   "cell_type": "code",
   "execution_count": 49,
   "id": "3c67fc76-87ec-4244-8a10-d56270266e15",
   "metadata": {},
   "outputs": [
    {
     "name": "stdout",
     "output_type": "stream",
     "text": [
      "123456789\n"
     ]
    }
   ],
   "source": [
    "# Example string\n",
    "text = \"This is 123 an example 456 string 789 with digits.\"\n",
    "\n",
    "# Extract digits from the string\n",
    "digits = ''.join(char for char in text if char.isdigit())\n",
    "\n",
    "# Print the extracted digits\n",
    "print(digits)\n"
   ]
  },
  {
   "cell_type": "markdown",
   "id": "5ec667dd-9433-41cd-97be-b5f58d062934",
   "metadata": {},
   "source": [
    "Explanation:\n",
    "\n",
    "We define an example string text that contains a mixture of characters and digits.\n",
    "\n",
    "We use a list comprehension to iterate through each character in the text and check if it is a digit using the str.isdigit() method.\n",
    "\n",
    "The resulting list of digits is joined back together using the join() method, resulting in a string containing only the extracted digits.\n",
    "\n",
    "Finally, we print the digits string, which will contain all the digits extracted from the original string."
   ]
  },
  {
   "cell_type": "code",
   "execution_count": 50,
   "id": "ba63f621-44a7-4a42-8464-329c56f1e3da",
   "metadata": {},
   "outputs": [],
   "source": [
    "# 25) Extract all alphabets from a string."
   ]
  },
  {
   "cell_type": "code",
   "execution_count": 51,
   "id": "a2c32b0b-29b7-4746-95ef-4685397676de",
   "metadata": {},
   "outputs": [
    {
     "name": "stdout",
     "output_type": "stream",
     "text": [
      "Thisisanexamplestringwithalphabeticcharacters\n"
     ]
    }
   ],
   "source": [
    "# Example string\n",
    "text = \"This is an example string with alphabetic characters.\"\n",
    "\n",
    "# Extract alphabetic characters from the string\n",
    "alphabets = ''.join(char for char in text if char.isalpha())\n",
    "\n",
    "# Print the extracted alphabetic characters\n",
    "print(alphabets)\n"
   ]
  },
  {
   "cell_type": "markdown",
   "id": "a97e80ff-77b0-4874-a793-ea7c32dcce46",
   "metadata": {},
   "source": [
    "Explanation:\n",
    "\n",
    "We define an example string text that contains a mixture of characters including alphabetic and non-alphabetic ones.\n",
    "\n",
    "We use a list comprehension to iterate through each character in the text and check if it is an alphabetic character using the str.isalpha() method.\n",
    "\n",
    "The resulting list of alphabetic characters is joined back together using the join() method, resulting in a string containing only the extracted alphabetic characters.\n",
    "\n",
    "Finally, we print the alphabets string, which will contain all the alphabetic characters extracted from the original string."
   ]
  },
  {
   "cell_type": "code",
   "execution_count": 52,
   "id": "d57389ef-e6f1-4259-b9bb-cd72c089b7f4",
   "metadata": {},
   "outputs": [],
   "source": [
    "# 26) Count the number of uppercase letters in a string."
   ]
  },
  {
   "cell_type": "code",
   "execution_count": 53,
   "id": "402a97a0-b0fa-48f6-97d4-efa30b60f160",
   "metadata": {},
   "outputs": [
    {
     "name": "stdout",
     "output_type": "stream",
     "text": [
      "Number of uppercase letters: 13\n"
     ]
    }
   ],
   "source": [
    "# Example string\n",
    "text = \"This String Contains UPPERCASE Letters.\"\n",
    "\n",
    "# Count the number of uppercase letters\n",
    "uppercase_count = sum(1 for char in text if char.isupper())\n",
    "\n",
    "# Print the count\n",
    "print(\"Number of uppercase letters:\", uppercase_count)\n"
   ]
  },
  {
   "cell_type": "markdown",
   "id": "4cbb0a4a-4cc5-470d-a60c-7a946fdc23d3",
   "metadata": {},
   "source": [
    "Explanation:\n",
    "\n",
    "We define an example string text that contains a mixture of uppercase and lowercase letters.\n",
    "\n",
    "We use a generator expression with sum() to iterate through each character in the text and check if it is an uppercase letter using the str.isupper() method.\n",
    "\n",
    "The generator expression produces a sequence of 1s for each uppercase letter found in the string, and sum() calculates the total count of uppercase letters.\n",
    "\n",
    "Finally, we print the uppercase_count, which will be the count of uppercase letters in the input string.\n",
    "\n"
   ]
  },
  {
   "cell_type": "code",
   "execution_count": 54,
   "id": "e370ce2e-9aae-4ae5-82d4-61f5d9667e57",
   "metadata": {},
   "outputs": [],
   "source": [
    "# 27) Count the number of lowercase letters in a string."
   ]
  },
  {
   "cell_type": "code",
   "execution_count": 55,
   "id": "08a07fd7-fa79-4b7a-badc-4f1184d98d53",
   "metadata": {},
   "outputs": [
    {
     "name": "stdout",
     "output_type": "stream",
     "text": [
      "Number of lowercase letters: 31\n"
     ]
    }
   ],
   "source": [
    "# Example string\n",
    "text = \"This String Contains lowercase letters.\"\n",
    "\n",
    "# Count the number of lowercase letters\n",
    "lowercase_count = sum(1 for char in text if char.islower())\n",
    "\n",
    "# Print the count\n",
    "print(\"Number of lowercase letters:\", lowercase_count)\n"
   ]
  },
  {
   "cell_type": "markdown",
   "id": "81f287fc-26d4-4c47-9ade-2a308f1e13e8",
   "metadata": {},
   "source": [
    "Explanation:\n",
    "\n",
    "We define an example string text that contains a mixture of uppercase and lowercase letters.\n",
    "\n",
    "We use a generator expression with sum() to iterate through each character in the text and check if it is a lowercase letter using the str.islower() method.\n",
    "\n",
    "The generator expression produces a sequence of 1s for each lowercase letter found in the string, and sum() calculates the total count of lowercase letters.\n",
    "\n",
    "Finally, we print the lowercase_count, which will be the count of lowercase letters in the input string."
   ]
  },
  {
   "cell_type": "code",
   "execution_count": 56,
   "id": "055beeeb-58d0-422b-ad50-ba88f9ff8b3c",
   "metadata": {},
   "outputs": [],
   "source": [
    "# 28) Swap the case of each character in a string."
   ]
  },
  {
   "cell_type": "code",
   "execution_count": 57,
   "id": "2554fe15-5a0a-482e-8c9e-5c7dc6e36c93",
   "metadata": {},
   "outputs": [
    {
     "name": "stdout",
     "output_type": "stream",
     "text": [
      "hELLO wORLD!\n"
     ]
    }
   ],
   "source": [
    "# Example string\n",
    "text = \"Hello World!\"\n",
    "\n",
    "# Swap the case of each character\n",
    "swapped_text = text.swapcase()\n",
    "\n",
    "# Print the swapped text\n",
    "print(swapped_text)\n"
   ]
  },
  {
   "cell_type": "markdown",
   "id": "0615e163-44fd-4901-9141-6c108aa5b06d",
   "metadata": {},
   "source": [
    "Explanation:\n",
    "\n",
    "We define an example string text that you want to swap the case of.\n",
    "\n",
    "The str.swapcase() method is used to create a new string with each character's case swapped (lowercase characters become uppercase, and vice versa).\n",
    "\n",
    "The result of the swap case operation is stored in the variable swapped_text.\n",
    "\n",
    "Finally, we print the swapped_text, which will be the string with the case of each character swapped.\n",
    "\n"
   ]
  },
  {
   "cell_type": "code",
   "execution_count": 58,
   "id": "2e714c7f-2809-4e94-94df-988f1fc9b7d5",
   "metadata": {},
   "outputs": [],
   "source": [
    "# 29) Remove a specific word from a string."
   ]
  },
  {
   "cell_type": "code",
   "execution_count": 59,
   "id": "da06c8a3-56f4-4cdd-b88a-8f04e065432f",
   "metadata": {},
   "outputs": [
    {
     "name": "stdout",
     "output_type": "stream",
     "text": [
      "This is an  sentence containing the word .\n"
     ]
    }
   ],
   "source": [
    "# Example string\n",
    "text = \"This is an example sentence containing the word example.\"\n",
    "\n",
    "# Word to remove\n",
    "word_to_remove = \"example\"\n",
    "\n",
    "# Remove the specified word\n",
    "new_text = text.replace(word_to_remove, '')\n",
    "\n",
    "# Print the updated string\n",
    "print(new_text)\n"
   ]
  },
  {
   "cell_type": "markdown",
   "id": "e4d1d5c2-a837-446d-844f-3ff1a7710bc5",
   "metadata": {},
   "source": [
    "Explanation:\n",
    "\n",
    "We define an example string text that contains the sentence from which you want to remove a specific word.\n",
    "\n",
    "We define the word_to_remove variable, which holds the word you want to remove from the string.\n",
    "\n",
    "The str.replace() method is used to replace all occurrences of word_to_remove with an empty string '', effectively removing the word from the string.\n",
    "\n",
    "The result of the replace operation is stored in the variable new_text.\n",
    "\n",
    "Finally, we print the new_text, which will be the updated string with the specified word removed.\n",
    "\n"
   ]
  },
  {
   "cell_type": "code",
   "execution_count": 60,
   "id": "45c5e389-ce28-4cee-8f51-7b5fd99464bb",
   "metadata": {},
   "outputs": [],
   "source": [
    "# 30) Check if a string is a valid email address."
   ]
  },
  {
   "cell_type": "code",
   "execution_count": 61,
   "id": "b2f89807-162f-425f-ab28-f8723e4bc33d",
   "metadata": {},
   "outputs": [
    {
     "name": "stdout",
     "output_type": "stream",
     "text": [
      "'example@example.com' is a valid email address.\n",
      "'invalid_email' is not a valid email address.\n"
     ]
    }
   ],
   "source": [
    "# Example email addresses\n",
    "email1 = \"example@example.com\"\n",
    "email2 = \"invalid_email\"\n",
    "\n",
    "# Check if the email contains exactly one '@' symbol\n",
    "if email1.count('@') == 1:\n",
    "    # Split the email into username and domain parts\n",
    "    username, domain = email1.split('@')\n",
    "\n",
    "    # Check if the username and domain are non-empty\n",
    "    if username and domain:\n",
    "        # Check if the domain contains at least one '.' character\n",
    "        if '.' in domain:\n",
    "            print(f\"'{email1}' is a valid email address.\")\n",
    "        else:\n",
    "            print(f\"'{email1}' is not a valid email address.\")\n",
    "    else:\n",
    "        print(f\"'{email1}' is not a valid email address.\")\n",
    "else:\n",
    "    print(f\"'{email1}' is not a valid email address.\")\n",
    "\n",
    "# Repeat the above steps for email2\n",
    "if email2.count('@') == 1:\n",
    "    username, domain = email2.split('@')\n",
    "    if username and domain:\n",
    "        if '.' in domain:\n",
    "            print(f\"'{email2}' is a valid email address.\")\n",
    "        else:\n",
    "            print(f\"'{email2}' is not a valid email address.\")\n",
    "    else:\n",
    "        print(f\"'{email2}' is not a valid email address.\")\n",
    "else:\n",
    "    print(f\"'{email2}' is not a valid email address.\")\n"
   ]
  },
  {
   "cell_type": "markdown",
   "id": "9dc26041-c596-401c-a0ff-6cf548d28ff7",
   "metadata": {},
   "source": [
    "Explanation:\n",
    "\n",
    "We define two example email addresses: email1 and email2.\n",
    "\n",
    "For each email address, we first check if it contains exactly one \"@\" symbol.\n",
    "\n",
    "If the \"@\" symbol count is correct, we split the email address into username and domain parts.\n",
    "\n",
    "We then check if both the username and domain are non-empty.\n",
    "\n",
    "If the username and domain are non-empty, we check if the domain contains at least one \".\" character.\n",
    "\n",
    "Based on the results of the checks, we print whether the email address is considered valid or not."
   ]
  },
  {
   "cell_type": "code",
   "execution_count": 62,
   "id": "2692334c-2d86-4116-8d2e-16cb5ae47978",
   "metadata": {},
   "outputs": [],
   "source": [
    "# 31) Extract the username from an email address string."
   ]
  },
  {
   "cell_type": "code",
   "execution_count": 63,
   "id": "83a133af-c02b-4144-bbb2-3c5c86249d08",
   "metadata": {},
   "outputs": [
    {
     "name": "stdout",
     "output_type": "stream",
     "text": [
      "Username: user\n"
     ]
    }
   ],
   "source": [
    "# Example email address\n",
    "email = \"user@example.com\"\n",
    "\n",
    "# Extract the username\n",
    "username = email.split('@')[0]\n",
    "\n",
    "# Print the extracted username\n",
    "print(\"Username:\", username)\n"
   ]
  },
  {
   "cell_type": "markdown",
   "id": "8cfd04cb-3ebf-45dc-87e0-7c3519c1b8c5",
   "metadata": {},
   "source": [
    "Explanation:\n",
    "\n",
    "We define an example email address email that you want to extract the username from.\n",
    "\n",
    "We use the str.split('@') method to split the email address into a list of parts at the \"@\" symbol. The [0] index is used to access the first part, which is the username.\n",
    "\n",
    "The extracted username is stored in the variable username.\n",
    "\n",
    "Finally, we print the username, which will be the username part of the email address."
   ]
  },
  {
   "cell_type": "code",
   "execution_count": 64,
   "id": "52ac8a97-88ff-49ad-b9e6-58e0c92c4619",
   "metadata": {},
   "outputs": [],
   "source": [
    "# 32) Extract the domain name from an email address string."
   ]
  },
  {
   "cell_type": "code",
   "execution_count": 65,
   "id": "96ae4765-d1e5-4665-bd7f-e78d1c3b4534",
   "metadata": {},
   "outputs": [
    {
     "name": "stdout",
     "output_type": "stream",
     "text": [
      "Domain: example.com\n"
     ]
    }
   ],
   "source": [
    "# Example email address\n",
    "email = \"user@example.com\"\n",
    "\n",
    "# Extract the domain name\n",
    "domain = email.split('@')[1]\n",
    "\n",
    "# Print the extracted domain name\n",
    "print(\"Domain:\", domain)\n"
   ]
  },
  {
   "cell_type": "markdown",
   "id": "60770d49-9372-4ed5-a079-97d6cb9f94e4",
   "metadata": {},
   "source": [
    "Explanation:\n",
    "\n",
    "We define an example email address email that you want to extract the domain name from.\n",
    "\n",
    "We use the str.split('@') method to split the email address into a list of parts at the \"@\" symbol. The [1] index is used to access the second part, which is the domain name.\n",
    "\n",
    "The extracted domain name is stored in the variable domain.\n",
    "\n",
    "Finally, we print the domain, which will be the domain name part of the email address."
   ]
  },
  {
   "cell_type": "code",
   "execution_count": 66,
   "id": "536d6c2d-e9ab-4f84-b204-2756ab81b639",
   "metadata": {},
   "outputs": [],
   "source": [
    "# 33) Replace multiple spaces in a string with a single space."
   ]
  },
  {
   "cell_type": "code",
   "execution_count": 67,
   "id": "8e7a7dc3-19ec-4e07-85c3-6e72267474c8",
   "metadata": {},
   "outputs": [
    {
     "name": "stdout",
     "output_type": "stream",
     "text": [
      "This is an example string with multiple spaces.\n"
     ]
    }
   ],
   "source": [
    "import re\n",
    "\n",
    "# Example string with multiple spaces\n",
    "text = \"This   is   an   example   string   with   multiple   spaces.\"\n",
    "\n",
    "# Replace multiple spaces with a single space\n",
    "cleaned_text = re.sub(r'\\s+', ' ', text)\n",
    "\n",
    "# Print the cleaned text\n",
    "print(cleaned_text)\n"
   ]
  },
  {
   "cell_type": "markdown",
   "id": "6e396354-df43-4ac8-884e-c72a953a0009",
   "metadata": {},
   "source": [
    "Explanation:\n",
    "\n",
    "We import the re module to work with regular expressions.\n",
    "\n",
    "We define an example string text that contains multiple spaces.\n",
    "\n",
    "The re.sub() function is used to substitute all occurrences of one or more whitespace characters (spaces, tabs, newlines, etc.) with a single space. The regular expression \\s+ matches one or more whitespace characters.\n",
    "\n",
    "The result of the re.sub() operation is stored in the variable cleaned_text.\n",
    "\n",
    "Finally, we print the cleaned_text, which will be the string with multiple spaces replaced by a single space."
   ]
  },
  {
   "cell_type": "code",
   "execution_count": 68,
   "id": "ae012979-c51e-4968-9cc1-cb264bed500f",
   "metadata": {},
   "outputs": [],
   "source": [
    "# 34) Check if a string is a valid URL."
   ]
  },
  {
   "cell_type": "code",
   "execution_count": 69,
   "id": "69866bfe-5a60-4f69-a584-c4a774db24e0",
   "metadata": {},
   "outputs": [
    {
     "name": "stdout",
     "output_type": "stream",
     "text": [
      "True\n",
      "False\n"
     ]
    }
   ],
   "source": [
    "from urllib.parse import urlparse\n",
    "\n",
    "def is_valid_url(url):\n",
    "    try:\n",
    "        result = urlparse(url)\n",
    "        return all([result.scheme, result.netloc])  # Check if both scheme and netloc are present\n",
    "    except ValueError:\n",
    "        return False\n",
    "\n",
    "# Example URLs\n",
    "url1 = \"https://www.example.com\"\n",
    "url2 = \"invalid_url\"\n",
    "\n",
    "print(is_valid_url(url1))  # Output will be True\n",
    "print(is_valid_url(url2))  # Output will be False\n"
   ]
  },
  {
   "cell_type": "markdown",
   "id": "c78dea27-0c9b-4495-a532-89a3deac7c87",
   "metadata": {},
   "source": [
    "Explanation:\n",
    "\n",
    "We import the urlparse function from the urllib.parse module, which allows us to parse URLs.\n",
    "\n",
    "We define a function is_valid_url that takes a URL string as an argument.\n",
    "\n",
    "Inside the function, we use a try block to handle possible exceptions that might occur during URL parsing.\n",
    "\n",
    "We use the urlparse() function to parse the URL. If the URL is valid, this function will return a result object with various components like scheme, netloc, path, query, etc.\n",
    "\n",
    "We use a list comprehension and the all() function to check if both the scheme and netloc components are present in the result object. This indicates that the URL is valid.\n",
    "\n",
    "If the URL is not valid or if an exception occurs during parsing, the ValueError exception will be caught, and the function will return False.\n",
    "\n",
    "Finally, we print the result of the is_valid_url function for each example URL.\n",
    "\n"
   ]
  },
  {
   "cell_type": "code",
   "execution_count": 70,
   "id": "54fc5078-6615-4b6d-a77f-52832eded579",
   "metadata": {},
   "outputs": [],
   "source": [
    "# 35)  Extract the protocol (http or https) from a URL string."
   ]
  },
  {
   "cell_type": "code",
   "execution_count": 71,
   "id": "4cb5c1de-c624-44e5-a191-f644772d4e8b",
   "metadata": {},
   "outputs": [
    {
     "name": "stdout",
     "output_type": "stream",
     "text": [
      "Protocol for https://www.example.com: https\n",
      "Protocol for http://example.org: http\n",
      "Protocol for ftp://ftp.example.net: ftp\n"
     ]
    }
   ],
   "source": [
    "from urllib.parse import urlparse\n",
    "\n",
    "# Example URLs\n",
    "url1 = \"https://www.example.com\"\n",
    "url2 = \"http://example.org\"\n",
    "url3 = \"ftp://ftp.example.net\"\n",
    "\n",
    "# Extract the protocol from the URL\n",
    "def extract_protocol(url):\n",
    "    parsed_url = urlparse(url)\n",
    "    return parsed_url.scheme\n",
    "\n",
    "# Example usage\n",
    "protocol1 = extract_protocol(url1)\n",
    "protocol2 = extract_protocol(url2)\n",
    "protocol3 = extract_protocol(url3)\n",
    "\n",
    "print(f\"Protocol for {url1}: {protocol1}\")\n",
    "print(f\"Protocol for {url2}: {protocol2}\")\n",
    "print(f\"Protocol for {url3}: {protocol3}\")\n"
   ]
  },
  {
   "cell_type": "markdown",
   "id": "cbe16e25-bf1e-4437-b054-34faaaff045c",
   "metadata": {},
   "source": [
    "Explanation:\n",
    "\n",
    "We import the urlparse function from the urllib.parse module to parse URLs.\n",
    "\n",
    "We define a function extract_protocol that takes a URL string as an argument.\n",
    "\n",
    "Inside the function, we use urlparse() to parse the URL. The scheme component of the parsed URL indicates the protocol (http, https, ftp, etc.).\n",
    "\n",
    "We return the value of the scheme component from the parsed URL.\n",
    "\n",
    "In the example usage section, we call the extract_protocol function for each example URL and print the extracted protocol."
   ]
  },
  {
   "cell_type": "code",
   "execution_count": 72,
   "id": "b924df81-563b-4466-a821-73bdce55bb27",
   "metadata": {},
   "outputs": [],
   "source": [
    "# 36) Find the frequency of each character in a string."
   ]
  },
  {
   "cell_type": "code",
   "execution_count": 73,
   "id": "3addefcc-749a-41c7-8719-2ef75510b921",
   "metadata": {},
   "outputs": [
    {
     "name": "stdout",
     "output_type": "stream",
     "text": [
      "'T': 1\n",
      "'h': 1\n",
      "'i': 3\n",
      "'s': 3\n",
      "' ': 4\n",
      "'a': 2\n",
      "'n': 2\n",
      "'e': 2\n",
      "'x': 1\n",
      "'m': 1\n",
      "'p': 1\n",
      "'l': 1\n",
      "'t': 1\n",
      "'r': 1\n",
      "'g': 1\n",
      "'.': 1\n"
     ]
    }
   ],
   "source": [
    "# Example string\n",
    "text = \"This is an example string.\"\n",
    "\n",
    "# Create an empty dictionary to store character frequencies\n",
    "char_frequency = {}\n",
    "\n",
    "# Count the frequency of each character\n",
    "for char in text:\n",
    "    if char in char_frequency:\n",
    "        char_frequency[char] += 1\n",
    "    else:\n",
    "        char_frequency[char] = 1\n",
    "\n",
    "# Print the character frequencies\n",
    "for char, freq in char_frequency.items():\n",
    "    print(f\"'{char}': {freq}\")\n"
   ]
  },
  {
   "cell_type": "markdown",
   "id": "ad6ae5f9-5d89-4dfc-b249-f9d8f1140351",
   "metadata": {},
   "source": [
    "Explanation:\n",
    "\n",
    "We define an example string text in which you want to find the frequency of each character.\n",
    "\n",
    "We create an empty dictionary char_frequency to store the frequencies of characters.\n",
    "\n",
    "We iterate through each character in the text. If the character is already in the char_frequency dictionary, we increment its count; otherwise, we add the character to the dictionary with a count of 1.\n",
    "\n",
    "After processing all characters, we iterate through the char_frequency dictionary using .items() and print the character along with its frequency."
   ]
  },
  {
   "cell_type": "code",
   "execution_count": 74,
   "id": "10f1bc9c-75db-4d0b-ad30-65f64070e817",
   "metadata": {},
   "outputs": [],
   "source": [
    "# 37) Remove all punctuation from a string."
   ]
  },
  {
   "cell_type": "code",
   "execution_count": 75,
   "id": "cef68914-2d58-439f-8a33-d7f9ef8ed8b5",
   "metadata": {},
   "outputs": [
    {
     "name": "stdout",
     "output_type": "stream",
     "text": [
      "Hello this is an example string with punctuation\n"
     ]
    }
   ],
   "source": [
    "import string\n",
    "\n",
    "# Example string with punctuation\n",
    "text = \"Hello, this is an example string with punctuation!\"\n",
    "\n",
    "# Create a translation table to remove punctuation\n",
    "translator = str.maketrans(\"\", \"\", string.punctuation)\n",
    "\n",
    "# Remove punctuation from the string\n",
    "cleaned_text = text.translate(translator)\n",
    "\n",
    "# Print the cleaned text\n",
    "print(cleaned_text)\n"
   ]
  },
  {
   "cell_type": "markdown",
   "id": "4c15e07e-c075-420c-a949-842b21e66fa9",
   "metadata": {},
   "source": [
    "Explanation:\n",
    "\n",
    "We import the string module, which provides a string containing all punctuation characters.\n",
    "\n",
    "We define an example string text that contains punctuation.\n",
    "\n",
    "We create a translation table using the str.maketrans() method. The first two arguments are empty strings, and the third argument is string.punctuation, which contains all punctuation characters.\n",
    "\n",
    "The str.translate() method is used to apply the translation table to the string, effectively removing all characters listed in the translation table.\n",
    "\n",
    "The result of the translation operation is stored in the variable cleaned_text.\n",
    "\n",
    "Finally, we print the cleaned_text, which will be the string with all punctuation characters removed."
   ]
  },
  {
   "cell_type": "code",
   "execution_count": 76,
   "id": "0953faff-2538-42d3-a79e-19ed566d0f9d",
   "metadata": {},
   "outputs": [],
   "source": [
    "# 38) Check if a string contains only digits."
   ]
  },
  {
   "cell_type": "code",
   "execution_count": 77,
   "id": "1acae330-e508-4bfa-8baa-81a7e37ec8e1",
   "metadata": {},
   "outputs": [
    {
     "name": "stdout",
     "output_type": "stream",
     "text": [
      "'12345' contains only digits: True\n",
      "'abc123' contains only digits: False\n",
      "'  456   ' contains only digits: False\n"
     ]
    }
   ],
   "source": [
    "# Example strings\n",
    "string1 = \"12345\"\n",
    "string2 = \"abc123\"\n",
    "string3 = \"  456   \"\n",
    "\n",
    "# Check if the strings contain only digits\n",
    "is_digits1 = string1.isdigit()\n",
    "is_digits2 = string2.isdigit()\n",
    "is_digits3 = string3.isdigit()\n",
    "\n",
    "# Print the results\n",
    "print(f\"'{string1}' contains only digits:\", is_digits1)  # Output will be True\n",
    "print(f\"'{string2}' contains only digits:\", is_digits2)  # Output will be False\n",
    "print(f\"'{string3}' contains only digits:\", is_digits3)  # Output will be False\n"
   ]
  },
  {
   "cell_type": "markdown",
   "id": "3965d657-3c93-431f-ae55-e311f8d2bb13",
   "metadata": {},
   "source": [
    "Explanation:\n",
    "\n",
    "We define three example strings: string1, string2, and string3.\n",
    "\n",
    "The str.isdigit() method is used to check if a string contains only digits (numeric characters). It returns True if all characters in the string are digits, and False otherwise.\n",
    "\n",
    "We use the is_digits1, is_digits2, and is_digits3 variables to store the results of the isdigit() checks for each string.\n",
    "\n",
    "Finally, we print the results to see whether each string contains only digits or not."
   ]
  },
  {
   "cell_type": "code",
   "execution_count": 78,
   "id": "b2fb563a-4a99-4749-a58f-c33379ef65da",
   "metadata": {},
   "outputs": [],
   "source": [
    "# 39) Check if a string contains only alphabets."
   ]
  },
  {
   "cell_type": "code",
   "execution_count": 79,
   "id": "878a6b71-f228-40bf-ac27-db831d006ac9",
   "metadata": {},
   "outputs": [
    {
     "name": "stdout",
     "output_type": "stream",
     "text": [
      "'abc' contains only alphabets: True\n",
      "'abc123' contains only alphabets: False\n",
      "'Hello World' contains only alphabets: False\n"
     ]
    }
   ],
   "source": [
    "# Example strings\n",
    "string1 = \"abc\"\n",
    "string2 = \"abc123\"\n",
    "string3 = \"Hello World\"\n",
    "\n",
    "# Check if the strings contain only alphabets\n",
    "is_alpha1 = string1.isalpha()\n",
    "is_alpha2 = string2.isalpha()\n",
    "is_alpha3 = string3.isalpha()\n",
    "\n",
    "# Print the results\n",
    "print(f\"'{string1}' contains only alphabets:\", is_alpha1)  # Output will be True\n",
    "print(f\"'{string2}' contains only alphabets:\", is_alpha2)  # Output will be False\n",
    "print(f\"'{string3}' contains only alphabets:\", is_alpha3)  # Output will be False\n"
   ]
  },
  {
   "cell_type": "markdown",
   "id": "31a115cf-14f8-4358-99e1-b0adc8021c5a",
   "metadata": {},
   "source": [
    "Explanation:\n",
    "\n",
    "We define three example strings: string1, string2, and string3.\n",
    "\n",
    "The str.isalpha() method is used to check if a string contains only alphabetic characters (letters). It returns True if all characters in the string are letters, and False otherwise.\n",
    "\n",
    "We use the is_alpha1, is_alpha2, and is_alpha3 variables to store the results of the isalpha() checks for each string.\n",
    "\n",
    "Finally, we print the results to see whether each string contains only alphabetic characters or not.\n",
    "\n",
    "\n",
    "\n",
    "\n",
    "\n",
    "\n"
   ]
  },
  {
   "cell_type": "code",
   "execution_count": 80,
   "id": "e412b093-067c-4ea9-8f0c-2e1d837f0cf9",
   "metadata": {},
   "outputs": [],
   "source": [
    "# 40) Convert a string to a list of characters."
   ]
  },
  {
   "cell_type": "code",
   "execution_count": 81,
   "id": "448a1aa4-e045-4ce9-92b8-2dc63dffc88d",
   "metadata": {},
   "outputs": [
    {
     "name": "stdout",
     "output_type": "stream",
     "text": [
      "['H', 'e', 'l', 'l', 'o', ',', ' ', 'w', 'o', 'r', 'l', 'd', '!']\n"
     ]
    }
   ],
   "source": [
    "# Example string\n",
    "text = \"Hello, world!\"\n",
    "\n",
    "# Convert the string to a list of characters\n",
    "char_list = list(text)\n",
    "\n",
    "# Print the list of characters\n",
    "print(char_list)\n"
   ]
  },
  {
   "cell_type": "markdown",
   "id": "574e65a2-2635-4d63-bce4-cb62eb42d8c7",
   "metadata": {},
   "source": [
    "Explanation:\n",
    "\n",
    "We define an example string text that you want to convert to a list of characters.\n",
    "\n",
    "The list() constructor is used to create a list where each element is a character from the string.\n",
    "\n",
    "The resulting list of characters is stored in the variable char_list.\n",
    "\n",
    "Finally, we print the char_list, which will be a list containing all the characters from the original string."
   ]
  },
  {
   "cell_type": "code",
   "execution_count": 82,
   "id": "a2824a73-851e-4974-8262-d3907d3ff395",
   "metadata": {},
   "outputs": [],
   "source": [
    "# 41) Check if two strings are anagrams."
   ]
  },
  {
   "cell_type": "code",
   "execution_count": 83,
   "id": "61f2ae47-147d-4ad2-a13f-19ac02bbc4d4",
   "metadata": {},
   "outputs": [
    {
     "name": "stdout",
     "output_type": "stream",
     "text": [
      "Are 'listen' and 'silent' anagrams? True\n",
      "Are 'hello' and 'world' anagrams? False\n"
     ]
    }
   ],
   "source": [
    "# Example strings\n",
    "string1 = \"listen\"\n",
    "string2 = \"silent\"\n",
    "string3 = \"hello\"\n",
    "string4 = \"world\"\n",
    "\n",
    "# Remove spaces and convert to lowercase for comparison\n",
    "string1 = string1.replace(\" \", \"\").lower()\n",
    "string2 = string2.replace(\" \", \"\").lower()\n",
    "string3 = string3.replace(\" \", \"\").lower()\n",
    "string4 = string4.replace(\" \", \"\").lower()\n",
    "\n",
    "# Check if the sorted characters of both strings are the same\n",
    "are_anagrams1_2 = sorted(string1) == sorted(string2)\n",
    "are_anagrams3_4 = sorted(string3) == sorted(string4)\n",
    "\n",
    "print(f\"Are '{string1}' and '{string2}' anagrams? {are_anagrams1_2}\")  # Output will be True\n",
    "print(f\"Are '{string3}' and '{string4}' anagrams? {are_anagrams3_4}\")  # Output will be False\n"
   ]
  },
  {
   "cell_type": "markdown",
   "id": "daee7daa-e537-48a3-8406-2ddddd8c2bed",
   "metadata": {},
   "source": [
    "Explanation:\n",
    "\n",
    "We define example strings: string1, string2, string3, and string4.\n",
    "\n",
    "We remove spaces and convert all strings to lowercase to ensure case-insensitive comparison.\n",
    "\n",
    "We then check if the sorted characters of both strings are the same using sorted(). If they are, the strings are anagrams.\n",
    "\n",
    "We print the results to indicate whether each pair of strings are anagrams or not.\n",
    "\n"
   ]
  },
  {
   "cell_type": "code",
   "execution_count": 84,
   "id": "e38abbd0-0f16-4310-96c6-2358e51f70e4",
   "metadata": {},
   "outputs": [],
   "source": [
    "# 42) Encode a string using a Caesar cipher."
   ]
  },
  {
   "cell_type": "code",
   "execution_count": 85,
   "id": "5937854d-65a3-4e93-88b5-f77f62d2319c",
   "metadata": {},
   "outputs": [
    {
     "name": "stdout",
     "output_type": "stream",
     "text": [
      "Original: Hello, World!\n",
      "Encoded: Khoor, Zruog!\n"
     ]
    }
   ],
   "source": [
    "# Example plaintext and shift\n",
    "plaintext = \"Hello, World!\"\n",
    "shift = 3\n",
    "\n",
    "encoded_text = \"\"\n",
    "\n",
    "for char in plaintext:\n",
    "    if char.isalpha():\n",
    "        if char.islower():\n",
    "            encoded_char = chr(((ord(char) - ord('a') + shift) % 26) + ord('a'))\n",
    "        else:\n",
    "            encoded_char = chr(((ord(char) - ord('A') + shift) % 26) + ord('A'))\n",
    "    else:\n",
    "        encoded_char = char\n",
    "    encoded_text += encoded_char\n",
    "\n",
    "print(\"Original:\", plaintext)\n",
    "print(\"Encoded:\", encoded_text)\n"
   ]
  },
  {
   "cell_type": "markdown",
   "id": "08287bb3-c31c-4adf-ac03-a827b0cb700b",
   "metadata": {},
   "source": [
    "Explanation:\n",
    "\n",
    "We define an example plaintext that you want to encode using a Caesar cipher.\n",
    "\n",
    "We define a shift value indicating the number of positions each character will be shifted.\n",
    "\n",
    "We initialize an empty string encoded_text to store the encoded result.\n",
    "\n",
    "We iterate through each character in the plaintext.\n",
    "\n",
    "For each alphabetic character, we calculate the new position in the alphabet by shifting it by the given shift value. We handle lowercase and uppercase letters separately.\n",
    "\n",
    "For characters that are not alphabetic, we leave them unchanged.\n",
    "\n",
    "The encoded character is added to the encoded_text string.\n",
    "\n",
    "Finally, we print both the original plaintext and the encoded_text."
   ]
  },
  {
   "cell_type": "code",
   "execution_count": 86,
   "id": "4506fbf3-f1b4-4ef8-88ef-aa4e3ee7b955",
   "metadata": {},
   "outputs": [],
   "source": [
    "# 43) Decode a Caesar cipher encoded string."
   ]
  },
  {
   "cell_type": "code",
   "execution_count": 87,
   "id": "66a10641-79e0-40ca-a9c1-ea41ee84e096",
   "metadata": {},
   "outputs": [
    {
     "name": "stdout",
     "output_type": "stream",
     "text": [
      "Encoded: Khoor, Zruog!\n",
      "Decoded: Hello, World!\n"
     ]
    }
   ],
   "source": [
    "# Example encoded text and shift\n",
    "encoded_text = \"Khoor, Zruog!\"\n",
    "shift = 3\n",
    "\n",
    "decoded_text = \"\"\n",
    "\n",
    "for char in encoded_text:\n",
    "    if char.isalpha():\n",
    "        if char.islower():\n",
    "            decoded_char = chr(((ord(char) - ord('a') - shift) % 26) + ord('a'))\n",
    "        else:\n",
    "            decoded_char = chr(((ord(char) - ord('A') - shift) % 26) + ord('A'))\n",
    "    else:\n",
    "        decoded_char = char\n",
    "    decoded_text += decoded_char\n",
    "\n",
    "print(\"Encoded:\", encoded_text)\n",
    "print(\"Decoded:\", decoded_text)\n"
   ]
  },
  {
   "cell_type": "markdown",
   "id": "fdecde8e-6af7-403f-87c4-54b1c919ba26",
   "metadata": {},
   "source": [
    "Explanation:\n",
    "\n",
    "We define an example encoded_text that you want to decode, assuming it has been encoded using a Caesar cipher.\n",
    "\n",
    "We define a shift value indicating the number of positions each character was shifted during encoding.\n",
    "\n",
    "We initialize an empty string decoded_text to store the decoded result.\n",
    "\n",
    "We iterate through each character in the encoded_text.\n",
    "\n",
    "For each alphabetic character, we calculate the new position in the alphabet by shifting it back by the given shift value. We handle lowercase and uppercase letters separately.\n",
    "\n",
    "For characters that are not alphabetic, we leave them unchanged.\n",
    "\n",
    "The decoded character is added to the decoded_text string.\n",
    "\n",
    "Finally, we print both the original encoded_text and the decoded_text."
   ]
  },
  {
   "cell_type": "code",
   "execution_count": 88,
   "id": "2713cb2b-6d00-4840-ac93-409a00c43cec",
   "metadata": {},
   "outputs": [],
   "source": [
    "# 44) Find the most frequent word in a string."
   ]
  },
  {
   "cell_type": "code",
   "execution_count": 89,
   "id": "674e7a56-94d1-43d8-ad3c-60b0326b6ab9",
   "metadata": {},
   "outputs": [
    {
     "name": "stdout",
     "output_type": "stream",
     "text": [
      "Most frequent word: this\n"
     ]
    }
   ],
   "source": [
    "from collections import Counter\n",
    "import re\n",
    "\n",
    "# Example string\n",
    "text = \"This is a sample string. This is a sample example.\"\n",
    "\n",
    "# Tokenize the string into words\n",
    "words = re.findall(r'\\w+', text.lower())\n",
    "\n",
    "# Count the frequency of each word\n",
    "word_frequency = Counter(words)\n",
    "\n",
    "# Find the most common word\n",
    "most_common_word = word_frequency.most_common(1)[0][0]\n",
    "\n",
    "# Print the most frequent word\n",
    "print(\"Most frequent word:\", most_common_word)\n"
   ]
  },
  {
   "cell_type": "markdown",
   "id": "0eda7fe5-f496-4280-ad65-aee9db1a2854",
   "metadata": {},
   "source": [
    "Explanation:\n",
    "\n",
    "We import the Counter class from the collections module, which is used to count the frequency of items in a collection.\n",
    "\n",
    "We import the re module for regular expression operations.\n",
    "\n",
    "We define an example text that you want to analyze to find the most frequent word.\n",
    "\n",
    "We use the re.findall() method with a regular expression (\\w+) to tokenize the string into words and convert them to lowercase.\n",
    "\n",
    "We use the Counter() class to count the frequency of each word in the words list.\n",
    "\n",
    "We use the most_common() method of the Counter object to find the most common word. The [0][0] indexing is used to extract the word itself from the result.\n",
    "\n",
    "Finally, we print the most frequent word."
   ]
  },
  {
   "cell_type": "code",
   "execution_count": 90,
   "id": "4a4dd0e7-e346-4428-9a3a-5bea5f14cb2d",
   "metadata": {},
   "outputs": [],
   "source": [
    "# 45) Find all unique words in a string."
   ]
  },
  {
   "cell_type": "code",
   "execution_count": 91,
   "id": "4e967545-774c-4def-94d3-c690a5bca7d8",
   "metadata": {},
   "outputs": [
    {
     "name": "stdout",
     "output_type": "stream",
     "text": [
      "Unique words: {'a', 'this', 'is', 'sample', 'example', 'string'}\n"
     ]
    }
   ],
   "source": [
    "# Example string\n",
    "text = \"This is a sample string. This is a sample example.\"\n",
    "\n",
    "# Tokenize the string into words\n",
    "words = text.split()\n",
    "\n",
    "# Create a set to store unique words\n",
    "unique_words = set()\n",
    "\n",
    "# Iterate through the words and add them to the set\n",
    "for word in words:\n",
    "    cleaned_word = word.strip(\".,!?\").lower()  # Remove common punctuation and convert to lowercase\n",
    "    unique_words.add(cleaned_word)\n",
    "\n",
    "# Print the unique words\n",
    "print(\"Unique words:\", unique_words)\n"
   ]
  },
  {
   "cell_type": "markdown",
   "id": "09f441fa-31b3-43ea-8ab2-71d6167a315d",
   "metadata": {},
   "source": [
    "Explanation:\n",
    "\n",
    "We define an example text that you want to analyze to find the unique words.\n",
    "\n",
    "We split the text into words using the default space delimiter.\n",
    "\n",
    "We create an empty set unique_words to store the unique words.\n",
    "\n",
    "We iterate through the words list and perform the following:\n",
    "\n",
    "We remove common punctuation characters (.,!?) from the word using the strip() method.\n",
    "We convert the word to lowercase using .lower() to ensure case-insensitive comparison.\n",
    "We add the cleaned word to the unique_words set.\n",
    "Finally, we print the unique_words.\n",
    "\n"
   ]
  },
  {
   "cell_type": "code",
   "execution_count": 92,
   "id": "0c8b9171-b313-4b67-b832-d76658ec0356",
   "metadata": {},
   "outputs": [],
   "source": [
    "# 46) Count the number of syllables in a string."
   ]
  },
  {
   "cell_type": "code",
   "execution_count": 93,
   "id": "0d4a998f-b3b0-466a-b45f-c5f492080022",
   "metadata": {},
   "outputs": [
    {
     "name": "stdout",
     "output_type": "stream",
     "text": [
      "Word 'Hello' has 2 syllables.\n",
      "Word 'world!' has 1 syllables.\n",
      "Word 'This' has 1 syllables.\n",
      "Word 'is' has 1 syllables.\n",
      "Word 'an' has 1 syllables.\n",
      "Word 'example' has 3 syllables.\n",
      "Word 'sentence.' has 3 syllables.\n"
     ]
    }
   ],
   "source": [
    "# Example string\n",
    "text = \"Hello world! This is an example sentence.\"\n",
    "\n",
    "# Define vowels\n",
    "vowels = \"AEIOUaeiou\"\n",
    "\n",
    "# Tokenize the string into words\n",
    "words = text.split()\n",
    "\n",
    "# Count syllables in each word and print\n",
    "for word in words:\n",
    "    syllables = 0\n",
    "    prev_char_vowel = False\n",
    "\n",
    "    for char in word:\n",
    "        if char in vowels:\n",
    "            if not prev_char_vowel:\n",
    "                syllables += 1\n",
    "            prev_char_vowel = True\n",
    "        else:\n",
    "            prev_char_vowel = False\n",
    "\n",
    "    print(f\"Word '{word}' has {syllables} syllables.\")\n"
   ]
  },
  {
   "cell_type": "markdown",
   "id": "8175156e-288b-48c9-988f-642d4e533d20",
   "metadata": {},
   "source": [
    "Explanation:\n",
    "\n",
    "We define an example text that contains words for which we want to count syllables.\n",
    "\n",
    "We define the string vowels containing all vowel characters.\n",
    "\n",
    "We tokenize the text into words using the default space delimiter.\n",
    "\n",
    "We iterate through the words list and use a loop to count syllables in each word. We keep track of whether the previous character was a vowel or not.\n",
    "\n",
    "For each character in a word, we check if it is a vowel. If it is, and the previous character was not a vowel, we increment the syllables count. We update the prev_char_vowel flag accordingly.\n",
    "\n",
    "Finally, we print the estimated number of syllables for each word."
   ]
  },
  {
   "cell_type": "code",
   "execution_count": 94,
   "id": "63a34ace-e53d-43dd-84bb-57f7fb2d9214",
   "metadata": {},
   "outputs": [],
   "source": [
    "# 47) Check if a string contains any special characters."
   ]
  },
  {
   "cell_type": "code",
   "execution_count": 95,
   "id": "d0b990a2-9f23-4c84-8be4-ae0bbfe5d93d",
   "metadata": {},
   "outputs": [
    {
     "name": "stdout",
     "output_type": "stream",
     "text": [
      "Contains special characters: True\n"
     ]
    }
   ],
   "source": [
    "# Example string\n",
    "text = \"Hello, World!\"\n",
    "\n",
    "# Check if the string contains any special characters\n",
    "contains_special = any(not char.isalnum() for char in text)\n",
    "\n",
    "# Print the result\n",
    "print(\"Contains special characters:\", contains_special)\n"
   ]
  },
  {
   "cell_type": "markdown",
   "id": "4b94bf9d-4aa6-4950-ae45-cb0ec7bb8682",
   "metadata": {},
   "source": [
    "Explanation:\n",
    "\n",
    "We define an example text that you want to check for special characters.\n",
    "\n",
    "We use a generator expression within the any() function to iterate through each character in the string. For each character, we use the isalnum() method to check if it is alphanumeric (a letter or a digit).\n",
    "\n",
    "The not char.isalnum() expression evaluates to True for characters that are not alphanumeric (i.e., special characters).\n",
    "\n",
    "The any() function checks if there is at least one True value in the generator expression, which means at least one special character is present in the string.\n",
    "\n",
    "The result is stored in the contains_special variable.\n",
    "\n",
    "Finally, we print whether the string contains any special characters."
   ]
  },
  {
   "cell_type": "code",
   "execution_count": 96,
   "id": "f95c035f-352e-4853-8bbf-e4387e0557f9",
   "metadata": {},
   "outputs": [],
   "source": [
    "# 48) Remove the nth word from a string."
   ]
  },
  {
   "cell_type": "code",
   "execution_count": 97,
   "id": "0f375fd4-17b0-485e-955c-8f58151bc1a2",
   "metadata": {},
   "outputs": [
    {
     "name": "stdout",
     "output_type": "stream",
     "text": [
      "Original: This is an example string to demonstrate removing words.\n",
      "New: This is an string to demonstrate removing words.\n"
     ]
    }
   ],
   "source": [
    "# Example string\n",
    "text = \"This is an example string to demonstrate removing words.\"\n",
    "\n",
    "# Remove the nth word (index starts from 0)\n",
    "n = 3  # Remove the 4th word (index 3)\n",
    "\n",
    "# Tokenize the string into words\n",
    "words = text.split()\n",
    "\n",
    "# Check if the index is valid\n",
    "if 0 <= n < len(words):\n",
    "    words.pop(n)  # Remove the word at index n\n",
    "\n",
    "# Construct the new string\n",
    "new_text = ' '.join(words)\n",
    "\n",
    "# Print the original and new strings\n",
    "print(\"Original:\", text)\n",
    "print(\"New:\", new_text)\n"
   ]
  },
  {
   "cell_type": "markdown",
   "id": "63726787-ed03-4b7c-b0e9-530066acc749",
   "metadata": {},
   "source": [
    "Explanation:\n",
    "\n",
    "We define an example text that you want to manipulate by removing the nth word.\n",
    "\n",
    "We specify the value of n to indicate which word you want to remove. Note that index numbering starts from 0.\n",
    "\n",
    "We tokenize the text into words using the split() method, which splits the string at spaces by default.\n",
    "\n",
    "We use an if statement to check if the index n is within a valid range (from 0 to the length of words minus 1).\n",
    "\n",
    "If the index is valid, we use the pop() method to remove the word at index n from the words list.\n",
    "\n",
    "We reconstruct the new string by joining the words in the modified words list using the join() method.\n",
    "\n",
    "Finally, we print both the original and the new strings."
   ]
  },
  {
   "cell_type": "code",
   "execution_count": 98,
   "id": "296e2aa1-faf8-4caa-a137-467f81e42600",
   "metadata": {},
   "outputs": [],
   "source": [
    "# 49) Insert a word at the nth position in a string."
   ]
  },
  {
   "cell_type": "code",
   "execution_count": 99,
   "id": "b2f19aac-3fad-46b8-915b-97e3fd2f5b9a",
   "metadata": {},
   "outputs": [
    {
     "name": "stdout",
     "output_type": "stream",
     "text": [
      "Original: This is an example string to demonstrate inserting words.\n",
      "New: This is an new example string to demonstrate inserting words.\n"
     ]
    }
   ],
   "source": [
    "# Example string\n",
    "text = \"This is an example string to demonstrate inserting words.\"\n",
    "\n",
    "# Insert a word at the nth position (index starts from 0)\n",
    "n = 3  # Insert at the 4th position (index 3)\n",
    "new_word = \"new\"\n",
    "\n",
    "# Tokenize the string into words\n",
    "words = text.split()\n",
    "\n",
    "# Check if the index is valid\n",
    "if 0 <= n <= len(words):\n",
    "    words.insert(n, new_word)  # Insert the new word at index n\n",
    "\n",
    "# Construct the new string\n",
    "new_text = ' '.join(words)\n",
    "\n",
    "# Print the original and new strings\n",
    "print(\"Original:\", text)\n",
    "print(\"New:\", new_text)\n"
   ]
  },
  {
   "cell_type": "markdown",
   "id": "89585a7d-386f-45e0-b625-f55e35cf91cc",
   "metadata": {},
   "source": [
    "Explanation:\n",
    "\n",
    "We define an example text that you want to manipulate by inserting a word at the nth position.\n",
    "\n",
    "We specify the value of n to indicate the index at which you want to insert the new word. Note that index numbering starts from 0.\n",
    "\n",
    "We define the new_word that you want to insert at the specified index.\n",
    "\n",
    "We tokenize the text into words using the split() method, which splits the string at spaces by default.\n",
    "\n",
    "We use an if statement to check if the index n is within a valid range (from 0 to the length of words).\n",
    "\n",
    "If the index is valid, we use the insert() method to insert the new_word at index n in the words list.\n",
    "\n",
    "We reconstruct the new string by joining the modified words list using the join() method.\n",
    "\n",
    "Finally, we print both the original and the new strings.\n",
    "\n"
   ]
  },
  {
   "cell_type": "code",
   "execution_count": 100,
   "id": "6e031cd9-fa46-40b6-a86d-fdb05c8ed115",
   "metadata": {},
   "outputs": [],
   "source": [
    "# 50) Convert a CSV string to a list of lists."
   ]
  },
  {
   "cell_type": "code",
   "execution_count": 101,
   "id": "e2dd338a-ac27-45c0-b8ee-bff4edbd6b08",
   "metadata": {},
   "outputs": [
    {
     "name": "stdout",
     "output_type": "stream",
     "text": [
      "['Name', 'Age', 'Location']\n",
      "['Alice', '25', 'New York']\n",
      "['Bob', '30', 'San Francisco']\n",
      "['Charlie', '22', 'Los Angeles']\n"
     ]
    }
   ],
   "source": [
    "import csv\n",
    "from io import StringIO\n",
    "\n",
    "# Example CSV string\n",
    "csv_string = \"Name,Age,Location\\nAlice,25,New York\\nBob,30,San Francisco\\nCharlie,22,Los Angeles\"\n",
    "\n",
    "# Create a StringIO object to simulate a file-like object for the CSV data\n",
    "csv_data = StringIO(csv_string)\n",
    "\n",
    "# Initialize a CSV reader\n",
    "csv_reader = csv.reader(csv_data)\n",
    "\n",
    "# Convert CSV data to a list of lists\n",
    "csv_list = [row for row in csv_reader]\n",
    "\n",
    "# Print the list of lists\n",
    "for row in csv_list:\n",
    "    print(row)\n"
   ]
  },
  {
   "cell_type": "markdown",
   "id": "c5f97d3e-d41a-4273-afd7-45e4c6553170",
   "metadata": {},
   "source": [
    "Explanation:\n",
    "\n",
    "We import the csv module to work with CSV data and the StringIO class from the io module to create a file-like object from the CSV string.\n",
    "\n",
    "We define an example csv_string that you want to convert to a list of lists.\n",
    "\n",
    "We create a StringIO object called csv_data that simulates a file-like object for the CSV data. This is necessary because the csv.reader expects an open file-like object.\n",
    "\n",
    "We initialize a csv_reader using the csv.reader function and pass in the csv_data object.\n",
    "\n",
    "We use a list comprehension to convert the CSV data from the reader into a list of lists called csv_list.\n",
    "\n",
    "Finally, we iterate through the csv_list and print each row."
   ]
  },
  {
   "cell_type": "code",
   "execution_count": null,
   "id": "4f09e2c4-02e0-44c4-b5ac-925153cec4b6",
   "metadata": {},
   "outputs": [],
   "source": []
  },
  {
   "cell_type": "code",
   "execution_count": null,
   "id": "b7f8804d-7f20-410c-9726-bd93ec10dc79",
   "metadata": {},
   "outputs": [],
   "source": []
  },
  {
   "cell_type": "code",
   "execution_count": 102,
   "id": "64b29833-0838-4fd8-b5b6-344f8a78ae85",
   "metadata": {},
   "outputs": [],
   "source": [
    "# TOPIC- LIST BASED PROBLEMS!!"
   ]
  },
  {
   "cell_type": "code",
   "execution_count": 103,
   "id": "4bdb7566-5900-443f-9b93-ead53edaf784",
   "metadata": {},
   "outputs": [],
   "source": [
    "# 1. Create a list with integers from 1 to 10."
   ]
  },
  {
   "cell_type": "code",
   "execution_count": 104,
   "id": "c4ea50b9-360f-46c2-9db0-28b2d59df194",
   "metadata": {},
   "outputs": [
    {
     "name": "stdout",
     "output_type": "stream",
     "text": [
      "[1, 2, 3, 4, 5, 6, 7, 8, 9, 10]\n"
     ]
    }
   ],
   "source": [
    "# Creating a list of integers from 1 to 10\n",
    "integer_list = [1, 2, 3, 4, 5, 6, 7, 8, 9, 10]\n",
    "\n",
    "# Printing the list\n",
    "print(integer_list)\n"
   ]
  },
  {
   "cell_type": "code",
   "execution_count": 105,
   "id": "2d93cc45-2d29-497a-b057-39c7bebabe47",
   "metadata": {},
   "outputs": [],
   "source": [
    "# 2. Find the length of a list without using the `len()` function."
   ]
  },
  {
   "cell_type": "code",
   "execution_count": 106,
   "id": "1cb1c01e-5235-4bdc-b466-b22f7a74ee72",
   "metadata": {},
   "outputs": [
    {
     "name": "stdout",
     "output_type": "stream",
     "text": [
      "Length of the list: 5\n"
     ]
    }
   ],
   "source": [
    "# list\n",
    "my_list = [1, 2, 3, 4, 5]\n",
    "\n",
    "# Use the enumerate() function to generate pairs of index and value for each element\n",
    "# For each pair generated, create a value of 1 using a generator expression\n",
    "# The sum() function then adds up all these 1s, effectively counting the elements\n",
    "length = sum(1 for _ in enumerate(my_list))\n",
    "\n",
    "# Print the length of the list\n",
    "print(\"Length of the list:\", length)\n"
   ]
  },
  {
   "cell_type": "markdown",
   "id": "60fe39d0-f51b-41f4-9616-5b6e8b34429e",
   "metadata": {},
   "source": [
    "Explanation:\n",
    "\n",
    "We start by defining your list, your_list.\n",
    "We use the enumerate() function to generate pairs of index and value for each element in the list.\n",
    "In the generator expression (1 for _ in enumerate(your_list)), we create a value of 1 for each pair generated by enumerate().\n",
    "The sum() function then adds up all these 1s, effectively counting the elements in the list.\n",
    "Finally, we print the length of the list using print()."
   ]
  },
  {
   "cell_type": "code",
   "execution_count": 107,
   "id": "df03f937-adf6-4902-8d2e-3a8ef0a415a1",
   "metadata": {},
   "outputs": [],
   "source": [
    "# 3. Append an element to the end of a list."
   ]
  },
  {
   "cell_type": "code",
   "execution_count": 108,
   "id": "4e6921bf-6e80-4bb7-8478-9fe2bdaa76d8",
   "metadata": {},
   "outputs": [
    {
     "name": "stdout",
     "output_type": "stream",
     "text": [
      "[1, 2, 3, 4, 5]\n"
     ]
    }
   ],
   "source": [
    "# list\n",
    "my_list = [1, 2, 3, 4]\n",
    "\n",
    "# Append an element (e.g., 5) to the end of the list using the append() method\n",
    "my_list.append(5)\n",
    "\n",
    "# Print the modified list to see the result\n",
    "print(my_list)\n"
   ]
  },
  {
   "cell_type": "markdown",
   "id": "084bfd7e-5f97-403a-82b9-5497e71e7880",
   "metadata": {},
   "source": [
    "Explanation in points:\n",
    "\n",
    "We start by defining a list called my_list with some initial elements [1, 2, 3, 4].\n",
    "To add an element to the end of the list, we use the append() method, which is a built-in list method in Python.\n",
    "Inside the append() method, we specify the element we want to add to the end of the list, in this case, 5.\n",
    "After the append() operation, the list my_list will be modified to [1, 2, 3, 4, 5].\n",
    "Finally, we print the modified my_list to verify the result, which will display [1, 2, 3, 4, 5] in this case."
   ]
  },
  {
   "cell_type": "code",
   "execution_count": 109,
   "id": "6eb4c6e2-3c1d-4b06-8574-5cc219c768e4",
   "metadata": {},
   "outputs": [],
   "source": [
    "# 4. Insert an element at a specific index in a list."
   ]
  },
  {
   "cell_type": "code",
   "execution_count": 110,
   "id": "2c07e373-a480-4caf-a759-26ee3601a5f0",
   "metadata": {},
   "outputs": [
    {
     "name": "stdout",
     "output_type": "stream",
     "text": [
      "[1, 2, 5, 3, 4]\n"
     ]
    }
   ],
   "source": [
    "# list\n",
    "my_list = [1, 2, 3, 4]\n",
    "\n",
    "# Insert an element (e.g., 5) at a specific index (e.g., index 2) using the insert() method\n",
    "my_list.insert(2, 5)\n",
    "\n",
    "# Print the modified list to see the result\n",
    "print(my_list)\n"
   ]
  },
  {
   "cell_type": "markdown",
   "id": "bf01485b-3a1a-4119-bd56-c5ddc43ed9c8",
   "metadata": {},
   "source": [
    "Explanation in points:\n",
    "\n",
    "We start by defining a list called my_list with some initial elements [1, 2, 3, 4].\n",
    "To insert an element at a specific index, we use the insert() method, which is a built-in list method in Python.\n",
    "Inside the insert() method, we specify two arguments: the first argument is the index where we want to insert the element (in this case, 2 for index 2), and the second argument is the element we want to insert (in this case, 5).\n",
    "After the insert() operation, the list my_list will be modified to [1, 2, 5, 3, 4], with the element 5 inserted at index 2.\n",
    "Finally, we print the modified my_list to verify the result, which will display [1, 2, 5, 3, 4] in this case."
   ]
  },
  {
   "cell_type": "code",
   "execution_count": 111,
   "id": "8398fb18-04da-46f7-9fb2-a980f3a7313b",
   "metadata": {},
   "outputs": [],
   "source": [
    "# 5. Remove an element from a list by its value."
   ]
  },
  {
   "cell_type": "code",
   "execution_count": 112,
   "id": "e506ebed-a6c7-4e38-b784-73b0de823e47",
   "metadata": {},
   "outputs": [
    {
     "name": "stdout",
     "output_type": "stream",
     "text": [
      "[1, 2, 4, 3]\n"
     ]
    }
   ],
   "source": [
    "# Define a list\n",
    "my_list = [1, 2, 3, 4, 3]\n",
    "\n",
    "# Remove a specific element (e.g., value 3) from the list using the remove() method\n",
    "my_list.remove(3)\n",
    "\n",
    "# Print the modified list to see the result\n",
    "print(my_list)\n"
   ]
  },
  {
   "cell_type": "markdown",
   "id": "676c5a9c-eea9-48d8-acdd-430a8b09ff42",
   "metadata": {},
   "source": [
    "Explantion:\n",
    "    \n",
    "    We start by defining a list called my_list with some initial elements, including the value we want to remove (in this case, [1, 2, 3, 4, 3]).\n",
    "\n",
    "To remove an element from the list by its value, we use the remove() method, which is a built-in list method in Python.\n",
    "\n",
    "Inside the remove() method, we specify the value of the element we want to remove (in this case, 3). The remove() method will remove the first occurrence of the specified value in the list.\n",
    "\n",
    "After the remove() operation, the list my_list will be modified to [1, 2, 4, 3], with the first occurrence of the value 3 removed.\n",
    "\n",
    "Finally, we print the modified my_list to verify the result, which will display [1, 2, 4, 3] in this case."
   ]
  },
  {
   "cell_type": "code",
   "execution_count": 113,
   "id": "d0ccb3d8-a4b8-4241-a187-f5ae15efc9fc",
   "metadata": {},
   "outputs": [],
   "source": [
    "# 6. Remove an element from a list by its index."
   ]
  },
  {
   "cell_type": "code",
   "execution_count": 114,
   "id": "b3d93d20-6f57-445b-ace0-d251f2e8d3c2",
   "metadata": {},
   "outputs": [
    {
     "name": "stdout",
     "output_type": "stream",
     "text": [
      "Modified List: [1, 2, 4]\n",
      "Removed Element: 3\n"
     ]
    }
   ],
   "source": [
    "# Define a list\n",
    "my_list = [1, 2, 3, 4]\n",
    "\n",
    "# Specify the index of the element you want to remove (e.g., index 2)\n",
    "index_to_remove = 2\n",
    "\n",
    "# Use the pop() method to remove the element at the specified index\n",
    "removed_element = my_list.pop(index_to_remove)\n",
    "\n",
    "# Print the modified list and the removed element to see the result\n",
    "print(\"Modified List:\", my_list)\n",
    "print(\"Removed Element:\", removed_element)\n"
   ]
  },
  {
   "cell_type": "markdown",
   "id": "ff0cd75a-0fcc-4804-85b3-5dae182c11f4",
   "metadata": {},
   "source": [
    "Explanation\n",
    "    We start by defining a list called my_list with some initial elements [1, 2, 3, 4].\n",
    "\n",
    "Specify the index of the element you want to remove (in this case, 2 for index 2). Store it in a variable called index_to_remove.\n",
    "\n",
    "Use the pop() method to remove the element at the specified index (index_to_remove) from the list. The pop() method returns the removed element, which we store in a variable called removed_element.\n",
    "\n",
    "After the pop() operation, the list my_list will be modified to [1, 2, 4], with the element at index 2 (which was 3) removed.\n",
    "\n",
    "Finally, we print the modified my_list to verify the result, which will display [1, 2, 4] in this case. We also print the removed_element, which will be 3 in this example."
   ]
  },
  {
   "cell_type": "code",
   "execution_count": 115,
   "id": "9a74ee1c-b155-4688-a1ac-e38acf7b6707",
   "metadata": {},
   "outputs": [],
   "source": [
    "# 7. Check if an element exists in a list."
   ]
  },
  {
   "cell_type": "code",
   "execution_count": 116,
   "id": "b2c85fb7-3892-4026-a812-4c2776763335",
   "metadata": {},
   "outputs": [
    {
     "name": "stdout",
     "output_type": "stream",
     "text": [
      "3 exists in the list.\n"
     ]
    }
   ],
   "source": [
    "# Define a list\n",
    "my_list = [1, 2, 3, 4]\n",
    "\n",
    "# Element to check for existence (e.g., 3)\n",
    "element_to_check = 3\n",
    "\n",
    "# Use the \"in\" keyword to check if the element exists in the list\n",
    "if element_to_check in my_list:\n",
    "    print(f\"{element_to_check} exists in the list.\")\n",
    "else:\n",
    "    print(f\"{element_to_check} does not exist in the list.\")\n"
   ]
  },
  {
   "cell_type": "markdown",
   "id": "e8bb8914-0d5d-41a4-aedd-02e243accdfc",
   "metadata": {},
   "source": [
    "Explanation:\n",
    "    \n",
    "    \n",
    "    We start by defining a list called my_list with some initial elements [1, 2, 3, 4].\n",
    "\n",
    "Specify the element you want to check for existence (in this case, 3 for the element to check). Store it in a variable called element_to_check.\n",
    "\n",
    "Use the in keyword to check if element_to_check exists in the list my_list. If it exists, the program will print a message indicating that the element exists; otherwise, it will print a message indicating that the element does not exist."
   ]
  },
  {
   "cell_type": "code",
   "execution_count": 117,
   "id": "3dfaa637-2f9f-4b85-bce5-ecdda729c9b8",
   "metadata": {},
   "outputs": [],
   "source": [
    "# 8. Find the index of the first occurrence of an element in a list."
   ]
  },
  {
   "cell_type": "code",
   "execution_count": 118,
   "id": "a088424d-9f8c-4589-b4b4-36e3ca8b9d24",
   "metadata": {},
   "outputs": [
    {
     "name": "stdout",
     "output_type": "stream",
     "text": [
      "The index of the first occurrence of 3 is 2\n"
     ]
    }
   ],
   "source": [
    "# Define a list\n",
    "my_list = [1, 2, 3, 4, 3]\n",
    "\n",
    "# Element to find the index of (e.g., value 3)\n",
    "element_to_find = 3\n",
    "\n",
    "# Use the index() method to find the index of the first occurrence of the element\n",
    "index_of_element = my_list.index(element_to_find)\n",
    "\n",
    "# Print the index of the first occurrence\n",
    "print(f\"The index of the first occurrence of {element_to_find} is {index_of_element}\")\n"
   ]
  },
  {
   "cell_type": "markdown",
   "id": "1b064124-7d3a-4fff-a477-a4e80ff832df",
   "metadata": {},
   "source": [
    "Explanation:\n",
    "    \n",
    "    We start by defining a list called my_list with some initial elements, including the value for which we want to find the index (in this case, [1, 2, 3, 4, 3] and element_to_find = 3).\n",
    "\n",
    "Specify the element you want to find the index of (in this case, 3) and store it in a variable called element_to_find.\n",
    "\n",
    "Use the index() method on my_list to find the index of the first occurrence of element_to_find. The index() method returns the index of the first occurrence.\n",
    "\n",
    "After using the index() method, the index_of_element variable will hold the index of the first occurrence of element_to_find.\n",
    "\n",
    "Finally, we print the index of the first occurrence using a formatted string, which will display something like \"The index of the first occurrence of 3 is 2\" in this example.\n",
    "\n",
    "\n",
    "\n",
    "\n",
    "\n",
    "    "
   ]
  },
  {
   "cell_type": "code",
   "execution_count": 119,
   "id": "db5770c8-7963-4977-9fce-0cdefdcd0884",
   "metadata": {},
   "outputs": [],
   "source": [
    "# 9. . Count the occurrences of an element in a list."
   ]
  },
  {
   "cell_type": "code",
   "execution_count": 120,
   "id": "6b952ad3-d2ff-458d-afb4-b2dd95125578",
   "metadata": {},
   "outputs": [
    {
     "name": "stdout",
     "output_type": "stream",
     "text": [
      "The element 3 appears 3 times in the list.\n"
     ]
    }
   ],
   "source": [
    "# Define a list\n",
    "my_list = [1, 2, 3, 4, 3, 2, 3]\n",
    "\n",
    "# Element to count (e.g., value 3)\n",
    "element_to_count = 3\n",
    "\n",
    "# Use the count() method to count the occurrences of the element in the list\n",
    "count_of_element = my_list.count(element_to_count)\n",
    "\n",
    "# Print the count of occurrences\n",
    "print(f\"The element {element_to_count} appears {count_of_element} times in the list.\")\n"
   ]
  },
  {
   "cell_type": "markdown",
   "id": "0bfaa4b9-f631-4d4e-a471-b99254ac4a65",
   "metadata": {},
   "source": [
    "Explanation:\n",
    "    \n",
    "    We start by defining a list called my_list with some initial elements, including the value for which we want to count occurrences (in this case, [1, 2, 3, 4, 3, 2, 3] and element_to_count = 3).\n",
    "\n",
    "Specify the element you want to count (in this case, 3) and store it in a variable called element_to_count.\n",
    "\n",
    "Use the count() method on my_list to count the occurrences of element_to_count. The count() method returns the number of times the element appears in the list.\n",
    "\n",
    "After using the count() method, the count_of_element variable will hold the count of occurrences of element_to_count.\n",
    "\n",
    "Finally, we print the count of occurrences using a formatted string, which will display something like \"The element 3 appears 3 times in the list\" in this example.\n",
    "\n",
    "\n",
    "\n",
    "\n",
    "\n"
   ]
  },
  {
   "cell_type": "code",
   "execution_count": 121,
   "id": "936e18d7-5109-40ff-acad-f386e41cca57",
   "metadata": {},
   "outputs": [],
   "source": [
    "# 10. Reverse the order of elements in a list."
   ]
  },
  {
   "cell_type": "code",
   "execution_count": 122,
   "id": "0a3fc4cb-dfc6-4e82-8cda-78527091f14b",
   "metadata": {},
   "outputs": [
    {
     "name": "stdout",
     "output_type": "stream",
     "text": [
      "Reversed List: [5, 4, 3, 2, 1]\n"
     ]
    }
   ],
   "source": [
    "# Define a list\n",
    "my_list = [1, 2, 3, 4, 5]\n",
    "\n",
    "# Use slicing to reverse the order of elements in the list\n",
    "reversed_list = my_list[::-1]\n",
    "\n",
    "# Print the reversed list to see the result\n",
    "print(\"Reversed List:\", reversed_list)\n"
   ]
  },
  {
   "cell_type": "markdown",
   "id": "c85f3f67-c39c-4558-b9c4-1206e42ef908",
   "metadata": {},
   "source": [
    "Explanation:\n",
    "    \n",
    "    We start by defining a list called my_list with some initial elements [1, 2, 3, 4, 5].\n",
    "\n",
    "To reverse the order of elements, we use slicing. Slicing with [::-1] is a common Python idiom for reversing a list. It means to take all elements (:) with a step of -1 (::-1), effectively reversing the order.\n",
    "\n",
    "We create a new list called reversed_list by applying the slicing operation on my_list.\n",
    "\n",
    "After the slicing operation, the reversed_list variable will contain the elements of my_list in reverse order.\n",
    "\n",
    "Finally, we print the reversed_list to verify the result, which will display [5, 4, 3, 2, 1] in this case, representing the reversed order of elements. Note that the original my_list remains unchanged."
   ]
  },
  {
   "cell_type": "code",
   "execution_count": 123,
   "id": "2073338d-b548-4659-8e0f-2ba47e536e38",
   "metadata": {},
   "outputs": [],
   "source": [
    "# 11. Sort a list in ascending order."
   ]
  },
  {
   "cell_type": "code",
   "execution_count": 124,
   "id": "ad6dce55-de02-49a4-b3b9-4483753bd674",
   "metadata": {},
   "outputs": [
    {
     "name": "stdout",
     "output_type": "stream",
     "text": [
      "Sorted List (ascending order): [1, 1, 2, 3, 3, 4, 5, 5, 5, 6, 9]\n"
     ]
    }
   ],
   "source": [
    "# Define a list\n",
    "my_list = [3, 1, 4, 1, 5, 9, 2, 6, 5, 3, 5]\n",
    "\n",
    "# Use the sorted() function to create a new sorted list in ascending order\n",
    "sorted_list = sorted(my_list)\n",
    "\n",
    "# Print the sorted list\n",
    "print(\"Sorted List (ascending order):\", sorted_list)\n"
   ]
  },
  {
   "cell_type": "markdown",
   "id": "60a3f504-da49-4688-8209-4400593847e8",
   "metadata": {},
   "source": [
    "Explanation:\n",
    "    \n",
    "    Explanation in points:\n",
    "\n",
    "We start by defining a list called my_list with some initial elements.\n",
    "\n",
    "We use the sorted() function on my_list to create a new list called sorted_list that contains the elements in ascending order.\n",
    "\n",
    "The sorted() function does not modify the original list but instead returns a new sorted list.\n",
    "\n",
    "Finally, we print the sorted_list to verify the result, which will display the elements in ascending order."
   ]
  },
  {
   "cell_type": "code",
   "execution_count": 125,
   "id": "10128814-6c3a-4bde-8b44-f856d3520f71",
   "metadata": {},
   "outputs": [],
   "source": [
    "# 12. Sort a list in descending order."
   ]
  },
  {
   "cell_type": "code",
   "execution_count": 126,
   "id": "474721a6-0afa-41ba-9e8d-9afd36c920a5",
   "metadata": {},
   "outputs": [
    {
     "name": "stdout",
     "output_type": "stream",
     "text": [
      "Sorted List (descending order): [9, 6, 5, 5, 5, 4, 3, 3, 2, 1, 1]\n"
     ]
    }
   ],
   "source": [
    "# Define a list\n",
    "my_list = [3, 1, 4, 1, 5, 9, 2, 6, 5, 3, 5]\n",
    "\n",
    "# Use the sort() method with the reverse argument to sort the list in descending order in-place\n",
    "my_list.sort(reverse=True)\n",
    "\n",
    "# Print the modified list, which is now sorted in descending order\n",
    "print(\"Sorted List (descending order):\", my_list)\n"
   ]
  },
  {
   "cell_type": "markdown",
   "id": "06817a84-1c71-4c7c-bd68-48149d271626",
   "metadata": {},
   "source": [
    "Explanation:\n",
    "    \n",
    "    We start by defining a list called my_list with some initial elements.\n",
    "\n",
    "We use the sort() method on my_list with the reverse=True argument to sort the list in descending order in-place. This means that the original list is modified, and there is no need to create a new list.\n",
    "\n",
    "After the sort() operation, my_list will contain the elements sorted in descending order.\n",
    "\n",
    "Finally, we print the modified my_list to verify the result, which will display the elements in descending order."
   ]
  },
  {
   "cell_type": "code",
   "execution_count": 127,
   "id": "185c1bf0-952d-4836-a5a6-5e799f5b9dbb",
   "metadata": {},
   "outputs": [],
   "source": [
    "# 13. Create a list of even numbers from 1 to 20."
   ]
  },
  {
   "cell_type": "code",
   "execution_count": 128,
   "id": "772f592f-6ee9-4211-97e3-1d5e4de0358e",
   "metadata": {},
   "outputs": [
    {
     "name": "stdout",
     "output_type": "stream",
     "text": [
      "[2, 4, 6, 8, 10, 12, 14, 16, 18, 20]\n"
     ]
    }
   ],
   "source": [
    "# Create a list of even numbers from 1 to 20 using list comprehension\n",
    "even_numbers = [x for x in range(1, 21) if x % 2 == 0]\n",
    "\n",
    "# Print the list of even numbers\n",
    "print(even_numbers)\n"
   ]
  },
  {
   "cell_type": "markdown",
   "id": "482686d4-c30e-4749-9504-24b2213f74bf",
   "metadata": {},
   "source": [
    "Explanation:\n",
    "    \n",
    "    We use a list comprehension to generate a list of even numbers.\n",
    "\n",
    "The range(1, 21) function generates numbers from 1 to 20 (inclusive), and x iterates through each number in this range.\n",
    "\n",
    "The if x % 2 == 0 condition checks if the number x is even (i.e., divisible by 2). If it is even, it's included in the list.\n",
    "\n",
    "The resulting list, even_numbers, will contain even numbers from 1 to 20.\n",
    "\n",
    "Finally, we print the even_numbers list, which will display [2, 4, 6, 8, 10, 12, 14, 16, 18, 20], representing the even numbers from 1 to 20."
   ]
  },
  {
   "cell_type": "code",
   "execution_count": 129,
   "id": "f22992f3-e130-4f37-9fa0-f227e4fbfc2e",
   "metadata": {},
   "outputs": [],
   "source": [
    "# 14. Create a list of odd numbers from 1 to 20."
   ]
  },
  {
   "cell_type": "code",
   "execution_count": 130,
   "id": "4c114841-e791-4a66-a291-fe1c1f5605a2",
   "metadata": {},
   "outputs": [
    {
     "name": "stdout",
     "output_type": "stream",
     "text": [
      "[1, 3, 5, 7, 9, 11, 13, 15, 17, 19]\n"
     ]
    }
   ],
   "source": [
    "# Create a list of odd numbers from 1 to 20 using list comprehension\n",
    "odd_numbers = [x for x in range(1, 21) if x % 2 != 0]\n",
    "\n",
    "# Print the list of odd numbers\n",
    "print(odd_numbers)\n"
   ]
  },
  {
   "cell_type": "markdown",
   "id": "40ca5204-2129-4a68-8216-cd379fdba1db",
   "metadata": {},
   "source": [
    "Explanation:\n",
    "    \n",
    "    We use a list comprehension to generate a list of odd numbers.\n",
    "\n",
    "The range(1, 21) function generates numbers from 1 to 20 (inclusive), and x iterates through each number in this range.\n",
    "\n",
    "The if x % 2 != 0 condition checks if the number x is odd (i.e., not divisible by 2). If it is odd, it's included in the list.\n",
    "\n",
    "The resulting list, odd_numbers, will contain odd numbers from 1 to 20.\n",
    "\n",
    "Finally, we print the odd_numbers list, which will display [1, 3, 5, 7, 9, 11, 13, 15, 17, 19], representing the odd numbers from 1 to 20"
   ]
  },
  {
   "cell_type": "code",
   "execution_count": 131,
   "id": "4f55df47-99dc-48a2-a64f-a103e644cd77",
   "metadata": {},
   "outputs": [],
   "source": [
    "# 15. Find the sum of all elements in a list."
   ]
  },
  {
   "cell_type": "code",
   "execution_count": 132,
   "id": "33acb9e3-7ebf-4709-9337-4af6f02cc80f",
   "metadata": {},
   "outputs": [
    {
     "name": "stdout",
     "output_type": "stream",
     "text": [
      "Sum of elements: 15\n"
     ]
    }
   ],
   "source": [
    "# Define a list of numbers\n",
    "my_list = [1, 2, 3, 4, 5]\n",
    "\n",
    "# Use the sum() function to calculate the sum of all elements in the list\n",
    "sum_of_elements = sum(my_list)\n",
    "\n",
    "# Print the sum of the elements\n",
    "print(\"Sum of elements:\", sum_of_elements)\n"
   ]
  },
  {
   "cell_type": "markdown",
   "id": "40a36684-2374-4c5b-8695-d0fe7e666273",
   "metadata": {},
   "source": [
    "Explanation:\n",
    "    \n",
    "    We start by defining a list called my_list containing some numerical elements [1, 2, 3, 4, 5].\n",
    "\n",
    "We use the sum() function to calculate the sum of all elements in the list. The sum() function takes the list as an argument and returns the sum of its elements.\n",
    "\n",
    "The result of the sum() operation is stored in the variable sum_of_elements, which will contain the sum of the numbers in the list.\n",
    "\n",
    "Finally, we print the sum_of_elements variable to display the sum of the elements, which in this case will be 15 (1 + 2 + 3 + 4 + 5)."
   ]
  },
  {
   "cell_type": "code",
   "execution_count": 133,
   "id": "96a15e20-8fe3-4e03-8701-3a9b183815cd",
   "metadata": {},
   "outputs": [],
   "source": [
    "# 16. Find the maximum value in a list."
   ]
  },
  {
   "cell_type": "code",
   "execution_count": 134,
   "id": "3c346f4f-0e80-4580-b304-ad72bdebb965",
   "metadata": {},
   "outputs": [
    {
     "name": "stdout",
     "output_type": "stream",
     "text": [
      "Maximum value: 90\n"
     ]
    }
   ],
   "source": [
    "# Define a list of numbers\n",
    "my_list = [12, 34, 56, 78, 45, 90]\n",
    "\n",
    "# Use the max() function to find the maximum value in the list\n",
    "max_value = max(my_list)\n",
    "\n",
    "# Print the maximum value\n",
    "print(\"Maximum value:\", max_value)\n"
   ]
  },
  {
   "cell_type": "markdown",
   "id": "11fd7ba3-a557-4734-8a21-b06e0284def5",
   "metadata": {},
   "source": [
    "Explanation:\n",
    "    \n",
    "    We start by defining a list called my_list containing some numerical elements [12, 34, 56, 78, 45, 90].\n",
    "\n",
    "We use the max() function to find the maximum value in the list. The max() function takes the list as an argument and returns the maximum value in that list.\n",
    "\n",
    "The result of the max() operation is stored in the variable max_value, which will contain the maximum value from the list.\n",
    "\n",
    "Finally, we print the max_value variable to display the maximum value, which in this case will be 90."
   ]
  },
  {
   "cell_type": "code",
   "execution_count": 135,
   "id": "f489ad44-d165-4799-9f05-f2208db124c1",
   "metadata": {},
   "outputs": [],
   "source": [
    "# 17. Find the minimum value in a list."
   ]
  },
  {
   "cell_type": "code",
   "execution_count": 136,
   "id": "5ccc7563-03f0-4b41-bf0f-0a2e863411b4",
   "metadata": {},
   "outputs": [
    {
     "name": "stdout",
     "output_type": "stream",
     "text": [
      "Minimum value: 12\n"
     ]
    }
   ],
   "source": [
    "# Define a list of numbers\n",
    "my_list = [12, 34, 56, 78, 45, 90]\n",
    "\n",
    "# Use the min() function to find the minimum value in the list\n",
    "min_value = min(my_list)\n",
    "\n",
    "# Print the minimum value\n",
    "print(\"Minimum value:\", min_value)\n"
   ]
  },
  {
   "cell_type": "markdown",
   "id": "efbbe85e-9d35-431e-b405-8828748b7c47",
   "metadata": {},
   "source": [
    "Explanation:\n",
    "    \n",
    "    We start by defining a list called my_list containing some numerical elements [12, 34, 56, 78, 45, 90].\n",
    "\n",
    "We use the min() function to find the minimum value in the list. The min() function takes the list as an argument and returns the minimum value in that list.\n",
    "\n",
    "The result of the min() operation is stored in the variable min_value, which will contain the minimum value from the list.\n",
    "\n",
    "Finally, we print the min_value variable to display the minimum value, which in this case will be 12."
   ]
  },
  {
   "cell_type": "code",
   "execution_count": 137,
   "id": "01294d37-e772-4438-8a4f-8b0553164c47",
   "metadata": {},
   "outputs": [],
   "source": [
    "# 18. Create a list of squares of numbers from 1 to 10."
   ]
  },
  {
   "cell_type": "code",
   "execution_count": 138,
   "id": "287d8e63-d81b-4f37-831d-c5466e935ac8",
   "metadata": {},
   "outputs": [
    {
     "name": "stdout",
     "output_type": "stream",
     "text": [
      "[1, 4, 9, 16, 25, 36, 49, 64, 81, 100]\n"
     ]
    }
   ],
   "source": [
    "# Create a list of squares of numbers from 1 to 10 using list comprehension\n",
    "squares = [x ** 2 for x in range(1, 11)]\n",
    "\n",
    "# Print the list of squares\n",
    "print(squares)\n"
   ]
  },
  {
   "cell_type": "markdown",
   "id": "8bdb6a00-fe50-4f9e-b782-1af315ed62a5",
   "metadata": {},
   "source": [
    "Explanation:\n",
    "    \n",
    "    We use a list comprehension to generate a list of squares of numbers.\n",
    "\n",
    "The range(1, 11) function generates numbers from 1 to 10 (inclusive), and x iterates through each number in this range.\n",
    "\n",
    "In the list comprehension, we calculate the square of each number by using the exponentiation operator **.\n",
    "\n",
    "The resulting list, squares, will contain the squares of numbers from 1 to 10.\n",
    "\n",
    "Finally, we print the squares list, which will display [1, 4, 9, 16, 25, 36, 49, 64, 81, 100], representing the squares of numbers from 1 to 10."
   ]
  },
  {
   "cell_type": "code",
   "execution_count": 139,
   "id": "ab849da8-4f33-4807-a9ca-590d1a7c6f2e",
   "metadata": {},
   "outputs": [],
   "source": [
    "# 19. Create a list of random numbers."
   ]
  },
  {
   "cell_type": "code",
   "execution_count": 140,
   "id": "a9b53285-42c5-489e-82a8-0900b45970c9",
   "metadata": {},
   "outputs": [
    {
     "name": "stdout",
     "output_type": "stream",
     "text": [
      "List of random numbers: [86, 22, 85, 79, 79, 31, 42, 42, 29, 9]\n"
     ]
    }
   ],
   "source": [
    "import random\n",
    "\n",
    "# Define the number of random numbers you want in the list\n",
    "num_random_numbers = 10  # You can change this to the desired number\n",
    "\n",
    "# Create a list of random numbers using list comprehension\n",
    "random_numbers = [random.randint(1, 100) for _ in range(num_random_numbers)]\n",
    "\n",
    "# Print the list of random numbers\n",
    "print(\"List of random numbers:\", random_numbers)\n"
   ]
  },
  {
   "cell_type": "markdown",
   "id": "00156743-a9cc-4106-b40e-a3238927ff2c",
   "metadata": {},
   "source": [
    "Explanation:\n",
    "    \n",
    "    We first import the random module, which provides functions for generating random numbers.\n",
    "\n",
    "Specify the number of random numbers you want in the list using the num_random_numbers variable. You can change this variable to control the number of random numbers in the list.\n",
    "\n",
    "We use a list comprehension to generate num_random_numbers random integers between 1 and 100 (you can adjust the range as needed) and store them in the random_numbers list.\n",
    "\n",
    "Finally, we print the random_numbers list, which will contain the specified number of random integers.\n",
    "\n"
   ]
  },
  {
   "cell_type": "code",
   "execution_count": 141,
   "id": "629aada4-99e9-4651-9fd9-3ed9e1b88007",
   "metadata": {},
   "outputs": [],
   "source": [
    "# 20. Remove duplicates from a list."
   ]
  },
  {
   "cell_type": "code",
   "execution_count": 142,
   "id": "4be884c8-74d8-473b-bcf8-0dfb614989b6",
   "metadata": {},
   "outputs": [
    {
     "name": "stdout",
     "output_type": "stream",
     "text": [
      "List with duplicates removed: [1, 2, 3, 4, 5, 6, 7]\n"
     ]
    }
   ],
   "source": [
    "# Define a list with duplicates\n",
    "my_list = [1, 2, 2, 3, 4, 4, 5, 6, 6, 7]\n",
    "\n",
    "# Remove duplicates by converting the list to a set and back to a list\n",
    "unique_list = list(set(my_list))\n",
    "\n",
    "# unique_list now contains the elements with duplicates removed\n",
    "print(\"List with duplicates removed:\", unique_list)\n"
   ]
  },
  {
   "cell_type": "markdown",
   "id": "2285dd86-6158-47da-932b-15390d00bea8",
   "metadata": {},
   "source": [
    "Explanation:\n",
    "    \n",
    "    We start with a list called my_list that contains duplicate elements.\n",
    "\n",
    "To remove duplicates, we convert my_list to a set using set(my_list). A set is an unordered collection of unique elements, which automatically removes duplicates.\n",
    "\n",
    "We then convert the resulting set back to a list using list(). This step is necessary if you want to maintain the elements in list format.\n",
    "\n",
    "After this process, unique_list contains the elements with duplicates removed.\n",
    "\n",
    "Finally, we print unique_list, which will display the list with duplicates removed."
   ]
  },
  {
   "cell_type": "code",
   "execution_count": 143,
   "id": "951c3a1c-7449-4568-ac13-2d099e0fbf1a",
   "metadata": {},
   "outputs": [],
   "source": [
    "# 21. Find the common elements between two lists."
   ]
  },
  {
   "cell_type": "code",
   "execution_count": 144,
   "id": "0fbff4a1-f401-474f-bbd9-1314883a7521",
   "metadata": {},
   "outputs": [
    {
     "name": "stdout",
     "output_type": "stream",
     "text": [
      "Common elements: [3, 4, 5]\n"
     ]
    }
   ],
   "source": [
    "# Define two lists\n",
    "list1 = [1, 2, 3, 4, 5]\n",
    "list2 = [3, 4, 5, 6, 7]\n",
    "\n",
    "# Convert the lists to sets\n",
    "set1 = set(list1)\n",
    "set2 = set(list2)\n",
    "\n",
    "# Find the common elements using the intersection method\n",
    "common_elements = set1.intersection(set2)\n",
    "\n",
    "# Convert the result back to a list\n",
    "common_elements_list = list(common_elements)\n",
    "\n",
    "# Print the list of common elements\n",
    "print(\"Common elements:\", common_elements_list)\n"
   ]
  },
  {
   "cell_type": "markdown",
   "id": "d5a54e2b-7345-4f0b-8a54-2fcb28b38943",
   "metadata": {},
   "source": [
    "Explanation:\n",
    "    \n",
    "    We start by defining two lists, list1 and list2, each containing some elements.\n",
    "\n",
    "To find the common elements, we convert both lists to sets using set(list1) and set(list2).\n",
    "\n",
    "We then use the intersection method on set1 to find the elements that are common to both sets. This method returns a new set containing the common elements.\n",
    "\n",
    "To convert the result back to a list (if needed), we use list(common_elements).\n",
    "\n",
    "Finally, we print common_elements_list, which will display the common elements between list1 and list2. In this example, it will be [3, 4, 5].\n",
    "    "
   ]
  },
  {
   "cell_type": "code",
   "execution_count": 145,
   "id": "d23e1244-fdd1-497c-963b-bd60cb92589a",
   "metadata": {},
   "outputs": [],
   "source": [
    "# 22. Find the difference between two lists."
   ]
  },
  {
   "cell_type": "code",
   "execution_count": 146,
   "id": "677c5efa-e344-4aae-96b8-a2beda33dda6",
   "metadata": {},
   "outputs": [
    {
     "name": "stdout",
     "output_type": "stream",
     "text": [
      "Difference (list1 - list2): [1, 2]\n"
     ]
    }
   ],
   "source": [
    "# Define two lists\n",
    "list1 = [1, 2, 3, 4, 5]\n",
    "list2 = [3, 4, 5, 6, 7]\n",
    "\n",
    "# Convert the lists to sets\n",
    "set1 = set(list1)\n",
    "set2 = set(list2)\n",
    "\n",
    "# Find the elements in list1 that are not in list2\n",
    "difference = set1.difference(set2)\n",
    "\n",
    "# Convert the result back to a list\n",
    "difference_list = list(difference)\n",
    "\n",
    "# Print the list of elements in list1 but not in list2\n",
    "print(\"Difference (list1 - list2):\", difference_list)\n"
   ]
  },
  {
   "cell_type": "markdown",
   "id": "5d16438a-9728-4339-9a2d-ea73f33e3c73",
   "metadata": {},
   "source": [
    "Explanation:\n",
    "    \n",
    "    We start by defining two lists, list1 and list2, each containing some elements.\n",
    "\n",
    "To find the difference between list1 and list2, we convert both lists to sets using set(list1) and set(list2).\n",
    "\n",
    "We use the difference() method on set1 to find the elements that are in set1 but not in set2. This method returns a new set containing the difference.\n",
    "\n",
    "To convert the result back to a list (if needed), we use list(difference).\n",
    "\n",
    "Finally, we print difference_list, which will display the elements that are in list1 but not in list2."
   ]
  },
  {
   "cell_type": "code",
   "execution_count": 147,
   "id": "6163fcc1-ef34-4dce-a617-0133d09b63b5",
   "metadata": {},
   "outputs": [],
   "source": [
    "# 23. Merge two lists."
   ]
  },
  {
   "cell_type": "code",
   "execution_count": 148,
   "id": "35e74822-65db-4245-bd93-99bf7285bf01",
   "metadata": {},
   "outputs": [
    {
     "name": "stdout",
     "output_type": "stream",
     "text": [
      "Merged List: [1, 2, 3, 4, 5, 6]\n"
     ]
    }
   ],
   "source": [
    "# Define two lists to merge\n",
    "list1 = [1, 2, 3]\n",
    "list2 = [4, 5, 6]\n",
    "\n",
    "# Merge the lists using the extend() method\n",
    "list1.extend(list2)\n",
    "\n",
    "# The merged elements are added to list1; list2 remains unchanged\n",
    "# Print list1, which now contains the merged elements\n",
    "print(\"Merged List:\", list1)\n"
   ]
  },
  {
   "cell_type": "markdown",
   "id": "283e5200-13c4-40e0-9a1b-08f4237b6c74",
   "metadata": {},
   "source": [
    "Explanation:\n",
    "    \n",
    "    We start by defining two lists, list1 and list2, each containing some elements.\n",
    "\n",
    "To merge the lists using the + operator, we simply use list1 + list2, which creates a new list containing all elements from both lists.\n",
    "\n",
    "To merge the lists using the extend() method, we use list1.extend(list2). This method adds the elements from list2 to the end of list1. The list2 remains unchanged.\n",
    "\n",
    "In both cases, the merged list is stored in the merged_list variable or added to list1, depending on the method used.\n",
    "\n",
    "Finally, we print the merged list to see the result."
   ]
  },
  {
   "cell_type": "code",
   "execution_count": 149,
   "id": "8a9c01cd-7a97-4584-81bf-6b61f30344f6",
   "metadata": {},
   "outputs": [],
   "source": [
    "# 24. Multiply all elements in a list by 2."
   ]
  },
  {
   "cell_type": "code",
   "execution_count": 150,
   "id": "3a1dd66b-651c-4ba5-ba27-0e61d427ddf6",
   "metadata": {},
   "outputs": [
    {
     "name": "stdout",
     "output_type": "stream",
     "text": [
      "Doubled List: [2, 4, 6, 8, 10]\n"
     ]
    }
   ],
   "source": [
    "# Define a list\n",
    "my_list = [1, 2, 3, 4, 5]\n",
    "\n",
    "# Multiply all elements in the list by 2 using list comprehension\n",
    "doubled_list = [x * 2 for x in my_list]\n",
    "\n",
    "# Print the doubled list\n",
    "print(\"Doubled List:\", doubled_list)\n"
   ]
  },
  {
   "cell_type": "markdown",
   "id": "4d9c6777-e68a-4402-8999-4954dd56498c",
   "metadata": {},
   "source": [
    "Explanation:\n",
    "    \n",
    "    We start by defining a list called my_list containing some numerical elements [1, 2, 3, 4, 5].\n",
    "\n",
    "To multiply all elements in the list by 2, we use a list comprehension. In the comprehension, x iterates through each element in my_list, and we calculate x * 2 to double each element.\n",
    "\n",
    "The resulting list, doubled_list, will contain all the elements from my_list, but each element will be multiplied by 2.\n",
    "\n",
    "Finally, we print doubled_list, which will display [2, 4, 6, 8, 10], representing the original list with all elements multiplied by 2.\n",
    "\n",
    "\n",
    "\n",
    "\n",
    "\n"
   ]
  },
  {
   "cell_type": "code",
   "execution_count": 151,
   "id": "7bc536b7-8f81-442d-8722-3ffb7f44e799",
   "metadata": {},
   "outputs": [],
   "source": [
    "# 25. Filter out all even numbers from a list."
   ]
  },
  {
   "cell_type": "code",
   "execution_count": 152,
   "id": "2ae3b98e-0610-4082-b026-a107f16499e2",
   "metadata": {},
   "outputs": [
    {
     "name": "stdout",
     "output_type": "stream",
     "text": [
      "Filtered List (odd numbers only): [1, 3, 5, 7, 9]\n"
     ]
    }
   ],
   "source": [
    "# Define a list\n",
    "my_list = [1, 2, 3, 4, 5, 6, 7, 8, 9, 10]\n",
    "\n",
    "# Filter out all even numbers from the list using list comprehension\n",
    "filtered_list = [x for x in my_list if x % 2 != 0]\n",
    "\n",
    "# Print the filtered list\n",
    "print(\"Filtered List (odd numbers only):\", filtered_list)\n"
   ]
  },
  {
   "cell_type": "markdown",
   "id": "4da1efa1-41af-451f-9dd2-1fd93e3c3254",
   "metadata": {},
   "source": [
    "Explanation:\n",
    "    \n",
    "    We start by defining a list called my_list containing some numerical elements [1, 2, 3, 4, 5, 6, 7, 8, 9, 10].\n",
    "\n",
    "To filter out all even numbers from the list, we use a list comprehension. In the comprehension, x iterates through each element in my_list.\n",
    "\n",
    "We include a condition if x % 2 != 0 in the list comprehension. This condition checks if the current element x is not even (i.e., has a remainder when divided by 2).\n",
    "\n",
    "The resulting list, filtered_list, will contain only the elements from my_list that are not even, effectively filtering out the even numbers.\n",
    "\n",
    "Finally, we print filtered_list, which will display [1, 3, 5, 7, 9], representing the original list with all even numbers filtered out."
   ]
  },
  {
   "cell_type": "code",
   "execution_count": 153,
   "id": "193b47e6-38b5-4c91-8b65-992ffbcad96e",
   "metadata": {},
   "outputs": [],
   "source": [
    "# 26. Convert a list of strings to a list of integers."
   ]
  },
  {
   "cell_type": "code",
   "execution_count": 154,
   "id": "e3b2bb4d-c2de-430f-a903-29e8e305645d",
   "metadata": {},
   "outputs": [
    {
     "name": "stdout",
     "output_type": "stream",
     "text": [
      "List of Integers: [1, 2, 3, 4, 5]\n"
     ]
    }
   ],
   "source": [
    "# Define a list of strings\n",
    "string_list = [\"1\", \"2\", \"3\", \"4\", \"5\"]\n",
    "\n",
    "# Convert the list of strings to a list of integers using list comprehension\n",
    "int_list = [int(x) for x in string_list]\n",
    "\n",
    "# Print the list of integers\n",
    "print(\"List of Integers:\", int_list)\n"
   ]
  },
  {
   "cell_type": "markdown",
   "id": "c70aa492-4417-48e2-8396-cfb39cf58d8b",
   "metadata": {},
   "source": [
    "Explanation:\n",
    "    \n",
    "    We start by defining a list called string_list containing string elements [\"1\", \"2\", \"3\", \"4\", \"5\"].\n",
    "\n",
    "To convert the list of strings to a list of integers, we use a list comprehension. In the comprehension, x iterates through each string element in string_list.\n",
    "\n",
    "Inside the list comprehension, we use the int() function to cast each string element x to an integer.\n",
    "\n",
    "The resulting list, int_list, will contain the same elements as string_list, but they will be integers instead of strings.\n",
    "\n",
    "Finally, we print int_list, which will display [1, 2, 3, 4, 5], representing the list of integers obtained from the original list of strings."
   ]
  },
  {
   "cell_type": "code",
   "execution_count": 155,
   "id": "3b63111a-5bec-4a6d-90d9-7eb4a7db0a9c",
   "metadata": {},
   "outputs": [],
   "source": [
    "# 27. Convert a list of integers to a list of strings."
   ]
  },
  {
   "cell_type": "code",
   "execution_count": 156,
   "id": "d373e658-c902-48ff-9267-c9b79b12d756",
   "metadata": {},
   "outputs": [
    {
     "name": "stdout",
     "output_type": "stream",
     "text": [
      "List of Strings: ['1', '2', '3', '4', '5']\n"
     ]
    }
   ],
   "source": [
    "# Define a list of integers\n",
    "int_list = [1, 2, 3, 4, 5]\n",
    "\n",
    "# Convert the list of integers to a list of strings using list comprehension\n",
    "string_list = [str(x) for x in int_list]\n",
    "\n",
    "# Print the list of strings\n",
    "print(\"List of Strings:\", string_list)\n"
   ]
  },
  {
   "cell_type": "markdown",
   "id": "d14acda8-263b-46ce-904e-309a22dfa016",
   "metadata": {},
   "source": [
    "Explanation:\n",
    "    \n",
    "    We start by defining a list called int_list containing integer elements [1, 2, 3, 4, 5].\n",
    "\n",
    "To convert the list of integers to a list of strings, we use a list comprehension. In the comprehension, x iterates through each integer element in int_list.\n",
    "\n",
    "Inside the list comprehension, we use the str() function to cast each integer element x to a string.\n",
    "\n",
    "The resulting list, string_list, will contain the same elements as int_list, but they will be strings instead of integers.\n",
    "\n",
    "Finally, we print string_list, which will display [\"1\", \"2\", \"3\", \"4\", \"5\"], representing the list of strings obtained from the original list of integers."
   ]
  },
  {
   "cell_type": "code",
   "execution_count": 157,
   "id": "a4f12216-84be-4d0d-bb66-2ca5d78d9a1d",
   "metadata": {},
   "outputs": [],
   "source": [
    "# 28. Flatten a nested list."
   ]
  },
  {
   "cell_type": "code",
   "execution_count": 158,
   "id": "1c2af246-cf94-4f70-9f4b-80c7f34969d9",
   "metadata": {},
   "outputs": [
    {
     "name": "stdout",
     "output_type": "stream",
     "text": [
      "Flattened List: [1, 7, 4, 5, 6, 2, 3]\n"
     ]
    }
   ],
   "source": [
    "# Define a nested list\n",
    "nested_list = [1, [2, 3], [4, [5, 6]], 7]\n",
    "\n",
    "# Initialize an empty list to store flattened elements\n",
    "flat_list = []\n",
    "\n",
    "# Initialize a stack with the nested list\n",
    "stack = [nested_list]\n",
    "\n",
    "while stack:\n",
    "    current = stack.pop()\n",
    "    for item in current:\n",
    "        if isinstance(item, list):\n",
    "            stack.append(item)\n",
    "        else:\n",
    "            flat_list.append(item)\n",
    "\n",
    "# Print the flattened list\n",
    "print(\"Flattened List:\", flat_list)\n"
   ]
  },
  {
   "cell_type": "markdown",
   "id": "70cb38b0-77bb-40ed-9ca8-6794f8a5ae7d",
   "metadata": {},
   "source": [
    "Explanation:\n",
    "    \n",
    "    We start by defining a nested list called nested_list containing various elements, including sublists.\n",
    "\n",
    "We initialize an empty list called flat_list to store the flattened elements.\n",
    "\n",
    "We initialize a stack called stack with the nested_list as its initial element.\n",
    "\n",
    "We use a while loop that continues as long as the stack is not empty.\n",
    "\n",
    "Inside the loop, we pop the last element from the stack and assign it to current.\n",
    "\n",
    "We iterate through each item in current. If an item is a list, we push it onto the stack. If it's not a list, we append it to the flat_list.\n",
    "\n",
    "The loop continues until all elements are processed, resulting in the flat_list containing all elements from the nested list in a flattened structure.\n",
    "\n",
    "Finally, we print flat_list, which will display [1, 2, 3, 4, 5, 6, 7], representing the flattened list."
   ]
  },
  {
   "cell_type": "code",
   "execution_count": 159,
   "id": "c97d71cd-e7e2-412e-85ed-d1f8a57c63f0",
   "metadata": {},
   "outputs": [],
   "source": [
    "# 29. Create a list of the first 10 Fibonacci numbers."
   ]
  },
  {
   "cell_type": "code",
   "execution_count": 160,
   "id": "72acacc9-24b3-4450-8ea1-619e5ea4c551",
   "metadata": {},
   "outputs": [
    {
     "name": "stdout",
     "output_type": "stream",
     "text": [
      "First 10 Fibonacci Numbers: [0, 1, 1, 2, 3, 5, 8, 13, 21, 34]\n"
     ]
    }
   ],
   "source": [
    "# Initialize the first two Fibonacci numbers\n",
    "fibonacci_list = [0, 1]\n",
    "\n",
    "# Generate the next 8 Fibonacci numbers\n",
    "for i in range(2, 10):\n",
    "    next_fibonacci = fibonacci_list[i - 1] + fibonacci_list[i - 2]\n",
    "    fibonacci_list.append(next_fibonacci)\n",
    "\n",
    "# Print the list of the first 10 Fibonacci numbers\n",
    "print(\"First 10 Fibonacci Numbers:\", fibonacci_list)\n"
   ]
  },
  {
   "cell_type": "markdown",
   "id": "4b14ce9f-4a3a-4dea-a655-66e1f93a14bd",
   "metadata": {},
   "source": [
    "Explanation:\n",
    "    \n",
    "    We start by initializing a list called fibonacci_list with the first two Fibonacci numbers, [0, 1].\n",
    "\n",
    "We use a for loop to generate the next 8 Fibonacci numbers. The loop starts from i = 2 because the first two Fibonacci numbers are already in the list.\n",
    "\n",
    "In each iteration, we calculate the next Fibonacci number (next_fibonacci) by adding the last two Fibonacci numbers in the list (fibonacci_list[i - 1] and fibonacci_list[i - 2]).\n",
    "\n",
    "We append the next_fibonacci to the fibonacci_list.\n",
    "\n",
    "After the loop, fibonacci_list contains the first 10 Fibonacci numbers.\n",
    "\n",
    "Finally, we print fibonacci_list, which will display [0, 1, 1, 2, 3, 5, 8, 13, 21, 34], representing the first 10 Fibonacci numbers."
   ]
  },
  {
   "cell_type": "code",
   "execution_count": 161,
   "id": "c3e2bd04-230e-4d50-ba9b-e0ec75ac1c21",
   "metadata": {},
   "outputs": [],
   "source": [
    "# 30. Check if a list is sorted."
   ]
  },
  {
   "cell_type": "code",
   "execution_count": 162,
   "id": "5bd966c2-40a6-4d71-bae2-1ce1d3230def",
   "metadata": {},
   "outputs": [
    {
     "name": "stdout",
     "output_type": "stream",
     "text": [
      "The list is sorted in ascending order.\n"
     ]
    }
   ],
   "source": [
    "# Define a list\n",
    "my_list = [1, 2, 3, 4, 5]\n",
    "\n",
    "# Check if the list is sorted in ascending order without using loops\n",
    "is_sorted = my_list == sorted(my_list)\n",
    "\n",
    "# Print the result\n",
    "if is_sorted:\n",
    "    print(\"The list is sorted in ascending order.\")\n",
    "else:\n",
    "    print(\"The list is not sorted in ascending order.\")\n"
   ]
  },
  {
   "cell_type": "markdown",
   "id": "82b71f2c-a46a-43e1-a3af-75794b8ff699",
   "metadata": {},
   "source": [
    "Explanation:\n",
    "    \n",
    "    We start by defining a list called my_list containing some elements.\n",
    "\n",
    "To check if the list is sorted in ascending order without using loops, we compare my_list with the result of sorted(my_list). The sorted() function returns a new sorted list.\n",
    "\n",
    "If my_list is equal to the sorted version of itself, is_sorted will be True, indicating that the list is sorted in ascending order.\n",
    "\n",
    "Finally, we print the result based on the value of is_sorted."
   ]
  },
  {
   "cell_type": "code",
   "execution_count": 163,
   "id": "8d40e1b7-5e5b-46eb-880c-2d3632c9f8b6",
   "metadata": {},
   "outputs": [],
   "source": [
    "# 31. Rotate a list to the left by `n` positions."
   ]
  },
  {
   "cell_type": "code",
   "execution_count": 164,
   "id": "e96a264d-3318-40e4-8d08-39af88a013dd",
   "metadata": {},
   "outputs": [
    {
     "name": "stdout",
     "output_type": "stream",
     "text": [
      "Rotated List: [3, 4, 5, 1, 2]\n"
     ]
    }
   ],
   "source": [
    "# Define a list\n",
    "my_list = [1, 2, 3, 4, 5]\n",
    "\n",
    "# Number of positions to rotate left\n",
    "n = 2  # You can change this to the desired number of positions\n",
    "\n",
    "# Rotate the list to the left by n positions using list slicing\n",
    "rotated_list = my_list[n:] + my_list[:n]\n",
    "\n",
    "# Print the rotated list\n",
    "print(\"Rotated List:\", rotated_list)\n"
   ]
  },
  {
   "cell_type": "markdown",
   "id": "aaaebded-2484-4e52-bd13-2e253cabc2b5",
   "metadata": {},
   "source": [
    "Explanation:\n",
    "    \n",
    "    We start by defining a list called my_list containing some elements.\n",
    "\n",
    "We specify the number of positions to rotate the list to the left using the variable n. You can change the value of n to rotate by a different number of positions.\n",
    "\n",
    "To rotate the list to the left by n positions, we use list slicing. The expression my_list[n:] selects all elements in my_list starting from the n-th position to the end. The expression my_list[:n] selects all elements from the beginning up to the n-th position.\n",
    "\n",
    "We concatenate these two sliced lists using + to obtain the rotated list rotated_list.\n",
    "\n",
    "Finally, we print rotated_list, which will display the list after rotating it to the left by n positions."
   ]
  },
  {
   "cell_type": "code",
   "execution_count": 165,
   "id": "198cc4e9-5df9-4395-b691-0a3ebccb9ee2",
   "metadata": {},
   "outputs": [],
   "source": [
    "# 32. Rotate a list to the right by `n` positions."
   ]
  },
  {
   "cell_type": "code",
   "execution_count": 166,
   "id": "30a4ed59-3ec0-4df4-85b3-ec6851a33593",
   "metadata": {},
   "outputs": [
    {
     "name": "stdout",
     "output_type": "stream",
     "text": [
      "Rotated List: [4, 5, 1, 2, 3]\n"
     ]
    }
   ],
   "source": [
    "# Define a list\n",
    "my_list = [1, 2, 3, 4, 5]\n",
    "\n",
    "# Number of positions to rotate right\n",
    "n = 2  # You can change this to the desired number of positions\n",
    "\n",
    "# Calculate the effective rotation position\n",
    "n = n % len(my_list)\n",
    "\n",
    "# Rotate the list to the right by n positions using list slicing\n",
    "rotated_list = my_list[-n:] + my_list[:-n]\n",
    "\n",
    "# Print the rotated list\n",
    "print(\"Rotated List:\", rotated_list)\n"
   ]
  },
  {
   "cell_type": "markdown",
   "id": "f4a87de6-2717-4fdc-9929-2a061be50d32",
   "metadata": {},
   "source": [
    "Explanation:\n",
    "    \n",
    "    We start by defining a list called my_list containing some elements.\n",
    "\n",
    "We specify the number of positions to rotate the list to the right using the variable n. You can change the value of n to rotate by a different number of positions.\n",
    "\n",
    "To ensure that the rotation is effective even if n is larger than the length of the list, we calculate n as n % len(my_list). This ensures that n is within the range of the list's length.\n",
    "\n",
    "To rotate the list to the right by n positions, we use list slicing. The expression my_list[-n:] selects the last n elements in my_list, and the expression my_list[:-n] selects all elements from the beginning up to the last n elements.\n",
    "\n",
    "We concatenate these two sliced lists using + to obtain the rotated list rotated_list.\n",
    "\n",
    "Finally, we print rotated_list, which will display the list after rotating it to the right by n positions.\n",
    "\n",
    "In the example provided, if n is set to 2, the result will be [4, 5, 1, 2, 3] because the list has been rotated to the right by 2 positions.\n",
    "\n",
    "\n",
    "\n",
    "\n",
    "\n"
   ]
  },
  {
   "cell_type": "code",
   "execution_count": 167,
   "id": "4bbf0f94-de4c-4480-9665-6915213dfafb",
   "metadata": {},
   "outputs": [],
   "source": [
    "# 33. Create a list of prime numbers up to 50"
   ]
  },
  {
   "cell_type": "code",
   "execution_count": 168,
   "id": "71796322-9c28-488c-80e9-5ec162e6bfbd",
   "metadata": {},
   "outputs": [
    {
     "name": "stdout",
     "output_type": "stream",
     "text": [
      "Prime Numbers up to 50: [2, 3, 5, 7, 11, 13, 17, 19, 23, 29, 31, 37, 41, 43, 47]\n"
     ]
    }
   ],
   "source": [
    "# Create a list of prime numbers up to 50\n",
    "prime_numbers = []\n",
    "\n",
    "# Loop through numbers from 2 to 50 and check for prime\n",
    "for num in range(2, 51):\n",
    "    is_prime = True\n",
    "    for i in range(2, int(num**0.5) + 1):\n",
    "        if num % i == 0:\n",
    "            is_prime = False\n",
    "            break\n",
    "    if is_prime:\n",
    "        prime_numbers.append(num)\n",
    "\n",
    "# Print the list of prime numbers\n",
    "print(\"Prime Numbers up to 50:\", prime_numbers)\n"
   ]
  },
  {
   "cell_type": "markdown",
   "id": "ee8c616d-e146-4bcd-9f31-c41f9b48ea49",
   "metadata": {},
   "source": [
    "Explanation:\n",
    "    \n",
    "    We initialize an empty list called prime_numbers to store the prime numbers we find.\n",
    "\n",
    "We use a for loop to iterate through numbers from 2 to 50 (inclusive). These are the numbers we want to check for primality and potentially include in the list if they are prime.\n",
    "\n",
    "Inside the loop, we initialize a boolean variable is_prime to True to assume that the current number is prime initially.\n",
    "\n",
    "We then use another for loop to check divisibility from 2 up to the square root of the current number (int(num**0.5) + 1). If we find a divisor, we set is_prime to False and break out of the loop.\n",
    "\n",
    "After the inner loop finishes, if is_prime is still True, it means the current number is prime, so we append it to the prime_numbers list.\n",
    "\n",
    "Finally, we print prime_numbers, which will display the list of prime numbers up to 50.\n",
    "    "
   ]
  },
  {
   "cell_type": "code",
   "execution_count": 169,
   "id": "215f6501-5e02-4250-95a2-b1796471ae0b",
   "metadata": {},
   "outputs": [],
   "source": [
    "# 34. Split a list into chunks of size `n`."
   ]
  },
  {
   "cell_type": "code",
   "execution_count": 170,
   "id": "bc47dbeb-89ca-4ac3-bbde-b45401ceadd5",
   "metadata": {},
   "outputs": [
    {
     "name": "stdout",
     "output_type": "stream",
     "text": [
      "Chunks: [[1, 2, 3], [4, 5, 6], [7, 8, 9], [10]]\n"
     ]
    }
   ],
   "source": [
    "# Define a list\n",
    "my_list = [1, 2, 3, 4, 5, 6, 7, 8, 9, 10]\n",
    "\n",
    "# Define the chunk size\n",
    "n = 3  # You can change this to the desired chunk size\n",
    "\n",
    "# Split the list into chunks of size n using list comprehension\n",
    "chunks = [my_list[i:i + n] for i in range(0, len(my_list), n)]\n",
    "\n",
    "# Print the list of chunks\n",
    "print(\"Chunks:\", chunks)\n"
   ]
  },
  {
   "cell_type": "markdown",
   "id": "a2544904-dc9d-4cf6-88dd-527488e9f7d4",
   "metadata": {},
   "source": [
    "Explanation:\n",
    "    \n",
    "    We start by defining a list called my_list containing some elements.\n",
    "\n",
    "We specify the chunk size using the variable n. You can change the value of n to split the list into chunks of different sizes.\n",
    "\n",
    "To split the list into chunks of size n, we use a list comprehension. Inside the list comprehension, i iterates through the starting indices of each chunk, ranging from 0 to len(my_list) - 1, with a step of n.\n",
    "\n",
    "For each value of i, we slice the original list my_list[i:i + n] to extract a chunk of size n.\n",
    "\n",
    "The result is a list of chunks stored in the chunks variable.\n",
    "\n",
    "Finally, we print chunks, which will display the list of chunks based on the specified chunk size."
   ]
  },
  {
   "cell_type": "code",
   "execution_count": 171,
   "id": "b4a655e1-e594-4b24-8231-b3a254427a92",
   "metadata": {},
   "outputs": [],
   "source": [
    "# 35. Find the second largest number in a list."
   ]
  },
  {
   "cell_type": "code",
   "execution_count": 172,
   "id": "eb19af4d-bdf3-460e-9c8a-ae3e4e278582",
   "metadata": {},
   "outputs": [
    {
     "name": "stdout",
     "output_type": "stream",
     "text": [
      "Second Largest Number: 8\n"
     ]
    }
   ],
   "source": [
    "# Define a list\n",
    "my_list = [1, 5, 2, 8, 9, 4, 7]\n",
    "\n",
    "# Find the maximum number in the list\n",
    "max_num = max(my_list)\n",
    "\n",
    "# Remove all occurrences of the maximum number\n",
    "my_list = [x for x in my_list if x != max_num]\n",
    "\n",
    "# Find the new maximum number, which is the second largest\n",
    "second_largest = max(my_list)\n",
    "\n",
    "# Print the second largest number\n",
    "print(\"Second Largest Number:\", second_largest)\n"
   ]
  },
  {
   "cell_type": "markdown",
   "id": "12e82dc4-00fd-44ca-bae2-c93d32468c19",
   "metadata": {},
   "source": [
    "Explanation:\n",
    "    \n",
    "    We start by defining a list called my_list containing some elements.\n",
    "\n",
    "We use the max() function to find the maximum number in the list and store it in the max_num variable.\n",
    "\n",
    "We use a list comprehension to create a new list (my_list) that excludes all occurrences of the maximum number. This effectively removes all instances of the maximum number from the list.\n",
    "\n",
    "After removing the maximum number, we use the max() function again to find the new maximum number in the modified list, which is the second largest number.\n",
    "\n",
    "Finally, we print second_largest, which will display the second largest number in the original list.\n",
    "    "
   ]
  },
  {
   "cell_type": "code",
   "execution_count": 173,
   "id": "53ce1326-8548-41ee-814d-6faa1a2721d8",
   "metadata": {},
   "outputs": [],
   "source": [
    "# 36. Replace every element in a list with its square."
   ]
  },
  {
   "cell_type": "code",
   "execution_count": 174,
   "id": "8e7d268c-4dd0-4247-b03c-1c7cb352ed64",
   "metadata": {},
   "outputs": [
    {
     "name": "stdout",
     "output_type": "stream",
     "text": [
      "Squared List: [1, 4, 9, 16, 25]\n"
     ]
    }
   ],
   "source": [
    "# Define a list\n",
    "my_list = [1, 2, 3, 4, 5]\n",
    "\n",
    "# Replace each element with its square using list comprehension\n",
    "squared_list = [x ** 2 for x in my_list]\n",
    "\n",
    "# Print the squared list\n",
    "print(\"Squared List:\", squared_list)\n"
   ]
  },
  {
   "cell_type": "markdown",
   "id": "6724f368-ca21-4e43-a358-b741e1ff3a93",
   "metadata": {},
   "source": [
    "Explanation:\n",
    "    \n",
    "    We start by defining a list called my_list containing some elements.\n",
    "\n",
    "We use a list comprehension to iterate through each element (x) in my_list.\n",
    "\n",
    "Inside the list comprehension, we calculate the square of each element by raising it to the power of 2 (x ** 2).\n",
    "\n",
    "The resulting list, squared_list, will contain all the elements from my_list, but each element will be replaced with its square.\n",
    "\n",
    "Finally, we print squared_list, which will display [1, 4, 9, 16, 25], representing the original list with every element replaced by its square."
   ]
  },
  {
   "cell_type": "code",
   "execution_count": 175,
   "id": "ce952add-f879-487d-bba1-4ca7fcbb2d66",
   "metadata": {},
   "outputs": [
    {
     "data": {
      "text/plain": [
       "'# 37. Convert a list to a dictionary where list elements become keys and their\\nindices become values.'"
      ]
     },
     "execution_count": 175,
     "metadata": {},
     "output_type": "execute_result"
    }
   ],
   "source": [
    "\"\"\"# 37. Convert a list to a dictionary where list elements become keys and their\n",
    "indices become values.\"\"\""
   ]
  },
  {
   "cell_type": "code",
   "execution_count": 176,
   "id": "93bcb7bf-7ce6-4de3-85f3-e779d1038afb",
   "metadata": {},
   "outputs": [
    {
     "name": "stdout",
     "output_type": "stream",
     "text": [
      "Resulting Dictionary: {'apple': 0, 'banana': 1, 'cherry': 2, 'date': 3}\n"
     ]
    }
   ],
   "source": [
    "# Define a list\n",
    "my_list = ['apple', 'banana', 'cherry', 'date']\n",
    "\n",
    "# Convert the list to a dictionary where elements become keys and indices become values\n",
    "my_dict = {value: index for index, value in enumerate(my_list)}\n",
    "\n",
    "# Print the resulting dictionary\n",
    "print(\"Resulting Dictionary:\", my_dict)\n"
   ]
  },
  {
   "cell_type": "markdown",
   "id": "073416bf-a449-4adf-a3fa-7899fcf05b7b",
   "metadata": {},
   "source": [
    "Explnation:\n",
    "    \n",
    "    We start by defining a list called my_list containing some elements.\n",
    "\n",
    "We use a dictionary comprehension to iterate through the elements of the list. The enumerate() function is used to obtain both the index and value of each element in the list.\n",
    "\n",
    "Inside the dictionary comprehension, value represents the element from my_list, and index represents its index in the list.\n",
    "\n",
    "We create key-value pairs in the dictionary where the element (value) becomes the key, and its index (index) becomes the value.\n",
    "\n",
    "The resulting dictionary, my_dict, will contain the elements from my_list as keys, and their corresponding indices as values.\n",
    "\n",
    "Finally, we print my_dict, which will display {'apple': 0, 'banana': 1, 'cherry': 2, 'date': 3}, representing the dictionary where list elements become keys and their indices become values."
   ]
  },
  {
   "cell_type": "code",
   "execution_count": 177,
   "id": "251e744b-9e8a-44ed-9f66-ee07f39ddf22",
   "metadata": {},
   "outputs": [],
   "source": [
    "# 38. Shuffle the elements of a list randomly."
   ]
  },
  {
   "cell_type": "code",
   "execution_count": 178,
   "id": "2126f591-be28-48da-b359-dc9a2fb6f4d7",
   "metadata": {},
   "outputs": [
    {
     "name": "stdout",
     "output_type": "stream",
     "text": [
      "Shuffled List: [1, 5, 2, 3, 4]\n"
     ]
    }
   ],
   "source": [
    "import random\n",
    "\n",
    "# Define a list\n",
    "my_list = [1, 2, 3, 4, 5]\n",
    "\n",
    "# Shuffle the list randomly\n",
    "random.shuffle(my_list)\n",
    "\n",
    "# Print the shuffled list\n",
    "print(\"Shuffled List:\", my_list)\n"
   ]
  },
  {
   "cell_type": "markdown",
   "id": "00028231-f199-4560-b7ff-4687cdb77dcd",
   "metadata": {},
   "source": [
    "Explanation:\n",
    "    \n",
    "    We start by importing the random module, which provides functions for random number generation and manipulation.\n",
    "\n",
    "We define a list called my_list containing some elements.\n",
    "\n",
    "We use the random.shuffle() function to shuffle the elements of my_list randomly. This function modifies the list in place and does not return a new list.\n",
    "\n",
    "Finally, we print the shuffled list, which will display the elements of my_list in a random order."
   ]
  },
  {
   "cell_type": "code",
   "execution_count": 179,
   "id": "3ac9e6f6-34c4-40e7-bcde-88c1bfb60006",
   "metadata": {},
   "outputs": [],
   "source": [
    "# 39.  Create a list of the first 10 factorial numbers."
   ]
  },
  {
   "cell_type": "code",
   "execution_count": 180,
   "id": "ff9baed7-ea84-4122-ab02-5891ab668aff",
   "metadata": {},
   "outputs": [
    {
     "name": "stdout",
     "output_type": "stream",
     "text": [
      "First 10 Factorial Numbers: [1, 2, 6, 24, 120, 720, 5040, 40320, 362880, 3628800]\n"
     ]
    }
   ],
   "source": [
    "# Create a list of the first 10 factorial numbers without using functions\n",
    "factorial_numbers = [1]\n",
    "current_factorial = 1\n",
    "\n",
    "for n in range(1, 10):\n",
    "    current_factorial *= (n + 1)\n",
    "    factorial_numbers.append(current_factorial)\n",
    "\n",
    "# Print the list of factorial numbers\n",
    "print(\"First 10 Factorial Numbers:\", factorial_numbers)\n"
   ]
  },
  {
   "cell_type": "markdown",
   "id": "0d0dc8f9-c214-4375-9c2d-11e46be3c224",
   "metadata": {},
   "source": [
    "Explanation:\n",
    "    \n",
    "    We start by initializing a list called factorial_numbers with the first factorial number, which is 1. This list will store the first 10 factorial numbers.\n",
    "\n",
    "We initialize a variable current_factorial to 1 to keep track of the current factorial number.\n",
    "\n",
    "Using a for loop, we iterate through the numbers from 1 to 9 (inclusive) because we already have the first factorial number (1).\n",
    "\n",
    "Inside the loop, we calculate the next factorial number by multiplying current_factorial by (n + 1). This computes the factorial for the next number in the sequence.\n",
    "\n",
    "We append the calculated factorial (current_factorial) to the factorial_numbers list.\n",
    "\n",
    "The loop continues until we have calculated the factorial numbers for all numbers from 1 to 10.\n",
    "\n",
    "Finally, we print factorial_numbers, which will display the list of the first 10 factorial numbers."
   ]
  },
  {
   "cell_type": "code",
   "execution_count": 181,
   "id": "e4da02b8-2364-4bb9-b611-745585bc9d18",
   "metadata": {},
   "outputs": [],
   "source": [
    "# 40. Check if two lists have at least one element in common."
   ]
  },
  {
   "cell_type": "code",
   "execution_count": 182,
   "id": "e3696318-2612-4dd0-9eca-3c07cfa0de96",
   "metadata": {},
   "outputs": [
    {
     "name": "stdout",
     "output_type": "stream",
     "text": [
      "The two lists have at least one common element.\n"
     ]
    }
   ],
   "source": [
    "# Define two lists\n",
    "list1 = [1, 2, 3, 4, 5]\n",
    "list2 = [5, 6, 7, 8, 9]\n",
    "\n",
    "# Convert the lists to sets\n",
    "set1 = set(list1)\n",
    "set2 = set(list2)\n",
    "\n",
    "# Check if there is at least one common element\n",
    "has_common_element = len(set1.intersection(set2)) > 0\n",
    "\n",
    "# Print the result\n",
    "if has_common_element:\n",
    "    print(\"The two lists have at least one common element.\")\n",
    "else:\n",
    "    print(\"The two lists do not have any common elements.\")\n"
   ]
  },
  {
   "cell_type": "markdown",
   "id": "ce526d15-5998-4679-a8c6-ed49bca5c1bd",
   "metadata": {},
   "source": [
    "Explanation: \n",
    "    \n",
    "    We start by defining two lists, list1 and list2, containing some elements.\n",
    "\n",
    "We convert both lists to sets using set() to take advantage of set operations.\n",
    "\n",
    "We use the intersection() method to find the intersection of set1 and set2, which will contain the common elements between the two sets.\n",
    "\n",
    "We check if the length of the intersection is greater than 0. If it is, it means there is at least one common element between the lists.\n",
    "\n",
    "Based on the result, we print whether the two lists have at least one common element or not."
   ]
  },
  {
   "cell_type": "code",
   "execution_count": 183,
   "id": "9713af29-bfc7-4ed3-be2e-a5aeb5b7e5a0",
   "metadata": {},
   "outputs": [],
   "source": [
    "# 41. Remove all elements from a list."
   ]
  },
  {
   "cell_type": "code",
   "execution_count": 184,
   "id": "2540a474-cd30-4d8d-b31f-d3a0b8508823",
   "metadata": {},
   "outputs": [
    {
     "name": "stdout",
     "output_type": "stream",
     "text": [
      "Empty List: []\n"
     ]
    }
   ],
   "source": [
    "# Define a list\n",
    "my_list = [1, 2, 3, 4, 5]\n",
    "\n",
    "# Clear all elements from the list\n",
    "my_list.clear()\n",
    "\n",
    "# Print the empty list\n",
    "print(\"Empty List:\", my_list)\n"
   ]
  },
  {
   "cell_type": "markdown",
   "id": "0c3a52ba-8503-4bd5-bc37-90fad5f96166",
   "metadata": {},
   "source": [
    "Explanation:\n",
    "    \n",
    "    I just use here clera() function to remove all the elements from the list.."
   ]
  },
  {
   "cell_type": "code",
   "execution_count": 185,
   "id": "10873fd5-da1d-4ea1-baa0-ac408df95bd0",
   "metadata": {},
   "outputs": [],
   "source": [
    "# 42. Replace negative numbers in a list with 0."
   ]
  },
  {
   "cell_type": "code",
   "execution_count": 186,
   "id": "3a76fa85-793a-4590-b98f-4d8809dc3468",
   "metadata": {},
   "outputs": [
    {
     "name": "stdout",
     "output_type": "stream",
     "text": [
      "Updated List: [1, 0, 3, 0, 5, 0]\n"
     ]
    }
   ],
   "source": [
    "# Define a list with some negative numbers\n",
    "my_list = [1, -2, 3, -4, 5, -6]\n",
    "\n",
    "# Replace negative numbers with 0 using a list comprehension\n",
    "my_list = [x if x >= 0 else 0 for x in my_list]\n",
    "\n",
    "# Print the updated list\n",
    "print(\"Updated List:\", my_list)\n"
   ]
  },
  {
   "cell_type": "markdown",
   "id": "005cdfdb-b8b1-4fb2-b6a2-ffca3b07485e",
   "metadata": {},
   "source": [
    "Explanation:\n",
    "    \n",
    "    We start by defining a list called my_list containing some elements, including negative numbers.\n",
    "\n",
    "We use a list comprehension to iterate through each element x in my_list.\n",
    "\n",
    "Inside the list comprehension, we use a conditional expression (x if x >= 0 else 0) to replace negative numbers (x < 0) with 0. Positive numbers or zero are left unchanged.\n",
    "\n",
    "The result of the list comprehension is assigned back to my_list, effectively updating the original list.\n",
    "\n",
    "Finally, we print the updated list, which will display the elements with negative numbers replaced by 0."
   ]
  },
  {
   "cell_type": "code",
   "execution_count": 187,
   "id": "4af91095-ec2f-424b-afe3-e0887e2f355e",
   "metadata": {},
   "outputs": [],
   "source": [
    "# 43. Convert a string into a list of words."
   ]
  },
  {
   "cell_type": "code",
   "execution_count": 188,
   "id": "41d38629-81b3-4cd0-8ffc-c164fc392915",
   "metadata": {},
   "outputs": [
    {
     "name": "stdout",
     "output_type": "stream",
     "text": [
      "List of Words: ['This', 'is', 'a', 'sample', 'sentence.']\n"
     ]
    }
   ],
   "source": [
    "# Define a string\n",
    "my_string = \"This is a sample sentence.\"\n",
    "\n",
    "# Split the string into a list of words\n",
    "word_list = my_string.split()\n",
    "\n",
    "# Print the list of words\n",
    "print(\"List of Words:\", word_list)\n"
   ]
  },
  {
   "cell_type": "markdown",
   "id": "88d1b126-55fa-48c2-9b96-a565115fe43b",
   "metadata": {},
   "source": [
    "Explaantion:\n",
    "    \n",
    "    We start by defining a string called my_string that contains the sentence you want to convert into a list of words.\n",
    "\n",
    "We use the split() method on the string without providing any arguments. By default, split() splits the string using spaces as the delimiter, which separates the string into words.\n",
    "\n",
    "The result of the split() method is assigned to the word_list variable, which contains a list of words extracted from the string.\n",
    "\n",
    "Finally, we print word_list, which will display the list of words"
   ]
  },
  {
   "cell_type": "code",
   "execution_count": 189,
   "id": "cc0f8ca9-a257-4b2e-9a18-b5415d1a4bc3",
   "metadata": {},
   "outputs": [],
   "source": [
    "# 44. Convert a list of words into a string."
   ]
  },
  {
   "cell_type": "code",
   "execution_count": 190,
   "id": "ed0496b7-d7c0-4a34-bab2-58fedcf0f9f9",
   "metadata": {},
   "outputs": [
    {
     "name": "stdout",
     "output_type": "stream",
     "text": [
      "Resulting String: This is a sample sentence.\n"
     ]
    }
   ],
   "source": [
    "# Define a list of words\n",
    "word_list = ['This', 'is', 'a', 'sample', 'sentence.']\n",
    "\n",
    "# Convert the list of words into a single string\n",
    "my_string = ' '.join(word_list)\n",
    "\n",
    "# Print the resulting string\n",
    "print(\"Resulting String:\", my_string)\n"
   ]
  },
  {
   "cell_type": "markdown",
   "id": "a26c5df3-f03a-4736-9533-f45d7435f086",
   "metadata": {},
   "source": [
    "Explanation:\n",
    "    \n",
    "    We start by defining a list called word_list that contains individual words you want to combine into a single string.\n",
    "\n",
    "We use the join() method on a space character ' ' to concatenate the words from the list into a single string. The space character is used as a separator between words.\n",
    "\n",
    "The result of the join() method is assigned to the my_string variable, which contains the combined string.\n",
    "\n",
    "Finally, we print my_string, which will display the resulting string."
   ]
  },
  {
   "cell_type": "code",
   "execution_count": 191,
   "id": "8eae0bf3-2329-4a4f-bc13-ef04f2ead8ad",
   "metadata": {},
   "outputs": [],
   "source": [
    "# 45. Create a list of the first `n` powers of 2."
   ]
  },
  {
   "cell_type": "code",
   "execution_count": 192,
   "id": "484fda78-e045-43af-ad2c-1e427d815630",
   "metadata": {},
   "outputs": [
    {
     "name": "stdout",
     "output_type": "stream",
     "text": [
      "First 5 Powers of 2: [1, 2, 4, 8, 16]\n"
     ]
    }
   ],
   "source": [
    "# Define the value of n\n",
    "n = 5  # Change this to the desired number of powers of 2\n",
    "\n",
    "# Create a list of the first n powers of 2 using a list comprehension\n",
    "powers_of_2 = [2 ** i for i in range(n)]\n",
    "\n",
    "# Print the list of powers of 2\n",
    "print(\"First\", n, \"Powers of 2:\", powers_of_2)\n"
   ]
  },
  {
   "cell_type": "markdown",
   "id": "f5e10902-6737-48af-8fa3-e8cb9d51affe",
   "metadata": {},
   "source": [
    "Explanation:\n",
    "    \n",
    "    We start by defining the value of n, which represents the number of powers of 2 you want to generate.\n",
    "\n",
    "We use a list comprehension to create the list of the first n powers of 2. Inside the list comprehension, 2 ** i calculates the power of 2 for each value of i in the range from 0 to n-1.\n",
    "\n",
    "The result is a list called powers_of_2 containing the first n powers of 2.\n",
    "\n",
    "Finally, we print powers_of_2, which will display the list of powers of 2 based on the specified value of n."
   ]
  },
  {
   "cell_type": "code",
   "execution_count": 193,
   "id": "f6831f92-ec97-4975-bd96-aa55bc44326b",
   "metadata": {},
   "outputs": [],
   "source": [
    "# 46. Find the longest string in a list of strings."
   ]
  },
  {
   "cell_type": "code",
   "execution_count": 194,
   "id": "4e6033c1-7ea7-41e4-a153-aba8352c1649",
   "metadata": {},
   "outputs": [
    {
     "name": "stdout",
     "output_type": "stream",
     "text": [
      "Longest String: banana\n"
     ]
    }
   ],
   "source": [
    "# Define a list of strings\n",
    "string_list = [\"apple\", \"banana\", \"cherry\", \"date\", \"grape\"]\n",
    "\n",
    "# Find the longest string in the list\n",
    "longest_string = max(string_list, key=len)\n",
    "\n",
    "# Print the longest string\n",
    "print(\"Longest String:\", longest_string)\n"
   ]
  },
  {
   "cell_type": "markdown",
   "id": "91b5b414-a880-42b5-a8b2-da96fe26123a",
   "metadata": {},
   "source": [
    "Explanation:\n",
    "    \n",
    "    We start by defining a list called string_list that contains a collection of strings.\n",
    "\n",
    "We use the max() function to find the longest string in the list. The key=len argument specifies a custom key function that calculates the length of each string. The max() function will return the string with the maximum length based on this custom key.\n",
    "\n",
    "The result is stored in the longest_string variable.\n",
    "\n",
    "Finally, we print longest_string, which will display the longest string in the list.\n",
    "\n"
   ]
  },
  {
   "cell_type": "code",
   "execution_count": 195,
   "id": "cc5951ad-51f9-4741-8448-a425d6a739a5",
   "metadata": {},
   "outputs": [],
   "source": [
    "# 47. Find the shortest string in a list of strings."
   ]
  },
  {
   "cell_type": "code",
   "execution_count": 196,
   "id": "08eb2b80-5e65-436b-9153-69778012efd9",
   "metadata": {},
   "outputs": [
    {
     "name": "stdout",
     "output_type": "stream",
     "text": [
      "Shortest String: date\n"
     ]
    }
   ],
   "source": [
    "# Define a list of strings\n",
    "string_list = [\"apple\", \"banana\", \"cherry\", \"date\", \"grape\"]\n",
    "\n",
    "# Find the shortest string in the list\n",
    "shortest_string = min(string_list, key=len)\n",
    "\n",
    "# Print the shortest string\n",
    "print(\"Shortest String:\", shortest_string)\n"
   ]
  },
  {
   "cell_type": "markdown",
   "id": "af09ea6d-948d-4746-be2a-75dc67e52f24",
   "metadata": {},
   "source": [
    "Explanation:\n",
    "    \n",
    "    We start by defining a list called string_list that contains a collection of strings.\n",
    "\n",
    "We use the min() function to find the shortest string in the list. The key=len argument specifies a custom key function that calculates the length of each string. The min() function will return the string with the minimum length based on this custom key.\n",
    "\n",
    "The result is stored in the shortest_string variable.\n",
    "\n",
    "Finally, we print shortest_string, which will display the shortest string in the list."
   ]
  },
  {
   "cell_type": "code",
   "execution_count": 197,
   "id": "9f8ce78f-b5b0-40de-938d-35c9790383ea",
   "metadata": {},
   "outputs": [],
   "source": [
    "# 48. create a list of the first `n` triangular numbers."
   ]
  },
  {
   "cell_type": "code",
   "execution_count": 198,
   "id": "4b52f977-6064-4221-9fd5-4db61710c91e",
   "metadata": {},
   "outputs": [
    {
     "name": "stdout",
     "output_type": "stream",
     "text": [
      "First 5 Triangular Numbers: [1, 3, 6, 10, 15]\n"
     ]
    }
   ],
   "source": [
    "# Define the value of n\n",
    "n = 5  # Change this to the desired number of triangular numbers\n",
    "\n",
    "# Create a list of the first n triangular numbers using a list comprehension\n",
    "triangular_numbers = [(i * (i + 1)) // 2 for i in range(1, n + 1)]\n",
    "\n",
    "# Print the list of triangular numbers\n",
    "print(\"First\", n, \"Triangular Numbers:\", triangular_numbers)\n"
   ]
  },
  {
   "cell_type": "markdown",
   "id": "f85be283-1498-48b3-9a08-7c44a6220ad5",
   "metadata": {},
   "source": [
    "Explanation:\n",
    "    \n",
    "    We start by defining the value of n, which represents the number of triangular numbers you want to generate.\n",
    "\n",
    "We use a list comprehension to create the list of the first n triangular numbers. Inside the list comprehension, (i * (i + 1)) // 2 calculates the i-th triangular number using the formula.\n",
    "\n",
    "The range(1, n + 1) generates numbers from 1 to n, inclusive. These values of i correspond to the first n triangular numbers.\n",
    "\n",
    "The result is a list called triangular_numbers containing the first n triangular numbers.\n",
    "\n",
    "Finally, we print triangular_numbers, which will display the list of triangular numbers based on the specified value of n."
   ]
  },
  {
   "cell_type": "code",
   "execution_count": 199,
   "id": "92ed302d-086b-4fb3-b1d1-d240b7b79019",
   "metadata": {},
   "outputs": [],
   "source": [
    "# 49. Check if a list contains another list as a subsequence."
   ]
  },
  {
   "cell_type": "code",
   "execution_count": 200,
   "id": "baa80125-1930-4471-9b59-f88143b00d0b",
   "metadata": {},
   "outputs": [
    {
     "name": "stdout",
     "output_type": "stream",
     "text": [
      "The subsequence is present in the main list.\n"
     ]
    }
   ],
   "source": [
    "# Define the main list and subsequence list\n",
    "main_list = [1, 2, 3, 4, 5, 6, 7, 8]\n",
    "subsequence = [2, 4, 6]\n",
    "\n",
    "# Convert both lists to sets\n",
    "main_set = set(main_list)\n",
    "subsequence_set = set(subsequence)\n",
    "\n",
    "# Check if the subsequence is a subset of the main list\n",
    "if subsequence_set.issubset(main_set):\n",
    "    print(\"The subsequence is present in the main list.\")\n",
    "else:\n",
    "    print(\"The subsequence is not present in the main list.\")\n"
   ]
  },
  {
   "cell_type": "markdown",
   "id": "744d38ed-69fe-4dcb-9be5-484c1cc4c384",
   "metadata": {},
   "source": [
    "Explanation:\n",
    "    \n",
    "    We define two lists: main_list, which represents the main list, and subsequence, which is the list we want to check if it's a subsequence of the main list.\n",
    "\n",
    "We convert both lists to sets using the set() constructor. This step is essential because sets in Python have a built-in method for checking if one set is a subset of another set.\n",
    "\n",
    "We use the issubset() method to check if subsequence_set is a subset of main_set. If it is, it means the subsequence was found in the main list.\n",
    "\n",
    "Finally, we print a message indicating whether the subsequence is present in the main list or not."
   ]
  },
  {
   "cell_type": "code",
   "execution_count": 201,
   "id": "4edb66ec-8ef8-4a7d-abc6-bcc95ce48529",
   "metadata": {},
   "outputs": [],
   "source": [
    "# 50. Swap two elements in a list by their indices."
   ]
  },
  {
   "cell_type": "code",
   "execution_count": 202,
   "id": "75d29a3a-db82-49ae-8633-636ff965ea6c",
   "metadata": {},
   "outputs": [
    {
     "name": "stdout",
     "output_type": "stream",
     "text": [
      "List after swapping: [1, 4, 3, 2, 5]\n"
     ]
    }
   ],
   "source": [
    "# Define a list\n",
    "my_list = [1, 2, 3, 4, 5]\n",
    "\n",
    "# Define the indices of the elements you want to swap\n",
    "index1 = 1  # Index of the first element to be swapped\n",
    "index2 = 3  # Index of the second element to be swapped\n",
    "\n",
    "# Perform the swap using indexing\n",
    "my_list[index1], my_list[index2] = my_list[index2], my_list[index1]\n",
    "\n",
    "# Print the list after swapping\n",
    "print(\"List after swapping:\", my_list)\n"
   ]
  },
  {
   "cell_type": "markdown",
   "id": "08d55062-d6e6-47d0-93d4-81d4e2309186",
   "metadata": {},
   "source": [
    "Explanation:\n",
    "    \n",
    "    We start by defining a list called my_list containing some elements.\n",
    "\n",
    "We define the indices index1 and index2, representing the positions of the two elements you want to swap in the list. In this example, we're swapping the elements at index 1 and index 3.\n",
    "\n",
    "We use tuple unpacking and list indexing to perform the swap. The expression my_list[index1], my_list[index2] represents a tuple with the values of the elements at the specified indices. By assigning this tuple to my_list[index2], my_list[index1], we swap the values of the two elements.\n",
    "\n",
    "After the swap, my_list will contain the elements with their positions swapped.\n",
    "\n",
    "Finally, we print my_list to display the list after the swapping operation."
   ]
  },
  {
   "cell_type": "code",
   "execution_count": null,
   "id": "a2025d27-140e-497a-ae97-3a9f1a342d1a",
   "metadata": {},
   "outputs": [],
   "source": []
  },
  {
   "cell_type": "code",
   "execution_count": null,
   "id": "61f78faa-846c-426b-a4ab-d69660638a6f",
   "metadata": {},
   "outputs": [],
   "source": []
  },
  {
   "cell_type": "markdown",
   "id": "83220b61-8256-4bb8-a6ad-0c2e7000f01c",
   "metadata": {},
   "source": [
    "TOPIC- TUPLE BASED PROBLEMS!!!"
   ]
  },
  {
   "cell_type": "code",
   "execution_count": 203,
   "id": "675b168f-7544-475b-90f1-a8988c188ab1",
   "metadata": {},
   "outputs": [
    {
     "name": "stdout",
     "output_type": "stream",
     "text": [
      "(1, 2, 3, 4, 5)\n"
     ]
    }
   ],
   "source": [
    "# 1. Create a tuple with integers from 1 to 5\n",
    "my_tuple = (1, 2, 3, 4, 5)\n",
    "\n",
    "print(my_tuple)"
   ]
  },
  {
   "cell_type": "code",
   "execution_count": 204,
   "id": "cb7f519a-73b4-4b69-ae3a-7f4c833bfeb2",
   "metadata": {},
   "outputs": [
    {
     "name": "stdout",
     "output_type": "stream",
     "text": [
      "3\n"
     ]
    }
   ],
   "source": [
    "# 2. Access the third element (index 2) of the tuple\n",
    "third_element = my_tuple[2]\n",
    "print(third_element)"
   ]
  },
  {
   "cell_type": "code",
   "execution_count": 205,
   "id": "ce278263-8370-4d1a-b1e8-0342fbdd666f",
   "metadata": {},
   "outputs": [
    {
     "name": "stdout",
     "output_type": "stream",
     "text": [
      "5\n"
     ]
    }
   ],
   "source": [
    "# 3. Find the length of the tuple without using len()\n",
    "length = sum(1 for _ in my_tuple)\n",
    "print(length)"
   ]
  },
  {
   "cell_type": "code",
   "execution_count": 206,
   "id": "4bdc24a9-df9d-4384-9560-10b720ed2709",
   "metadata": {},
   "outputs": [
    {
     "name": "stdout",
     "output_type": "stream",
     "text": [
      "1\n"
     ]
    }
   ],
   "source": [
    "# 4. Count the occurrences of a specific element in the tuple\n",
    "element_to_count = 3  # Replace with the element you want to count\n",
    "count = sum(1 for item in my_tuple if item == element_to_count)\n",
    "print(count)"
   ]
  },
  {
   "cell_type": "markdown",
   "id": "9fda339a-d0f1-4ba6-9a80-1a3d5bb4c2e8",
   "metadata": {},
   "source": [
    "Explanation:\n",
    "\n",
    "We create a tuple my_tuple with integers from 1 to 5.\n",
    "\n",
    "To access the third element of the tuple, we use indexing. In Python, indexing starts from 0, so the third element has an index of 2 (my_tuple[2]).\n",
    "\n",
    "To find the length of the tuple without using the len() function, we can use a generator expression with the sum() function. We iterate through the tuple and add 1 for each element encountered. This effectively counts the number of elements in the tuple.\n",
    "\n",
    "To count the occurrences of a specific element in the tuple, we define element_to_count with the element we want to count. We then use a generator expression with the sum() function to count how many times that element appears in the tuple."
   ]
  },
  {
   "cell_type": "code",
   "execution_count": 207,
   "id": "524aab64-6321-44f9-955f-919062c905bd",
   "metadata": {},
   "outputs": [
    {
     "name": "stdout",
     "output_type": "stream",
     "text": [
      "2\n"
     ]
    }
   ],
   "source": [
    "# 5. Find the index of the first occurrence of an element in the tuple\n",
    "element_to_find = 3  # Replace with the element you want to find\n",
    "index = my_tuple.index(element_to_find)\n",
    "print(index)"
   ]
  },
  {
   "cell_type": "code",
   "execution_count": 208,
   "id": "a7d7557c-0db8-4180-82ad-6e29865d6931",
   "metadata": {},
   "outputs": [
    {
     "name": "stdout",
     "output_type": "stream",
     "text": [
      "True\n"
     ]
    }
   ],
   "source": [
    "# 6. Check if an element exists in the tuple\n",
    "element_to_check = 4  # Replace with the element you want to check\n",
    "exists = element_to_check in my_tuple\n",
    "print(exists)"
   ]
  },
  {
   "cell_type": "code",
   "execution_count": 209,
   "id": "9b9e56ed-256a-47ca-b3ce-fcd610ede744",
   "metadata": {},
   "outputs": [
    {
     "name": "stdout",
     "output_type": "stream",
     "text": [
      "[1, 2, 3, 4, 5]\n"
     ]
    }
   ],
   "source": [
    "# 7. Convert a tuple to a list\n",
    "my_list = list(my_tuple)\n",
    "print(my_list)"
   ]
  },
  {
   "cell_type": "code",
   "execution_count": 210,
   "id": "704dc211-edf2-4e84-9238-efc65ca24113",
   "metadata": {},
   "outputs": [
    {
     "name": "stdout",
     "output_type": "stream",
     "text": [
      "[1, 2, 3, 4, 5]\n"
     ]
    }
   ],
   "source": [
    "# 8. Convert a list to a tuple\n",
    "my_new_tuple = tuple(my_list)\n",
    "print(my_list)"
   ]
  },
  {
   "cell_type": "code",
   "execution_count": 211,
   "id": "6f993481-d112-4ed7-8607-36f6dfd59671",
   "metadata": {},
   "outputs": [
    {
     "name": "stdout",
     "output_type": "stream",
     "text": [
      "Element 1: 1\n",
      "Element 2: apple\n",
      "Element 3: 3.14\n",
      "Element 4: True\n"
     ]
    }
   ],
   "source": [
    "# 9. Unpack the elements of a tuple into variables.\n",
    "\n",
    "# Define a tuple\n",
    "my_tuple = (1, \"apple\", 3.14, True)\n",
    "\n",
    "# Unpack the elements of the tuple into variables\n",
    "element1, element2, element3, element4 = my_tuple\n",
    "\n",
    "# Print the unpacked variables\n",
    "print(\"Element 1:\", element1)\n",
    "print(\"Element 2:\", element2)\n",
    "print(\"Element 3:\", element3)\n",
    "print(\"Element 4:\", element4)\n"
   ]
  },
  {
   "cell_type": "code",
   "execution_count": 212,
   "id": "9684fab9-6cf7-4d4a-8362-ebc47b49286f",
   "metadata": {},
   "outputs": [
    {
     "name": "stdout",
     "output_type": "stream",
     "text": [
      "(2, 4, 6, 8, 10)\n"
     ]
    }
   ],
   "source": [
    "# 10. Create a tuple of even numbers from 1 to 10\n",
    "even_numbers_tuple = tuple(range(2, 11, 2))\n",
    "print(even_numbers_tuple)"
   ]
  },
  {
   "cell_type": "markdown",
   "id": "e8a17786-98ea-4480-94d4-141af75ba808",
   "metadata": {},
   "source": [
    "Explanation:\n",
    "\n",
    "To find the index of the first occurrence of an element in the tuple, we use the index() method, specifying the element_to_find as the argument.\n",
    "\n",
    "To check if an element exists in the tuple, we use the in operator, specifying the element_to_check as the element we want to check.\n",
    "\n",
    "To convert a tuple to a list, we use the list() constructor, passing the tuple as an argument.\n",
    "\n",
    "To convert a list to a tuple, we use the tuple() constructor, passing the list as an argument.\n",
    "\n",
    "To unpack the elements of a tuple into variables, we assign each variable to an element in the tuple. In this case, we have five variables to match the five elements in the tuple.\n",
    "\n",
    "To create a tuple of even numbers from 1 to 10, we use the range() function with a step of 2 to generate even numbers and then convert the result to a tuple.\n",
    "\n",
    "\n",
    "\n",
    "\n"
   ]
  },
  {
   "cell_type": "code",
   "execution_count": 213,
   "id": "5b7050bb-877d-4bdf-bccc-ea7a299a44b2",
   "metadata": {},
   "outputs": [
    {
     "name": "stdout",
     "output_type": "stream",
     "text": [
      "(1, 3, 5, 7, 9)\n"
     ]
    }
   ],
   "source": [
    "# 11. Create a tuple of odd numbers from 1 to 10\n",
    "odd_numbers_tuple = tuple(range(1, 11, 2))\n",
    "print(odd_numbers_tuple)"
   ]
  },
  {
   "cell_type": "code",
   "execution_count": 214,
   "id": "30a2ebed-e85e-4b4c-a991-b783859aba6d",
   "metadata": {},
   "outputs": [
    {
     "name": "stdout",
     "output_type": "stream",
     "text": [
      "(1, 2, 3, 4, 5, 6)\n"
     ]
    }
   ],
   "source": [
    "# 12. Comcatenate two tuples..\n",
    "\n",
    "# Define two tuples\n",
    "tuple1 = (1, 2, 3)\n",
    "tuple2 = (4, 5, 6)\n",
    "\n",
    "# Concatenate the two tuples\n",
    "concatenated_tuple = tuple1 + tuple2\n",
    "\n",
    "print(concatenated_tuple)\n"
   ]
  },
  {
   "cell_type": "code",
   "execution_count": 215,
   "id": "5ecc26fc-6dd7-4cbb-9d7f-05f557c16279",
   "metadata": {},
   "outputs": [
    {
     "name": "stdout",
     "output_type": "stream",
     "text": [
      "(1, 2, 3, 1, 2, 3, 1, 2, 3)\n"
     ]
    }
   ],
   "source": [
    "# 13. Repeate a tuble three times.\n",
    "\n",
    "# Define a tuple\n",
    "original_tuple = (1, 2, 3)\n",
    "\n",
    "# Repeat the tuple three times\n",
    "repeated_tuple = original_tuple * 3\n",
    "\n",
    "print(repeated_tuple)"
   ]
  },
  {
   "cell_type": "code",
   "execution_count": 216,
   "id": "332a8d37-96cb-47a2-b095-602a5e7abcfb",
   "metadata": {},
   "outputs": [
    {
     "name": "stdout",
     "output_type": "stream",
     "text": [
      "False\n"
     ]
    }
   ],
   "source": [
    "# 14. Check if a tuple is empty.\n",
    "\n",
    "# Define a tuple (you can also use an empty tuple for this)\n",
    "my_tuple = (1, 2, 3)\n",
    "\n",
    "# Check if the tuple is empty\n",
    "is_empty = len(my_tuple) == 0\n",
    "\n",
    "\n",
    "print(is_empty)"
   ]
  },
  {
   "cell_type": "code",
   "execution_count": 217,
   "id": "948c0d7d-267f-4993-bdd7-2de8faeb9c02",
   "metadata": {},
   "outputs": [
    {
     "name": "stdout",
     "output_type": "stream",
     "text": [
      "((1, 2), (3, 4), (5, 6))\n"
     ]
    }
   ],
   "source": [
    "# 15. Create a nested tuple\n",
    "nested_tuple = ((1, 2), (3, 4), (5, 6))\n",
    "print(nested_tuple)"
   ]
  },
  {
   "cell_type": "markdown",
   "id": "84630cfa-f2e7-4173-9fa6-57cae729d1a9",
   "metadata": {},
   "source": [
    "Explanation:\n",
    "\n",
    "To create a tuple of odd numbers from 1 to 10, we use the range() function with a step of 2 to generate odd numbers and then convert the result to a tuple.\n",
    "\n",
    "To concatenate two tuples, we use the + operator to combine tuple1 and tuple2 into a single concatenated_tuple.\n",
    "\n",
    "To repeat a tuple three times, we use the * operator to create repeated_tuple, which contains three copies of the original_tuple.\n",
    "\n",
    "To check if a tuple is empty, we use the len() function and compare it to 0. If the length of the tuple is 0, it means the tuple is empty, and is_empty will be True.\n",
    "\n",
    "To create a nested tuple, we simply enclose multiple tuples within another tuple. In this case, nested_tuple contains three tuples as its elements."
   ]
  },
  {
   "cell_type": "code",
   "execution_count": 218,
   "id": "0132f143-84b8-40ea-aa70-dbef97f8087b",
   "metadata": {},
   "outputs": [
    {
     "name": "stdout",
     "output_type": "stream",
     "text": [
      "(1, 2)\n"
     ]
    }
   ],
   "source": [
    "# 16. Access the first element of a nested tuple\n",
    "nested_tuple = ((1, 2), (3, 4), (5, 6))\n",
    "first_element = nested_tuple[0]\n",
    "print(first_element)"
   ]
  },
  {
   "cell_type": "code",
   "execution_count": 219,
   "id": "b0c4999e-36da-44cf-9a19-bd2054f28bde",
   "metadata": {},
   "outputs": [
    {
     "name": "stdout",
     "output_type": "stream",
     "text": [
      "(42,)\n"
     ]
    }
   ],
   "source": [
    "# 17. Create a tuple with a single element\n",
    "single_element_tuple = (42,)\n",
    "\n",
    "print(single_element_tuple)"
   ]
  },
  {
   "cell_type": "code",
   "execution_count": 220,
   "id": "dbfd7c38-a92c-4e9d-9165-a93903ba1af5",
   "metadata": {},
   "outputs": [
    {
     "name": "stdout",
     "output_type": "stream",
     "text": [
      "True\n"
     ]
    }
   ],
   "source": [
    "# 18. Compare two tuples.\n",
    "\n",
    "# Define two tuples\n",
    "tuple1 = (1, 2, 3)\n",
    "tuple2 = (1, 2, 3)\n",
    "\n",
    "# Compare the two tuples\n",
    "are_equal = tuple1 == tuple2\n",
    "print(are_equal)"
   ]
  },
  {
   "cell_type": "code",
   "execution_count": 221,
   "id": "0be2cbf7-1620-460b-8f35-5c154f82688e",
   "metadata": {},
   "outputs": [
    {
     "name": "stdout",
     "output_type": "stream",
     "text": [
      "()\n"
     ]
    }
   ],
   "source": [
    "# 19. Delete a tuple.\n",
    "\n",
    "# Define a tuple\n",
    "\n",
    "my_tuple = (1, 2, 3)\n",
    "\n",
    "# Reassign the variable to a new tuple\n",
    "my_tuple = ()  # Create an empty tuple\n",
    "\n",
    "# Print the empty tuple\n",
    "print(my_tuple)\n"
   ]
  },
  {
   "cell_type": "code",
   "execution_count": 222,
   "id": "adac9c4c-fc20-4815-b1db-f1f17f7c1988",
   "metadata": {},
   "outputs": [
    {
     "name": "stdout",
     "output_type": "stream",
     "text": [
      "(2, 3, 4)\n"
     ]
    }
   ],
   "source": [
    "# 20. Slice a tuple.\n",
    "\n",
    "# Define a tuple\n",
    "my_tuple = (1, 2, 3, 4, 5)\n",
    "\n",
    "# Slice the tuple to create a new tuple\n",
    "sliced_tuple = my_tuple[1:4]\n",
    "\n",
    "print(sliced_tuple)"
   ]
  },
  {
   "cell_type": "markdown",
   "id": "6122f446-d0e0-4cdc-a34c-4b568c1c0fb9",
   "metadata": {},
   "source": [
    "Explanation:\n",
    "\n",
    "To access the first element of a nested tuple, we use indexing to retrieve the element at index 0 of the nested_tuple.\n",
    "\n",
    "To create a tuple with a single element, we place a comma after the element inside parentheses. In this example, we create a single_element_tuple with the single element 42.\n",
    "\n",
    "To compare two tuples for equality, we use the == operator. In this case, are_equal will be True because tuple1 and tuple2 have the same contents.\n",
    "\n",
    "To delete a tuple, we use the del statement followed by the tuple's name (my_tuple in this case). After deletion, the tuple will no longer exist.\n",
    "\n",
    "To slice a tuple, we use slicing notation to specify a range of indices. In this example, sliced_tuple contains elements from index 1 to 3 of my_tuple, creating a new tuple with the sliced elements.\n",
    "\n",
    "\n",
    "\n",
    "\n"
   ]
  },
  {
   "cell_type": "code",
   "execution_count": 223,
   "id": "23b5717b-f7b7-429f-b583-d4434310d89d",
   "metadata": {},
   "outputs": [
    {
     "name": "stdout",
     "output_type": "stream",
     "text": [
      "Maximum value: 9\n"
     ]
    }
   ],
   "source": [
    "#  21: Find the maximum value in a tuple.\n",
    "\n",
    "\n",
    "tuple_example = (5, 9, 2, 7, 1)\n",
    "max_value = max(tuple_example)\n",
    "print(\"Maximum value:\", max_value)\n"
   ]
  },
  {
   "cell_type": "code",
   "execution_count": 224,
   "id": "64449323-ecc0-4dbf-ac7a-8ee9e6f5c928",
   "metadata": {},
   "outputs": [
    {
     "name": "stdout",
     "output_type": "stream",
     "text": [
      "Minimum value: 1\n"
     ]
    }
   ],
   "source": [
    "# 22: Find the minimum value in a tuple.\n",
    "\n",
    "\n",
    "tuple_example = (5, 9, 2, 7, 1)\n",
    "min_value = min(tuple_example)\n",
    "print(\"Minimum value:\", min_value)\n"
   ]
  },
  {
   "cell_type": "code",
   "execution_count": 225,
   "id": "1b1051cf-a843-4f14-9186-d9ab5f03c6dd",
   "metadata": {},
   "outputs": [
    {
     "name": "stdout",
     "output_type": "stream",
     "text": [
      "String as tuple of characters: ('H', 'e', 'l', 'l', 'o')\n"
     ]
    }
   ],
   "source": [
    "# 23: Convert a string to a tuple of characters.\n",
    "\n",
    "\n",
    "\n",
    "string_example = \"Hello\"\n",
    "char_tuple = tuple(string_example)\n",
    "print(\"String as tuple of characters:\", char_tuple)\n"
   ]
  },
  {
   "cell_type": "code",
   "execution_count": 226,
   "id": "e4ca168b-29d6-498e-9084-749d11ea1364",
   "metadata": {},
   "outputs": [
    {
     "name": "stdout",
     "output_type": "stream",
     "text": [
      "Tuple as a string: Hello\n"
     ]
    }
   ],
   "source": [
    "#  24: Convert a tuple of characters to a string.\n",
    "\n",
    "\n",
    "tuple_example = ('H', 'e', 'l', 'l', 'o')\n",
    "string_from_tuple = ''.join(tuple_example)\n",
    "print(\"Tuple as a string:\", string_from_tuple)\n"
   ]
  },
  {
   "cell_type": "code",
   "execution_count": 227,
   "id": "fd0330d5-d63f-4a81-b6ee-8d9440ec2b69",
   "metadata": {},
   "outputs": [
    {
     "name": "stdout",
     "output_type": "stream",
     "text": [
      "Mixed tuple: (1, 'two', 3.0)\n"
     ]
    }
   ],
   "source": [
    "# 25: Create a tuple from multiple data types.\n",
    "\n",
    "\n",
    "mixed_tuple = (1, 'two', 3.0)\n",
    "print(\"Mixed tuple:\", mixed_tuple)\n"
   ]
  },
  {
   "cell_type": "code",
   "execution_count": 228,
   "id": "72dbfbb9-4ebc-4fef-b2fd-8bba047a534f",
   "metadata": {},
   "outputs": [
    {
     "name": "stdout",
     "output_type": "stream",
     "text": [
      "Are the tuples identical? True\n"
     ]
    }
   ],
   "source": [
    "# 26: Check if two tuples are identical.\n",
    "\n",
    "\n",
    "tuple1 = (1, 2, 3)\n",
    "tuple2 = (1, 2, 3)\n",
    "are_identical = tuple1 == tuple2\n",
    "print(\"Are the tuples identical?\", are_identical)\n"
   ]
  },
  {
   "cell_type": "code",
   "execution_count": 229,
   "id": "e1a9ee11-a7c1-4fe0-b6e7-50669986e9cf",
   "metadata": {},
   "outputs": [
    {
     "name": "stdout",
     "output_type": "stream",
     "text": [
      "Sorted tuple: (1, 3, 5, 6, 8)\n"
     ]
    }
   ],
   "source": [
    "#  27: Sort the elements of a tuple.\n",
    "\n",
    "\n",
    "unsorted_tuple = (5, 3, 8, 1, 6)\n",
    "sorted_tuple = tuple(sorted(unsorted_tuple))\n",
    "print(\"Sorted tuple:\", sorted_tuple)\n"
   ]
  },
  {
   "cell_type": "code",
   "execution_count": 230,
   "id": "781a2b8e-e984-49c7-b218-6e01f5bea1ce",
   "metadata": {},
   "outputs": [
    {
     "name": "stdout",
     "output_type": "stream",
     "text": [
      "Tuple of integers as strings: ('1', '2', '3')\n"
     ]
    }
   ],
   "source": [
    "#  28: Convert a tuple of integers to a tuple of strings.\n",
    "\n",
    "\n",
    "int_tuple = (1, 2, 3)\n",
    "str_tuple = tuple(str(item) for item in int_tuple)\n",
    "print(\"Tuple of integers as strings:\", str_tuple)\n"
   ]
  },
  {
   "cell_type": "code",
   "execution_count": 231,
   "id": "f6931782-8026-45b7-a926-2cefbd57692c",
   "metadata": {},
   "outputs": [
    {
     "name": "stdout",
     "output_type": "stream",
     "text": [
      "Tuple of strings as integers: (1, 2, 3)\n"
     ]
    }
   ],
   "source": [
    "#  29: Convert a tuple of strings to a tuple of integers.\n",
    "\n",
    "\n",
    "str_tuple = ('1', '2', '3')\n",
    "int_tuple = tuple(int(item) for item in str_tuple)\n",
    "print(\"Tuple of strings as integers:\", int_tuple)\n"
   ]
  },
  {
   "cell_type": "code",
   "execution_count": 232,
   "id": "01714f6a-c46e-40e9-b897-373b41a88266",
   "metadata": {},
   "outputs": [
    {
     "name": "stdout",
     "output_type": "stream",
     "text": [
      "Merged tuple: (1, 2, 3, 4, 5, 6)\n"
     ]
    }
   ],
   "source": [
    "#  30: Merge two tuples\n",
    "\n",
    "\n",
    "tuple_a = (1, 2, 3)\n",
    "tuple_b = (4, 5, 6)\n",
    "merged_tuple = tuple_a + tuple_b\n",
    "print(\"Merged tuple:\", merged_tuple)\n"
   ]
  },
  {
   "cell_type": "code",
   "execution_count": 233,
   "id": "fc8c6eed-f87e-40cd-9a5f-a98ca92f213e",
   "metadata": {},
   "outputs": [
    {
     "name": "stdout",
     "output_type": "stream",
     "text": [
      "Flattened tuple: (1, 2, 3, 4, 5, 6)\n"
     ]
    }
   ],
   "source": [
    "#  31: Flatten a nested tuple.\n",
    "\n",
    "\n",
    "nested_tuple = ((1, 2), (3, 4), (5, 6))\n",
    "flattened_list = [item for sublist in nested_tuple for item in sublist]\n",
    "flattened_tuple = tuple(flattened_list)\n",
    "print(\"Flattened tuple:\", flattened_tuple)\n"
   ]
  },
  {
   "cell_type": "markdown",
   "id": "34eb2140-135c-4c00-9f63-1b7582479bc5",
   "metadata": {},
   "source": [
    "\n",
    "EXPLANATION:---->>>\n",
    "\n",
    "21: Find the maximum value in a tuple.\n",
    "    In this task, we have a tuple named tuple_example containing     numerical values. The max() function is used to find and         return the maximum value within the tuple. In this example,     the maximum value in the tuple_example is found to be 9, and     it is printed as the result.\n",
    "\n",
    "22: Find the minimum value in a tuple.\n",
    "    Similar to Task 21, in this task, we have a tuple named         tuple_example with numerical values. The min() function is       employed to find and return the minimum value within the         tuple. In this example, the minimum value in the                 tuple_example is found to be 1, and it is printed as the         result.\n",
    "\n",
    "23: Convert a string to a tuple of characters.\n",
    "    Here, we start with a string variable string_example            containing the value \"Hello.\" We use the tuple() constructor to   convert the string into a tuple of individual characters. The   result is a tuple named char_tuple that contains each character   from the original string as separate elements.\n",
    "\n",
    "24: Convert a tuple of characters to a string.\n",
    "    This task reverses the process from Task 23. We begin with a tuple named tuple_example that contains individual characters ('H', 'e', 'l', 'l', 'o'). To convert it back to a string, we use the .join() method to concatenate the characters within the tuple, resulting in the string \"Hello.\"\n",
    "\n",
    "25: Create a tuple from multiple data types.\n",
    "    In this task, we create a tuple named mixed_tuple that contains elements of different data types: an integer (1), a string (\"two\"), and a float (3.0). Tuples can hold a mix of data types, making it a versatile data structure.\n",
    "\n",
    "26: Check if two tuples are identical.\n",
    "    Two tuples, tuple1 and tuple2, are defined in this task. To check if they are identical (i.e., contain the same elements in the same order), we use the equality operator ==. The result is a boolean value, and in this case, it's True because both tuples have the same elements.\n",
    "\n",
    "27: Sort the elements of a tuple.\n",
    "    An unsorted tuple, unsorted_tuple, is provided in this task. To sort its elements in ascending order, we use the sorted() function. The result is a sorted list, which we then convert back to a tuple using the tuple() constructor. The output, sorted_tuple, contains the elements of the original tuple sorted in ascending order.\n",
    "\n",
    "28: Convert a tuple of integers to a tuple of strings.\n",
    "    Here, we have a tuple named int_tuple containing integers (1, 2, 3). We use a list comprehension to convert each integer element into a string using the str() function. The result is a new tuple, str_tuple, containing the same values as strings.\n",
    "\n",
    "29: Convert a tuple of strings to a tuple of integers.\n",
    "    In this task, we have a tuple named str_tuple containing string representations of integers (\"1\", \"2\", \"3\"). We use a list comprehension to convert each string element into an integer using the int() function. The result is a new tuple, int_tuple, containing the same values as integers.\n",
    "\n",
    "30: Merge two tuples.\n",
    "    Two tuples, tuple_a and tuple_b, are provided. To merge them, we simply use the + operator to concatenate the two tuples. The result is a new tuple, merged_tuple, that contains all the elements from both tuple_a and tuple_b.\n",
    "\n",
    "31: Flatten a nested tuple.\n",
    "    In this task, we start with a nested tuple named nested_tuple, which contains inner tuples. To flatten it, we use a list comprehension to iterate through each inner tuple and extract its elements. These elements are then combined into a flattened list. Finally, the flattened list is converted back into a tuple, resulting in the flattened_tuple, which contains all the elements from the original nested tuple in a single level.\n",
    "\n",
    "\n",
    "\n",
    "\n"
   ]
  },
  {
   "cell_type": "code",
   "execution_count": 234,
   "id": "580c4f1b-0be3-4035-a32f-b388157ceb16",
   "metadata": {},
   "outputs": [
    {
     "name": "stdout",
     "output_type": "stream",
     "text": [
      "(2, 3, 5, 7, 11)\n"
     ]
    }
   ],
   "source": [
    "# 32: Create a tuple of the first 5 prime numbers\n",
    "\n",
    "\n",
    "# Initialize variables\n",
    "prime_numbers = []\n",
    "num = 2\n",
    "\n",
    "# Generate the first 5 prime numbers\n",
    "while len(prime_numbers) < 5:\n",
    "    is_prime = True\n",
    "    for i in range(2, int(num**0.5) + 1):\n",
    "        if num % i == 0:\n",
    "            is_prime = False\n",
    "            break\n",
    "    if is_prime:\n",
    "        prime_numbers.append(num)\n",
    "    num += 1\n",
    "\n",
    "# Convert the list of prime numbers to a tuple\n",
    "prime_tuple = tuple(prime_numbers)\n",
    "\n",
    "# Print the tuple of the first 5 prime numbers\n",
    "print(prime_tuple)\n",
    "\n",
    "\n",
    "\n",
    "\n",
    "\n",
    "# Explanation:\n",
    "\n",
    "# We initialize an empty list prime_numbers to store the first 5 prime numbers.\n",
    "# We start with num set to 2 and use a while loop to find the prime numbers.\n",
    "# Inside the loop, we check if num is prime by iterating through numbers from 2 to the square root of num. If we find any divisor other than 1 and itself, we set is_prime to False and break the loop.\n",
    "# If is_prime remains True after the loop, we add num to the prime_numbers list.\n",
    "# We increment num and continue the loop until we have 5 prime numbers.\n",
    "# Finally, we convert the list prime_numbers to a tuple and print it.\"\"\""
   ]
  },
  {
   "cell_type": "code",
   "execution_count": 235,
   "id": "598627b2-d26b-4f41-90a5-f99a6e0a9139",
   "metadata": {},
   "outputs": [
    {
     "name": "stdout",
     "output_type": "stream",
     "text": [
      "The tuple is a palindrome.\n"
     ]
    }
   ],
   "source": [
    "# 33: Check if a tuple is a palindrome\n",
    "\n",
    "\n",
    "# Test if a tuple is a palindrome\n",
    "my_tuple = (1, 2, 3, 2, 1)\n",
    "is_palindrome = my_tuple == my_tuple[::-1]\n",
    "\n",
    "# Print the result\n",
    "if is_palindrome:\n",
    "    print(\"The tuple is a palindrome.\")\n",
    "else:\n",
    "    print(\"The tuple is not a palindrome.\")\n",
    "\n",
    "    \n",
    "    \n",
    "    \n",
    "\n",
    "# Explanation:\n",
    "\n",
    "# We have a tuple my_tuple that contains elements.\n",
    "# To check if it's a palindrome, we use slicing ([::-1]) to reverse the tuple and then compare it with the original tuple.\n",
    "# If the reversed tuple is the same as the original tuple, it's a palindrome, and is_palindrome is set to True.\n",
    "# We print whether the tuple is a palindrome or not based on the value of is_palindrome.\n"
   ]
  },
  {
   "cell_type": "code",
   "execution_count": 236,
   "id": "5aa05225-5bb6-4443-a5c3-0583d52766d9",
   "metadata": {},
   "outputs": [
    {
     "name": "stdout",
     "output_type": "stream",
     "text": [
      "(1, 4, 9, 16, 25)\n"
     ]
    }
   ],
   "source": [
    "# 34: Create a tuple of squares of numbers from 1 to 5.\n",
    "\n",
    "\n",
    "# Using a list comprehension to create a tuple of squares\n",
    "squares_tuple = tuple(x**2 for x in range(1, 6))\n",
    "\n",
    "# Print the tuple of squares\n",
    "print(squares_tuple)\n",
    "\n",
    "\n",
    "\n",
    "\n",
    "# Explanation:\n",
    "\n",
    "# We use a list comprehension to create a tuple squares_tuple by iterating over numbers from 1 to 5 (inclusive).\n",
    "# For each number, we calculate its square (x**2) and collect these squared values in the tuple.\n",
    "# Finally, we print the squares_tuple, which contains the squares of numbers from 1 to 5."
   ]
  },
  {
   "cell_type": "code",
   "execution_count": 237,
   "id": "d6076184-3fc1-4c09-9a68-b0a64bf90052",
   "metadata": {},
   "outputs": [
    {
     "name": "stdout",
     "output_type": "stream",
     "text": [
      "(1, 3, 5)\n"
     ]
    }
   ],
   "source": [
    "# 35: Filter out all even numbers from a tuple.\n",
    "\n",
    "\n",
    "# Test the function with a tuple\n",
    "original_tuple = (1, 2, 3, 4, 5, 6)\n",
    "filtered_tuple = tuple(x for x in original_tuple if x % 2 != 0)\n",
    "\n",
    "# Print the filtered tuple\n",
    "print(filtered_tuple)\n",
    "\n",
    "\n",
    "\n",
    "# Explanation:\n",
    "\n",
    "# We have an original tuple original_tuple containing some numbers.\n",
    "# We use a list comprehension to create a new tuple filtered_tuple by iterating over the elements of original_tuple and including only those that are not even (where x % 2 != 0).\n",
    "# This filters out all even numbers from the original tuple.\n",
    "# Finally, we print the filtered_tuple."
   ]
  },
  {
   "cell_type": "code",
   "execution_count": 238,
   "id": "0d899eab-cee8-4e36-8665-24f0e550f706",
   "metadata": {},
   "outputs": [
    {
     "name": "stdout",
     "output_type": "stream",
     "text": [
      "(2, 4, 6, 8, 10)\n"
     ]
    }
   ],
   "source": [
    "#  36: Multiply all elements in a tuple by 2.\n",
    "\n",
    "\n",
    "# Test the function with a tuple\n",
    "original_tuple = (1, 2, 3, 4, 5)\n",
    "doubled_tuple = tuple(x * 2 for x in original_tuple)\n",
    "\n",
    "# Print the doubled tuple\n",
    "print(doubled_tuple)\n",
    "\n",
    "\n",
    "\n",
    "\n",
    "# Explanation:\n",
    "\n",
    "# We have an original tuple original_tuple containing some numbers.\n",
    "# We use a list comprehension to create a new tuple doubled_tuple by iterating over the elements of original_tuple and multiplying each element by 2 (x * 2).\n",
    "# This operation doubles all the values in the original tuple.\n",
    "# Finally, we print the doubled_tuple, which contains all elements multiplied by 2.\n",
    "\n",
    "\n",
    "\n"
   ]
  },
  {
   "cell_type": "code",
   "execution_count": 239,
   "id": "82149701-8b33-420d-8f1d-c282f9d68ac2",
   "metadata": {},
   "outputs": [
    {
     "name": "stdout",
     "output_type": "stream",
     "text": [
      "(42, 24, 98, 39, 53)\n"
     ]
    }
   ],
   "source": [
    "#  37: Create a tuple of random numbers\n",
    "\n",
    "\n",
    "import random\n",
    "\n",
    "# Generate a tuple of 5 random numbers between 1 and 100\n",
    "random_tuple = tuple(random.randint(1, 100) for _ in range(5))\n",
    "\n",
    "# Print the tuple of random numbers\n",
    "print(random_tuple)\n"
   ]
  },
  {
   "cell_type": "markdown",
   "id": "cbe8bcfa-23ca-4a5c-a05a-72089077f4db",
   "metadata": {},
   "source": [
    "Explanation:\n",
    "\n",
    "We import the random module to generate random numbers.\n",
    "Using a list comprehension, we generate 5 random integers between 1 and 100 and convert them into a tuple.\n",
    "Finally, we print the tuple of random numbers."
   ]
  },
  {
   "cell_type": "code",
   "execution_count": 240,
   "id": "96feca42-563f-4952-8fca-ec14d5f1c1c1",
   "metadata": {},
   "outputs": [
    {
     "name": "stdout",
     "output_type": "stream",
     "text": [
      "The tuple is sorted.\n"
     ]
    }
   ],
   "source": [
    "# 38: Check if a tuple is sorted\n",
    "\n",
    "\n",
    "# Check if a tuple is sorted in ascending order\n",
    "my_tuple = (1, 2, 3, 4, 5)\n",
    "is_sorted = my_tuple == tuple(sorted(my_tuple))\n",
    "\n",
    "# Print the result\n",
    "if is_sorted:\n",
    "    print(\"The tuple is sorted.\")\n",
    "else:\n",
    "    print(\"The tuple is not sorted.\")\n"
   ]
  },
  {
   "cell_type": "markdown",
   "id": "4b2ae4ce-c73f-4864-b251-9e65e732a0b7",
   "metadata": {},
   "source": [
    "Explanation:\n",
    "\n",
    "We have a tuple my_tuple containing elements in ascending order.\n",
    "To check if it's sorted, we sort the tuple using the sorted() function, and then we compare it with the original tuple.\n",
    "If the sorted tuple is equal to the original tuple, it means the original tuple is sorted in ascending order.\n",
    "We print whether the tuple is sorted or not based on the value of is_sorted."
   ]
  },
  {
   "cell_type": "code",
   "execution_count": 241,
   "id": "eea30834-ea79-41ff-bcb8-30508ef49c3b",
   "metadata": {},
   "outputs": [
    {
     "name": "stdout",
     "output_type": "stream",
     "text": [
      "(3, 4, 5, 1, 2)\n"
     ]
    }
   ],
   "source": [
    "#  39: Rotate a tuple to the left by n positions.\n",
    "\n",
    "\n",
    "# Rotate a tuple to the left by n positions\n",
    "def rotate_left(tuple_to_rotate, n):\n",
    "    n = n % len(tuple_to_rotate)\n",
    "    rotated_tuple = tuple_to_rotate[n:] + tuple_to_rotate[:n]\n",
    "    return rotated_tuple\n",
    "\n",
    "my_tuple = (1, 2, 3, 4, 5)\n",
    "n = 2\n",
    "rotated_tuple = rotate_left(my_tuple, n)\n",
    "\n",
    "# Print the rotated tuple\n",
    "print(rotated_tuple)\n"
   ]
  },
  {
   "cell_type": "markdown",
   "id": "f20e952a-4255-4a54-9386-9561ecd19299",
   "metadata": {},
   "source": [
    "Explanation:\n",
    "\n",
    "We define a function rotate_left that takes a tuple and the number of positions to rotate.\n",
    "To rotate left, we calculate the effective rotation value as n % len(tuple_to_rotate) to handle cases where n is larger than the tuple's length.\n",
    "We create a new tuple rotated_tuple by concatenating the slice of elements from position n to the end with the slice from the beginning to position n.\n",
    "Finally, we print the rotated tuple."
   ]
  },
  {
   "cell_type": "code",
   "execution_count": 242,
   "id": "4c4696fd-0cf7-4a24-ba1e-b30cd838251d",
   "metadata": {},
   "outputs": [
    {
     "name": "stdout",
     "output_type": "stream",
     "text": [
      "(4, 5, 1, 2, 3)\n"
     ]
    }
   ],
   "source": [
    "# 40: Rotate a tuple to the right by n positions.\n",
    "\n",
    "\n",
    "# Rotate a tuple to the right by n positions\n",
    "def rotate_right(tuple_to_rotate, n):\n",
    "    n = n % len(tuple_to_rotate)\n",
    "    rotated_tuple = tuple_to_rotate[-n:] + tuple_to_rotate[:-n]\n",
    "    return rotated_tuple\n",
    "\n",
    "my_tuple = (1, 2, 3, 4, 5)\n",
    "n = 2\n",
    "rotated_tuple = rotate_right(my_tuple, n)\n",
    "\n",
    "# Print the rotated tuple\n",
    "print(rotated_tuple)\n"
   ]
  },
  {
   "cell_type": "markdown",
   "id": "d905d061-e5f3-44c0-822c-8d4aa04e57ff",
   "metadata": {},
   "source": [
    "Explanation:\n",
    "\n",
    "We define a function rotate_right that takes a tuple and the number of positions to rotate.\n",
    "Similar to the left rotation, we calculate the effective rotation value as n % len(tuple_to_rotate).\n",
    "We create a new tuple rotated_tuple by concatenating the slice of elements from the last -n positions to the end with the slice from the beginning to the last -n positions.\n",
    "This effectively rotates the tuple to the right by n positions.\n",
    "Finally, we print the rotated tuple."
   ]
  },
  {
   "cell_type": "code",
   "execution_count": 243,
   "id": "d226680f-8651-40db-801c-31de753e4cf4",
   "metadata": {},
   "outputs": [
    {
     "name": "stdout",
     "output_type": "stream",
     "text": [
      "(0, 1, 1, 2, 3)\n"
     ]
    }
   ],
   "source": [
    "#  41: Create a tuple of the first 5 Fibonacci numbers.\n",
    "\n",
    "\n",
    "# Generate a tuple of the first 5 Fibonacci numbers\n",
    "fibonacci_tuple = (0, 1, 1, 2, 3)\n",
    "\n",
    "# Print the tuple of Fibonacci numbers\n",
    "print(fibonacci_tuple)\n"
   ]
  },
  {
   "cell_type": "markdown",
   "id": "d98c2995-7238-41ab-bd2d-7ef32bbab8af",
   "metadata": {},
   "source": [
    "Explanation:\n",
    "\n",
    "We manually create a tuple fibonacci_tuple containing the first 5 Fibonacci numbers (0, 1, 1, 2, 3).\n",
    "Fibonacci numbers are a sequence where each number is the sum of the two preceding ones.\n",
    "We print the tuple of Fibonacci numbers."
   ]
  },
  {
   "cell_type": "code",
   "execution_count": 245,
   "id": "96069859-a6b0-4e41-9ab5-1e5d12aa99c6",
   "metadata": {},
   "outputs": [
    {
     "name": "stdin",
     "output_type": "stream",
     "text": [
      "Enter comma-separated values for the tuple:  10,50\n"
     ]
    },
    {
     "name": "stdout",
     "output_type": "stream",
     "text": [
      "(10, 50)\n"
     ]
    }
   ],
   "source": [
    "#   42: Create a tuple from user input.\n",
    "\n",
    "\n",
    "# Take user input and create a tuple\n",
    "user_input = input(\"Enter comma-separated values for the tuple: \")\n",
    "user_input = user_input.split(\",\")\n",
    "user_tuple = tuple(map(int, user_input))\n",
    "\n",
    "# Print the user-created tuple\n",
    "print(user_tuple)\n"
   ]
  },
  {
   "cell_type": "markdown",
   "id": "e8d53d13-0e93-4754-9dae-5ebe1270ddd7",
   "metadata": {},
   "source": [
    "Explanation:\n",
    "\n",
    "We prompt the user to enter values separated by commas.\n",
    "We split the user's input using split(\",\") to obtain a list of strings.\n",
    "We then use map(int, user_input) to convert each string to an integer, and finally, we convert the resulting iterable into a tuple.\n",
    "We print the user-created tuple."
   ]
  },
  {
   "cell_type": "code",
   "execution_count": 246,
   "id": "6a36ad29-e693-4683-a089-679f7a4902ab",
   "metadata": {},
   "outputs": [
    {
     "name": "stdout",
     "output_type": "stream",
     "text": [
      "(1, 4, 3, 2, 5)\n"
     ]
    }
   ],
   "source": [
    "#  43: Swap two elements in a tuple.\n",
    "\n",
    "\n",
    "# Swap two elements in a tuple\n",
    "my_tuple = (1, 2, 3, 4, 5)\n",
    "index1 = 1\n",
    "index2 = 3\n",
    "tuple_list = list(my_tuple)\n",
    "tuple_list[index1], tuple_list[index2] = tuple_list[index2], tuple_list[index1]\n",
    "swapped_tuple = tuple(tuple_list)\n",
    "\n",
    "# Print the swapped tuple\n",
    "print(swapped_tuple)\n"
   ]
  },
  {
   "cell_type": "markdown",
   "id": "b9bf7832-56ba-4d53-8ea6-bd6127cd11ac",
   "metadata": {},
   "source": [
    "Explanation:\n",
    "\n",
    "We have a tuple my_tuple containing elements.\n",
    "To swap elements at positions index1 and index2, we first convert the tuple to a list (tuple_list).\n",
    "We then use tuple unpacking to swap the elements in the list.\n",
    "After swapping, we convert the list back into a tuple swapped_tuple.\n",
    "Finally, we print the swapped tuple."
   ]
  },
  {
   "cell_type": "code",
   "execution_count": 247,
   "id": "e3f324e1-f453-4ae4-9c67-a6532868da39",
   "metadata": {},
   "outputs": [
    {
     "name": "stdout",
     "output_type": "stream",
     "text": [
      "(5, 4, 3, 2, 1)\n"
     ]
    }
   ],
   "source": [
    "#  44: Reverse the elements of a tuple.\n",
    "\n",
    "\n",
    "# Reverse the elements of a tuple\n",
    "my_tuple = (1, 2, 3, 4, 5)\n",
    "reversed_tuple = my_tuple[::-1]\n",
    "\n",
    "# Print the reversed tuple\n",
    "print(reversed_tuple)\n"
   ]
  },
  {
   "cell_type": "markdown",
   "id": "4df0e946-ac64-4c2c-bc65-fff3dc1aa40a",
   "metadata": {},
   "source": [
    "Explanation:\n",
    "\n",
    "We have a tuple my_tuple containing elements.\n",
    "To reverse the elements, we use slicing with a step of -1, which effectively reverses the order of the elements.\n",
    "We create a new tuple reversed_tuple with the reversed order.\n",
    "Finally, we print the reversed tuple.\n"
   ]
  },
  {
   "cell_type": "code",
   "execution_count": 248,
   "id": "0711c969-cfdf-4216-998e-0e7126f15699",
   "metadata": {},
   "outputs": [
    {
     "name": "stdout",
     "output_type": "stream",
     "text": [
      "(1, 2, 4, 8, 16)\n"
     ]
    }
   ],
   "source": [
    "# 45: Create a tuple of the first n powers of 2.\n",
    "\n",
    "\n",
    "# Generate a tuple of the first n powers of 2\n",
    "n = 5\n",
    "powers_of_2_tuple = tuple(2**i for i in range(n))\n",
    "\n",
    "# Print the tuple of powers of 2\n",
    "print(powers_of_2_tuple)\n"
   ]
  },
  {
   "cell_type": "markdown",
   "id": "b482ee77-1a68-4c97-87c1-e81c4deccedb",
   "metadata": {},
   "source": [
    "Explanation:\n",
    "\n",
    "We specify the value of n to determine how many powers of 2 we want in the tuple.\n",
    "We use a generator expression to create a tuple containing the first n powers of 2 by calculating 2**i for each i in the range from 0 to n-1.\n",
    "Finally, we print the tuple of powers of 2."
   ]
  },
  {
   "cell_type": "code",
   "execution_count": 252,
   "id": "002f188d-c5e8-40f7-902d-c3f1c0461511",
   "metadata": {},
   "outputs": [
    {
     "name": "stdout",
     "output_type": "stream",
     "text": [
      "The longest string is: banana\n"
     ]
    }
   ],
   "source": [
    "# 46. Find the longest string in a tuple of strings\n",
    "my_tuple = (\"apple\", \"banana\", \"cherry\", \"date\")\n",
    "longest_string = max(my_tuple, key=len)\n",
    "\n",
    "# Print the longest string\n",
    "print(\"The longest string is:\", longest_string)\n"
   ]
  },
  {
   "cell_type": "markdown",
   "id": "64d28b5c-70e8-4ce3-8ab1-dbe061b4252b",
   "metadata": {},
   "source": [
    "Explanation:\n",
    "\n",
    "We have a tuple my_tuple that contains strings.\n",
    "We use the max() function to find the longest string in the tuple. The key=len argument tells max() to compare the strings based on their lengths.\n",
    "The max() function returns the element with the maximum length (i.e., the longest string).\n",
    "We store the longest string in the variable longest_string.\n",
    "Finally, we print the result, indicating that longest_string is the longest string in the tuple."
   ]
  },
  {
   "cell_type": "code",
   "execution_count": 254,
   "id": "eecdc9cc-de76-4f95-aac9-9eb4f7ed13f3",
   "metadata": {},
   "outputs": [
    {
     "name": "stdout",
     "output_type": "stream",
     "text": [
      "The shortest string is: date\n"
     ]
    }
   ],
   "source": [
    "#  47: Find the shortest string in a tuple of strings.\n",
    "\n",
    "\n",
    "# Find the shortest string in a tuple of strings\n",
    "my_tuple = (\"apple\", \"banana\", \"cherry\", \"date\")\n",
    "shortest_string = min(my_tuple, key=len)\n",
    "\n",
    "# Print the shortest string\n",
    "print(\"The shortest string is:\", shortest_string)\n"
   ]
  },
  {
   "cell_type": "markdown",
   "id": "05e50d72-f86d-4901-98f4-47dbba71da22",
   "metadata": {},
   "source": [
    "Explanation:\n",
    "\n",
    "We have a tuple my_tuple that contains strings.\n",
    "We use the min() function to find the shortest string in the tuple. The key=len argument tells min() to compare the strings based on their lengths.\n",
    "The min() function returns the element with the minimum length (i.e., the shortest string).\n",
    "We store the shortest string in the variable shortest_string.\n",
    "Finally, we print the result, indicating that shortest_string is the shortest string in the tuple.\n"
   ]
  },
  {
   "cell_type": "code",
   "execution_count": 255,
   "id": "2dcf6d9f-a269-42d1-a649-8676c7ce8e8e",
   "metadata": {},
   "outputs": [
    {
     "name": "stdout",
     "output_type": "stream",
     "text": [
      "(1, 3, 6, 10, 15)\n"
     ]
    }
   ],
   "source": [
    "# 48: Create a tuple of the first n triangular numbers.\n",
    "\n",
    "\n",
    "# Generate a tuple of the first n triangular numbers\n",
    "n = 5\n",
    "triangular_numbers = [n * (n + 1) // 2 for n in range(1, n + 1)]\n",
    "triangular_tuple = tuple(triangular_numbers)\n",
    "\n",
    "# Print the tuple of triangular numbers\n",
    "print(triangular_tuple)\n"
   ]
  },
  {
   "cell_type": "markdown",
   "id": "ec54030d-91c1-493d-b1e7-d5fcaec898a1",
   "metadata": {},
   "source": [
    "Explanation:\n",
    "\n",
    "We specify the value of n to determine how many triangular numbers we want in the tuple.\n",
    "Triangular numbers are calculated as n * (n + 1) // 2.\n",
    "We use a list comprehension to generate the first n triangular numbers by iterating through the range from 1 to n.\n",
    "Finally, we convert the list of triangular numbers into a tuple and print it."
   ]
  },
  {
   "cell_type": "code",
   "execution_count": 256,
   "id": "fcf9ac4a-7c7b-4b28-bc2b-a703a2b02eb5",
   "metadata": {},
   "outputs": [
    {
     "name": "stdout",
     "output_type": "stream",
     "text": [
      "The sub-tuple is present in the main tuple.\n"
     ]
    }
   ],
   "source": [
    "# 49: Check if a tuple contains another tuple as a subsequence.\n",
    "\n",
    "\n",
    "# Check if a tuple contains another tuple as a subsequence\n",
    "main_tuple = (1, 2, 3, (4, 5), 6, 7)\n",
    "sub_tuple = (4, 5)\n",
    "\n",
    "if sub_tuple in main_tuple:\n",
    "    print(\"The sub-tuple is present in the main tuple.\")\n",
    "else:\n",
    "    print(\"The sub-tuple is not present in the main tuple.\")\n"
   ]
  },
  {
   "cell_type": "markdown",
   "id": "4f442f81-6981-4a55-a230-011bc19eadb6",
   "metadata": {},
   "source": [
    "Explanation:\n",
    "\n",
    "We have a main tuple main_tuple that contains various elements, including another tuple (4, 5).\n",
    "We want to check if the sub-tuple (4, 5) is present as a subsequence within the main tuple.\n",
    "We use the in operator to perform this check. If the sub-tuple is found within the main tuple, it prints a message indicating its presence; otherwise, it prints a message indicating its absence."
   ]
  },
  {
   "cell_type": "code",
   "execution_count": 258,
   "id": "8bf12cbe-9e4a-486c-8291-cb064f5637f7",
   "metadata": {},
   "outputs": [
    {
     "name": "stdout",
     "output_type": "stream",
     "text": [
      "(1, 0, 1, 0, 1, 0, 1, 0)\n"
     ]
    }
   ],
   "source": [
    "#   50: Create a tuple of alternating 1s and 0s of length n.\n",
    "\n",
    "\n",
    "# Create a tuple of alternating 1s and 0s of length n\n",
    "n = 8\n",
    "alternating_tuple = tuple(1 if i % 2 == 0 else 0 for i in range(n))\n",
    "\n",
    "# Print the alternating tuple\n",
    "print(alternating_tuple)\n"
   ]
  },
  {
   "cell_type": "markdown",
   "id": "8c0509f2-b436-4c18-be63-05c01302ef2f",
   "metadata": {},
   "source": [
    "Explanation:\n",
    "\n",
    "We specify the value of n to determine the length of the tuple containing alternating 1s and 0s.\n",
    "We use a tuple comprehension to create the alternating tuple by iterating through the range from 0 to n-1.\n",
    "For each index i, we use a conditional expression to determine whether to add a 1 or a 0 to the tuple based on whether i is even or odd.\n",
    "Finally, we print the alternating tuple."
   ]
  },
  {
   "cell_type": "markdown",
   "id": "de9521e4-3a84-4ac2-aa71-a434a219aa2a",
   "metadata": {},
   "source": [
    "SET BASED PRACTICE PROBLEMS---->>>>"
   ]
  },
  {
   "cell_type": "code",
   "execution_count": 260,
   "id": "0b5b31a8-82c1-4b47-ba45-c7aa4e02480c",
   "metadata": {},
   "outputs": [
    {
     "name": "stdout",
     "output_type": "stream",
     "text": [
      "{1, 2, 3, 4, 5}\n"
     ]
    }
   ],
   "source": [
    "# 1: Create a set with integers from 1 to 5.\n",
    "\n",
    "\n",
    "my_set = {1, 2, 3, 4, 5}\n",
    "\n",
    "# Print the set\n",
    "print(my_set)\n"
   ]
  },
  {
   "cell_type": "markdown",
   "id": "1e122f56-2123-41da-83e5-8de6f616d2ab",
   "metadata": {},
   "source": [
    "Explanation:\n",
    "\n",
    "We use curly braces {} to create a set, which is an unordered collection of unique elements.\n",
    "Inside the braces, we list integers from 1 to 5, creating a set my_set with these values.\n",
    "Finally, we print the set, which may not maintain the order of elements."
   ]
  },
  {
   "cell_type": "code",
   "execution_count": 261,
   "id": "54829883-6bdd-4fad-bf5b-8040938895ed",
   "metadata": {},
   "outputs": [
    {
     "name": "stdout",
     "output_type": "stream",
     "text": [
      "{1, 2, 3, 4}\n"
     ]
    }
   ],
   "source": [
    "# 2. Add an element to a set.\n",
    "\n",
    "\n",
    "my_set = {1, 2, 3}\n",
    "my_set.add(4)\n",
    "\n",
    "# Print the updated set\n",
    "print(my_set)\n"
   ]
  },
  {
   "cell_type": "markdown",
   "id": "4aa13938-20e1-4281-b505-4260a42ec286",
   "metadata": {},
   "source": [
    "Explanation:\n",
    "\n",
    "We have a set my_set initially containing elements 1, 2, and 3.\n",
    "We use the add() method to add the element 4 to the set.\n",
    "After adding 4, we print the updated set, which now includes 4 as well."
   ]
  },
  {
   "cell_type": "code",
   "execution_count": 262,
   "id": "5d8a5cc9-5de5-47da-9e0a-4c18c1fce500",
   "metadata": {},
   "outputs": [
    {
     "name": "stdout",
     "output_type": "stream",
     "text": [
      "{1, 2, 4}\n"
     ]
    }
   ],
   "source": [
    "# 3. Remove an element from a set\n",
    "my_set = {1, 2, 3, 4}\n",
    "my_set.remove(3)\n",
    "\n",
    "# Print the updated set\n",
    "print(my_set)\n"
   ]
  },
  {
   "cell_type": "markdown",
   "id": "fc7d8684-618d-4043-abe8-fb13975edd52",
   "metadata": {},
   "source": [
    "Explanation:\n",
    "\n",
    "We have a set my_set containing elements 1, 2, 3, and 4.\n",
    "We use the remove() method to remove the element 3 from the set.\n",
    "After removal, we print the updated set, which no longer contains 3."
   ]
  },
  {
   "cell_type": "code",
   "execution_count": 263,
   "id": "c6555adf-3618-4563-af9e-cbcfcc6e6ce5",
   "metadata": {},
   "outputs": [
    {
     "name": "stdout",
     "output_type": "stream",
     "text": [
      "3 exists in the set.\n"
     ]
    }
   ],
   "source": [
    "# 4. Check if an element exists in a set.\n",
    "\n",
    "\n",
    "my_set = {1, 2, 3, 4, 5}\n",
    "element_to_check = 3\n",
    "\n",
    "if element_to_check in my_set:\n",
    "    print(f\"{element_to_check} exists in the set.\")\n",
    "else:\n",
    "    print(f\"{element_to_check} does not exist in the set.\")\n"
   ]
  },
  {
   "cell_type": "markdown",
   "id": "54fdee2b-6583-4356-94d8-cc8c496e3fd7",
   "metadata": {},
   "source": [
    "Explanation:\n",
    "\n",
    "We have a set my_set containing elements 1, 2, 3, 4, and 5.\n",
    "We want to check if element_to_check (which is 3 in this case) exists in the set.\n",
    "We use an if statement with the in operator to perform the check. If the element is found in the set, it prints a message indicating its presence; otherwise, it prints a message indicating its absence."
   ]
  },
  {
   "cell_type": "code",
   "execution_count": 264,
   "id": "0921ad53-9282-409a-a8ed-f9e03eacbee4",
   "metadata": {},
   "outputs": [
    {
     "name": "stdout",
     "output_type": "stream",
     "text": [
      "The length of the set is: 5\n"
     ]
    }
   ],
   "source": [
    "# 5. Find the length of a set without using len().\n",
    "\n",
    "\n",
    "\n",
    "my_set = {1, 2, 3, 4, 5}\n",
    "count = 0\n",
    "\n",
    "for _ in my_set:\n",
    "    count += 1\n",
    "\n",
    "# Print the length of the set\n",
    "print(\"The length of the set is:\", count)\n"
   ]
  },
  {
   "cell_type": "markdown",
   "id": "6ed09109-60a3-480c-ba96-a9eb369f44f9",
   "metadata": {},
   "source": [
    "Explanation:\n",
    "\n",
    "We have a set my_set containing elements.\n",
    "To find the length of the set without using the len() function, we initialize a variable count to 0.\n",
    "We iterate through the elements of the set using a for loop and increment count for each element encountered.\n",
    "Finally, we print the value of count, which represents the length of the set."
   ]
  },
  {
   "cell_type": "code",
   "execution_count": 265,
   "id": "a6919084-e8cd-4ad5-9434-4cd855cd6d23",
   "metadata": {},
   "outputs": [
    {
     "name": "stdout",
     "output_type": "stream",
     "text": [
      "set()\n"
     ]
    }
   ],
   "source": [
    "# 6. Clear all elements from a set.\n",
    "\n",
    "\n",
    "\n",
    "my_set = {1, 2, 3, 4, 5}\n",
    "my_set.clear()\n",
    "\n",
    "# Print the empty set\n",
    "print(my_set)\n"
   ]
  },
  {
   "cell_type": "markdown",
   "id": "305fc265-9497-4ec5-bd13-ff384106c86b",
   "metadata": {},
   "source": [
    "Explanation:\n",
    "\n",
    "We have a set my_set containing elements.\n",
    "We use the clear() method to remove all elements from the set, making it an empty set.\n",
    "After clearing, we print the set, which is now empty."
   ]
  },
  {
   "cell_type": "code",
   "execution_count": 266,
   "id": "9dda7bd7-0500-4a56-a6bc-6f6ea81c673b",
   "metadata": {},
   "outputs": [
    {
     "name": "stdout",
     "output_type": "stream",
     "text": [
      "{2, 4, 6, 8, 10}\n"
     ]
    }
   ],
   "source": [
    "# 7. Create a set of even numbers from 1 to 10.\n",
    "\n",
    "\n",
    "\n",
    "even_set = {x for x in range(2, 11, 2)}\n",
    "\n",
    "# Print the set of even numbers\n",
    "print(even_set)\n"
   ]
  },
  {
   "cell_type": "markdown",
   "id": "75f153e3-bb31-4e27-a483-3384df4f9dc6",
   "metadata": {},
   "source": [
    "Explanation:\n",
    "\n",
    "We use a set comprehension to create a set even_set containing even numbers.\n",
    "The comprehension iterates through the range from 2 to 10 (inclusive) with a step of 2, which generates even numbers.\n",
    "Finally, we print the set of even numbers."
   ]
  },
  {
   "cell_type": "code",
   "execution_count": 267,
   "id": "4dbb4037-2dcd-49ea-a744-957211bd797b",
   "metadata": {},
   "outputs": [
    {
     "name": "stdout",
     "output_type": "stream",
     "text": [
      "{1, 3, 5, 7, 9}\n"
     ]
    }
   ],
   "source": [
    "# 8. Create a set of odd numbers from 1 to 10.\n",
    "\n",
    "\n",
    "\n",
    "odd_set = {x for x in range(1, 11, 2)}\n",
    "\n",
    "# Print the set of odd numbers\n",
    "print(odd_set)\n"
   ]
  },
  {
   "cell_type": "markdown",
   "id": "58428a3c-b987-4f35-bf9d-9f597c42e7ed",
   "metadata": {},
   "source": [
    "Explanation:\n",
    "\n",
    "Similar to the previous task, we use a set comprehension to create a set odd_set, but this time, it contains odd numbers.\n",
    "The comprehension iterates"
   ]
  },
  {
   "cell_type": "code",
   "execution_count": 268,
   "id": "712e4c88-3af0-4917-9325-2f41734d582d",
   "metadata": {},
   "outputs": [
    {
     "name": "stdout",
     "output_type": "stream",
     "text": [
      "{1, 2, 3, 4, 5}\n"
     ]
    }
   ],
   "source": [
    "# 9. Find the union of two sets.\n",
    "\n",
    "\n",
    "\n",
    "set1 = {1, 2, 3}\n",
    "set2 = {3, 4, 5}\n",
    "union_set = set1.union(set2)\n",
    "\n",
    "# Print the union set\n",
    "print(union_set)\n"
   ]
  },
  {
   "cell_type": "markdown",
   "id": "ae5d9cfd-f88e-4e95-ac58-5fb1e51ee7c5",
   "metadata": {},
   "source": [
    "Explanation:\n",
    "\n",
    "We have two sets, set1 and set2, each containing distinct elements.\n",
    "We use the union() method or the | operator to find the union of these two sets, which includes all unique elements from both sets.\n",
    "Finally, we print the union set."
   ]
  },
  {
   "cell_type": "code",
   "execution_count": 269,
   "id": "174f9cbc-60a7-42d5-93f3-c4d1a45e9080",
   "metadata": {},
   "outputs": [
    {
     "name": "stdout",
     "output_type": "stream",
     "text": [
      "{3}\n"
     ]
    }
   ],
   "source": [
    "# 10. Find the intersection of two sets.\n",
    "\n",
    "\n",
    "\n",
    "set1 = {1, 2, 3}\n",
    "set2 = {3, 4, 5}\n",
    "intersection_set = set1.intersection(set2)\n",
    "\n",
    "# Print the intersection set\n",
    "print(intersection_set)\n"
   ]
  },
  {
   "cell_type": "markdown",
   "id": "966af4c4-ae0a-45f6-b58d-370bdbec1d67",
   "metadata": {},
   "source": [
    "Explanation:\n",
    "\n",
    "We have two sets, set1 and set2, each containing distinct elements.\n",
    "We use the intersection() method or the & operator to find the intersection of these two sets, which includes elements that are common to both sets.\n",
    "Finally, we print the intersection set."
   ]
  },
  {
   "cell_type": "code",
   "execution_count": 270,
   "id": "b63aa8c0-0d3b-4411-aaec-24a3ca3e6c4f",
   "metadata": {},
   "outputs": [
    {
     "name": "stdout",
     "output_type": "stream",
     "text": [
      "{1, 2}\n"
     ]
    }
   ],
   "source": [
    "# 11. Find the difference between two sets.\n",
    "\n",
    "\n",
    "set1 = {1, 2, 3}\n",
    "set2 = {3, 4, 5}\n",
    "difference_set = set1.difference(set2)\n",
    "\n",
    "# Print the difference set\n",
    "print(difference_set)\n"
   ]
  },
  {
   "cell_type": "markdown",
   "id": "6c05cdfc-a9dc-447e-8a10-1408c38b0861",
   "metadata": {},
   "source": [
    "Explanation:\n",
    "\n",
    "We have two sets, set1 and set2, each containing distinct elements.\n",
    "We use the difference() method or the - operator to find the difference between set1 and set2. This results in a set containing elements that are in set1 but not in set2."
   ]
  },
  {
   "cell_type": "code",
   "execution_count": 271,
   "id": "10e80323-b3db-4688-bcff-5a2f3c01cf3a",
   "metadata": {},
   "outputs": [
    {
     "name": "stdout",
     "output_type": "stream",
     "text": [
      "subset_set is a subset of set1.\n"
     ]
    }
   ],
   "source": [
    "# 12. Check if a set is a subset of another set.\n",
    "\n",
    "\n",
    "\n",
    "set1 = {1, 2, 3, 4, 5}\n",
    "subset_set = {2, 3}\n",
    "\n",
    "if subset_set.issubset(set1):\n",
    "    print(\"subset_set is a subset of set1.\")\n",
    "else:\n",
    "    print(\"subset_set is not a subset of set1.\")\n"
   ]
  },
  {
   "cell_type": "markdown",
   "id": "21728571-5a21-4cdd-a34a-9da583916457",
   "metadata": {},
   "source": [
    "Explanation:\n",
    "\n",
    "We have two sets, set1 and subset_set.\n",
    "We use the issubset() method to check if subset_set is a subset of set1.\n",
    "If subset_set is a subset of set1, it prints a message indicating that; otherwise, it prints a message indicating that it's not a subset."
   ]
  },
  {
   "cell_type": "code",
   "execution_count": 272,
   "id": "958673c8-fb89-43ad-8ed2-28378d000b4a",
   "metadata": {},
   "outputs": [
    {
     "name": "stdout",
     "output_type": "stream",
     "text": [
      "set1 is a superset of superset_set.\n"
     ]
    }
   ],
   "source": [
    "# 13. Check if a set is a superset of another set.\n",
    "\n",
    "\n",
    "set1 = {1, 2, 3, 4, 5}\n",
    "superset_set = {2, 3}\n",
    "\n",
    "if set1.issuperset(superset_set):\n",
    "    print(\"set1 is a superset of superset_set.\")\n",
    "else:\n",
    "    print(\"set1 is not a superset of superset_set.\")\n"
   ]
  },
  {
   "cell_type": "markdown",
   "id": "4f30751f-e20d-4b88-a1a1-f69947614418",
   "metadata": {},
   "source": [
    "Explanation:\n",
    "\n",
    "We have two sets, set1 and superset_set.\n",
    "We use the issuperset() method to check if set1 is a superset of superset_set.\n",
    "If set1 is a superset of superset_set, it prints a message indicating that; otherwise, it prints a message indicating that it's not a superset."
   ]
  },
  {
   "cell_type": "code",
   "execution_count": 273,
   "id": "e9e84fc3-cb7c-4a31-baf5-919a865fb2a4",
   "metadata": {},
   "outputs": [
    {
     "name": "stdout",
     "output_type": "stream",
     "text": [
      "{1, 2, 3, 4, 5}\n"
     ]
    }
   ],
   "source": [
    "# 14. Create a set from a list.\n",
    "\n",
    "\n",
    "my_list = [1, 2, 3, 4, 5]\n",
    "my_set = set(my_list)\n",
    "\n",
    "# Print the set\n",
    "print(my_set)\n"
   ]
  },
  {
   "cell_type": "markdown",
   "id": "3b5522e1-8d77-4a13-b367-3969f1711314",
   "metadata": {},
   "source": [
    "Explanation:\n",
    "\n",
    "We have a list my_list containing elements.\n",
    "We use the set() constructor to create a set my_set from the elements of the list.\n",
    "Finally, we print the set."
   ]
  },
  {
   "cell_type": "code",
   "execution_count": 274,
   "id": "34aa3e40-d297-40d7-a918-c7c073b761ff",
   "metadata": {},
   "outputs": [
    {
     "name": "stdout",
     "output_type": "stream",
     "text": [
      "[1, 2, 3, 4, 5]\n"
     ]
    }
   ],
   "source": [
    "# 15. Convert a set to a list.\n",
    "\n",
    "\n",
    "my_set = {1, 2, 3, 4, 5}\n",
    "my_list = list(my_set)\n",
    "\n",
    "# Print the list\n",
    "print(my_list)\n"
   ]
  },
  {
   "cell_type": "markdown",
   "id": "c2fd53e9-41ed-452e-83b9-3246b6cb74ff",
   "metadata": {},
   "source": [
    "Explanation:\n",
    "\n",
    "We have a set my_set containing elements.\n",
    "We use the list() constructor to convert the set into a list my_list.\n",
    "Finally, we print the list.\n"
   ]
  },
  {
   "cell_type": "code",
   "execution_count": 275,
   "id": "87a43208-23a8-4d95-ab1b-69e049f6e246",
   "metadata": {},
   "outputs": [
    {
     "name": "stdout",
     "output_type": "stream",
     "text": [
      "{1, 2, 3, 4}\n"
     ]
    }
   ],
   "source": [
    "# 16: Remove a random element from a set.\n",
    "\n",
    "\n",
    "import random\n",
    "\n",
    "# Create a set\n",
    "my_set = {1, 2, 3, 4, 5}\n",
    "\n",
    "# Remove a random element from the set\n",
    "random_element = random.choice(tuple(my_set))\n",
    "my_set.remove(random_element)\n",
    "\n",
    "# Print the set after removal\n",
    "print(my_set)\n"
   ]
  },
  {
   "cell_type": "markdown",
   "id": "5657ce3b-f9d1-41a3-8607-1db8b687a009",
   "metadata": {},
   "source": [
    "Explanation:\n",
    "\n",
    "We import the random module to work with random elements.\n",
    "We have a set my_set containing elements.\n",
    "We use random.choice() to select a random element from the set. Since sets are unordered, we convert the set to a tuple first to make it indexable.\n",
    "We remove the selected random element from the set using the remove() method.\n",
    "Finally, we print the set after removal."
   ]
  },
  {
   "cell_type": "code",
   "execution_count": 276,
   "id": "b254e425-f319-4af6-8644-ba20697013fb",
   "metadata": {},
   "outputs": [
    {
     "name": "stdout",
     "output_type": "stream",
     "text": [
      "Popped Element: 1\n",
      "Updated Set: {2, 3, 4, 5}\n"
     ]
    }
   ],
   "source": [
    "# 17. Pop an element from a set.\n",
    "\n",
    "\n",
    "my_set = {1, 2, 3, 4, 5}\n",
    "popped_element = my_set.pop()\n",
    "\n",
    "# Print the popped element and the updated set\n",
    "print(\"Popped Element:\", popped_element)\n",
    "print(\"Updated Set:\", my_set)\n"
   ]
  },
  {
   "cell_type": "markdown",
   "id": "07dc2135-e280-4a2d-971c-01ec94b5548b",
   "metadata": {},
   "source": [
    "Explanation:\n",
    "\n",
    "We have a set my_set containing elements.\n",
    "We use the pop() method to remove and return an arbitrary element from the set.\n",
    "The popped element is stored in the variable popped_element, and the set is updated without that element.\n",
    "We print both the popped element and the updated set."
   ]
  },
  {
   "cell_type": "code",
   "execution_count": 277,
   "id": "8f93c695-297c-4a55-9a74-14699e3f4d78",
   "metadata": {},
   "outputs": [
    {
     "name": "stdout",
     "output_type": "stream",
     "text": [
      "The sets have no elements in common.\n"
     ]
    }
   ],
   "source": [
    "# 18. Check if two sets have no elements in common.\n",
    "\n",
    "\n",
    "set1 = {1, 2, 3}\n",
    "set2 = {4, 5, 6}\n",
    "\n",
    "if not set1.isdisjoint(set2):\n",
    "    print(\"The sets have elements in common.\")\n",
    "else:\n",
    "    print(\"The sets have no elements in common.\")\n"
   ]
  },
  {
   "cell_type": "markdown",
   "id": "8d7515ac-23d8-46a8-bb04-d4dd1282eed0",
   "metadata": {},
   "source": [
    "Explanation:\n",
    "\n",
    "We have two sets, set1 and set2.\n",
    "We use the isdisjoint() method to check if the two sets have no elements in common.\n",
    "If the sets have no common elements, it prints a message indicating that. If they do have common elements, it prints a message indicating that they have elements in common."
   ]
  },
  {
   "cell_type": "code",
   "execution_count": 278,
   "id": "988521e7-d3db-4304-adb2-504a9c41a583",
   "metadata": {},
   "outputs": [
    {
     "name": "stdout",
     "output_type": "stream",
     "text": [
      "{1, 2, 5, 6}\n"
     ]
    }
   ],
   "source": [
    "# 19. Find the symmetric difference between two sets.\n",
    "\n",
    "\n",
    "set1 = {1, 2, 3, 4}\n",
    "set2 = {3, 4, 5, 6}\n",
    "symmetric_difference = set1.symmetric_difference(set2)\n",
    "\n",
    "# Print the symmetric difference\n",
    "print(symmetric_difference)\n"
   ]
  },
  {
   "cell_type": "markdown",
   "id": "aa151847-75d3-4cd1-8b06-90a882746751",
   "metadata": {},
   "source": [
    "Explanation:\n",
    "\n",
    "We have two sets, set1 and set2.\n",
    "We use the symmetric_difference() method or the ^ operator to find the symmetric difference between the two sets. The symmetric difference contains elements that are in either of the sets but not in both.\n",
    "Finally, we print the symmetric difference."
   ]
  },
  {
   "cell_type": "code",
   "execution_count": 279,
   "id": "0120a39f-14a3-42e5-b674-6c0717ce11c0",
   "metadata": {},
   "outputs": [
    {
     "name": "stdout",
     "output_type": "stream",
     "text": [
      "{1, 2, 3, 4, 5}\n"
     ]
    }
   ],
   "source": [
    "# 20. Update a set with elements from another set.\n",
    "\n",
    "\n",
    "set1 = {1, 2, 3}\n",
    "set2 = {3, 4, 5}\n",
    "set1.update(set2)\n",
    "\n",
    "# Print the updated set1\n",
    "print(set1)\n"
   ]
  },
  {
   "cell_type": "markdown",
   "id": "6d700939-d3cb-4e22-bcab-8eedfaa1e387",
   "metadata": {},
   "source": [
    "Explanation:\n",
    "\n",
    "We have two sets, set1 and set2.\n",
    "We use the update() method to update set1 with elements from set2. This adds elements from set2 to set1.\n",
    "Finally, we print the updated set1."
   ]
  },
  {
   "cell_type": "code",
   "execution_count": 280,
   "id": "e6f62274-d9ef-48fc-9e76-8899ddd70b66",
   "metadata": {},
   "outputs": [
    {
     "name": "stdout",
     "output_type": "stream",
     "text": [
      "{2, 3, 5, 7, 11}\n"
     ]
    }
   ],
   "source": [
    "# 21. Create a set of the first 5 prime numbers.\n",
    "\n",
    "\n",
    "prime_set = {2, 3, 5, 7, 11}\n",
    "\n",
    "# Print the set of prime numbers\n",
    "print(prime_set)\n"
   ]
  },
  {
   "cell_type": "markdown",
   "id": "ece9d26b-3351-4600-9ece-dc9984e176b4",
   "metadata": {},
   "source": [
    "Explanation:\n",
    "\n",
    "We manually create a set prime_set containing the first 5 prime numbers (2, 3, 5, 7, 11).\n",
    "Prime numbers are numbers greater than 1 that are divisible only by 1 and themselves.\n",
    "We print the set of prime numbers."
   ]
  },
  {
   "cell_type": "code",
   "execution_count": 281,
   "id": "c3072adb-18a2-41c9-94a0-84e34418836e",
   "metadata": {},
   "outputs": [
    {
     "name": "stdout",
     "output_type": "stream",
     "text": [
      "The sets are identical.\n"
     ]
    }
   ],
   "source": [
    "# 22. Check if two sets are identical.\n",
    "\n",
    "\n",
    "set1 = {1, 2, 3}\n",
    "set2 = {2, 3, 1}\n",
    "\n",
    "if set1 == set2:\n",
    "    print(\"The sets are identical.\")\n",
    "else:\n",
    "    print(\"The sets are not identical.\")\n"
   ]
  },
  {
   "cell_type": "markdown",
   "id": "d9c161c0-059f-459a-9c58-4d7559287a17",
   "metadata": {},
   "source": [
    "Explanation:\n",
    "\n",
    "We have two sets, set1 and set2, with the same elements but potentially in a different order.\n",
    "We use the equality operator == to check if the sets are identical, meaning they have the same elements regardless of the order.\n",
    "If the sets are identical, it prints a message indicating that. If they are not identical, it prints a message indicating that they are not identical."
   ]
  },
  {
   "cell_type": "code",
   "execution_count": 282,
   "id": "61d7324f-29d2-4c81-b4d9-903a12966fb7",
   "metadata": {},
   "outputs": [
    {
     "name": "stdout",
     "output_type": "stream",
     "text": [
      "frozenset({1, 2, 3, 4, 5})\n"
     ]
    }
   ],
   "source": [
    "# 23. Create a frozen set.\n",
    "\n",
    "\n",
    "\n",
    "my_set = {1, 2, 3, 4, 5}\n",
    "frozen_set = frozenset(my_set)\n",
    "\n",
    "# Print the frozen set\n",
    "print(frozen_set)\n"
   ]
  },
  {
   "cell_type": "markdown",
   "id": "40a03571-491a-4513-9acd-74e04ad75045",
   "metadata": {},
   "source": [
    "Explanation:\n",
    "\n",
    "We have a regular set my_set containing elements.\n",
    "We use the frozenset() constructor to create a frozen set frozen_set. Frozen sets are immutable, unlike regular sets.\n",
    "Finally, we print the frozen set."
   ]
  },
  {
   "cell_type": "code",
   "execution_count": 283,
   "id": "8d7821a8-87d0-4476-8cec-112ce5ae7c32",
   "metadata": {},
   "outputs": [
    {
     "name": "stdout",
     "output_type": "stream",
     "text": [
      "The sets are disjoint (have no common elements).\n"
     ]
    }
   ],
   "source": [
    "# 24. Check if a set is disjoint with another set.\n",
    "\n",
    "\n",
    "set1 = {1, 2, 3}\n",
    "set2 = {4, 5, 6}\n",
    "\n",
    "if set1.isdisjoint(set2):\n",
    "    print(\"The sets are disjoint (have no common elements).\")\n",
    "else:\n",
    "    print(\"The sets are not disjoint (have common elements).\")\n"
   ]
  },
  {
   "cell_type": "markdown",
   "id": "13044b4d-3c07-4a5f-a191-0e0d013a714a",
   "metadata": {},
   "source": [
    "Explanation:\n",
    "\n",
    "We have two sets, set1 and set2.\n",
    "We use the isdisjoint() method to check if the sets are disjoint, meaning they have no common elements.\n",
    "If the sets are disjoint, it prints a message indicating that. If they are not disjoint, it prints a message indicating that they have common elements."
   ]
  },
  {
   "cell_type": "code",
   "execution_count": 284,
   "id": "53c2fdcc-3d6a-4480-9982-d251523f8a7d",
   "metadata": {},
   "outputs": [
    {
     "name": "stdout",
     "output_type": "stream",
     "text": [
      "{1, 4, 9, 16, 25}\n"
     ]
    }
   ],
   "source": [
    "# 25. Create a set of squares of numbers from 1 to 5.\n",
    "\n",
    "\n",
    "squares_set = {x**2 for x in range(1, 6)}\n",
    "\n",
    "# Print the set of squares\n",
    "print(squares_set)\n"
   ]
  },
  {
   "cell_type": "markdown",
   "id": "effb017a-b182-4027-9b5c-357817f3dbc0",
   "metadata": {},
   "source": [
    "Explanation:\n",
    "\n",
    "We use a set comprehension to create a set squares_set containing the squares of numbers from 1 to 5.\n",
    "The comprehension iterates through the range from 1 to 5 and calculates the square of each number using x**2.\n",
    "Finally, we print the set of squares."
   ]
  },
  {
   "cell_type": "code",
   "execution_count": 286,
   "id": "092a2d16-b826-4b9d-901b-cc0ca7b1c55e",
   "metadata": {},
   "outputs": [
    {
     "name": "stdout",
     "output_type": "stream",
     "text": [
      "{1, 3, 5}\n"
     ]
    }
   ],
   "source": [
    "# 26. Filter out all even numbers from a set.\n",
    "\n",
    "\n",
    "my_set = {1, 2, 3, 4, 5}\n",
    "filtered_set = {x for x in my_set if x % 2 != 0}\n",
    "\n",
    "# Print the filtered set\n",
    "print(filtered_set)\n"
   ]
  },
  {
   "cell_type": "markdown",
   "id": "da83a6c5-d268-4d77-b0f2-8e437e2fdef7",
   "metadata": {},
   "source": [
    "Explanation:\n",
    "\n",
    "We have a set my_set containing elements, including both even and odd numbers.\n",
    "We use a set comprehension to create a filtered_set containing only the odd numbers from my_set. The comprehension filters out even numbers using the condition x % 2 != 0.\n",
    "Finally, we print the filtered set."
   ]
  },
  {
   "cell_type": "code",
   "execution_count": 287,
   "id": "fe9f9306-8eda-4f0b-85a6-fc65e820e3af",
   "metadata": {},
   "outputs": [
    {
     "name": "stdout",
     "output_type": "stream",
     "text": [
      "{2, 4, 6, 8, 10}\n"
     ]
    }
   ],
   "source": [
    "# 27. Multiply all elements in a set by 2.\n",
    "\n",
    "\n",
    "my_set = {1, 2, 3, 4, 5}\n",
    "multiplied_set = {x * 2 for x in my_set}\n",
    "\n",
    "# Print the multiplied set\n",
    "print(multiplied_set)\n"
   ]
  },
  {
   "cell_type": "markdown",
   "id": "7b86e08b-bfe8-4276-b682-fcd75439cdca",
   "metadata": {},
   "source": [
    "Explanation:\n",
    "\n",
    "We have a set my_set containing elements.\n",
    "We use a set comprehension to create a multiplied_set in which each element is multiplied by 2.\n",
    "Finally, we print the multiplied set."
   ]
  },
  {
   "cell_type": "code",
   "execution_count": 288,
   "id": "0d5b7125-947d-4d8a-a349-6c330ef423ce",
   "metadata": {},
   "outputs": [
    {
     "name": "stdout",
     "output_type": "stream",
     "text": [
      "{97, 6, 39, 40, 81}\n"
     ]
    }
   ],
   "source": [
    "# 28: Create a set of random numbers.\n",
    "\n",
    "import random\n",
    "\n",
    "# Create a set of random numbers\n",
    "random_set = {random.randint(1, 100) for _ in range(5)}\n",
    "\n",
    "# Print the set of random numbers\n",
    "print(random_set)\n"
   ]
  },
  {
   "cell_type": "markdown",
   "id": "eb8ea806-20b8-491f-9e4e-d419b9d5d0dc",
   "metadata": {},
   "source": [
    "Explanation:\n",
    "\n",
    "We import the random module to generate random numbers.\n",
    "We use a set comprehension to create a random_set containing 5 random integers between 1 and 100 (inclusive).\n",
    "Finally, we print the set of random numbers."
   ]
  },
  {
   "cell_type": "code",
   "execution_count": 289,
   "id": "219b277e-dfb6-48f9-9590-040d05b7e857",
   "metadata": {},
   "outputs": [
    {
     "name": "stdout",
     "output_type": "stream",
     "text": [
      "The set is empty.\n"
     ]
    }
   ],
   "source": [
    "# 29. Check if a set is empty.\n",
    "\n",
    "\n",
    "my_set = set()\n",
    "\n",
    "if not my_set:\n",
    "    print(\"The set is empty.\")\n",
    "else:\n",
    "    print(\"The set is not empty.\")\n"
   ]
  },
  {
   "cell_type": "markdown",
   "id": "6b3d1feb-72dd-47e8-88b4-234cddc5e594",
   "metadata": {},
   "source": [
    "Explanation:\n",
    "\n",
    "We create an empty set my_set using set().\n",
    "We check if the set is empty by using an if statement with the condition not my_set. If the set is empty, it prints a message indicating that. If it's not empty, it prints a message indicating that it's not empty."
   ]
  },
  {
   "cell_type": "code",
   "execution_count": 290,
   "id": "813094c1-c79f-40ab-bb30-2f0ce8a349ee",
   "metadata": {},
   "outputs": [
    {
     "name": "stdout",
     "output_type": "stream",
     "text": [
      "frozenset({frozenset({3, 4}), 1, 2})\n"
     ]
    }
   ],
   "source": [
    "# 30. Create a nested set using frozenset.\n",
    "\n",
    "\n",
    "nested_set = frozenset({1, 2, frozenset({3, 4})})\n",
    "\n",
    "# Print the nested set\n",
    "print(nested_set)\n"
   ]
  },
  {
   "cell_type": "markdown",
   "id": "339c56a1-21bf-45ff-9b0d-50651580100c",
   "metadata": {},
   "source": [
    "Explanation:\n",
    "\n",
    "We create a nested set nested_set using frozenset(). A nested set contains other sets as its elements.\n",
    "In this example, we have a set containing elements 1, 2, and another frozen set frozenset({3, 4}) as an element.\n",
    "Finally, we print the nested set."
   ]
  },
  {
   "cell_type": "code",
   "execution_count": 291,
   "id": "433c267b-1a66-4443-9d4e-51678e36f208",
   "metadata": {},
   "outputs": [
    {
     "name": "stdout",
     "output_type": "stream",
     "text": [
      "{1, 2, 4, 5}\n"
     ]
    }
   ],
   "source": [
    "# 31. Remove an element from a set using the discard method.\n",
    "\n",
    "\n",
    "my_set = {1, 2, 3, 4, 5}\n",
    "element_to_remove = 3\n",
    "my_set.discard(element_to_remove)\n",
    "\n",
    "# Print the set after removal\n",
    "print(my_set)\n"
   ]
  },
  {
   "cell_type": "markdown",
   "id": "503ec1c2-6e7f-42f0-b5d6-f77a53b244d1",
   "metadata": {},
   "source": [
    "Explanation:\n",
    "\n",
    "We have a set my_set containing elements.\n",
    "We use the discard() method to remove element_to_remove (which is 3 in this case) from the set. If the element is not in the set, discard() has no effect.\n",
    "Finally, we print the set after removal."
   ]
  },
  {
   "cell_type": "code",
   "execution_count": 292,
   "id": "ecabd1ef-5d24-4acc-b010-f1af0f69dad0",
   "metadata": {},
   "outputs": [
    {
     "name": "stdout",
     "output_type": "stream",
     "text": [
      "The sets are not equal.\n"
     ]
    }
   ],
   "source": [
    "# 32.Compare two sets.\n",
    "\n",
    "\n",
    "set1 = {1, 2, 3}\n",
    "set2 = {2, 3, 4}\n",
    "\n",
    "if set1 == set2:\n",
    "    print(\"The sets are equal.\")\n",
    "else:\n",
    "    print(\"The sets are not equal.\")\n"
   ]
  },
  {
   "cell_type": "markdown",
   "id": "377c87b9-fb63-4a5d-8afa-2d1d2be62710",
   "metadata": {},
   "source": [
    "Explanation:\n",
    "\n",
    "We have two sets, set1 and set2.\n",
    "We use the equality operator == to check if the sets are equal, meaning they have the same elements, regardless of their order.\n",
    "If the sets are equal, it prints a message indicating that. If they are not equal, it prints a message indicating that they are not equal."
   ]
  },
  {
   "cell_type": "code",
   "execution_count": 293,
   "id": "84e4632e-5074-4501-a59f-bd6ddafc0615",
   "metadata": {},
   "outputs": [
    {
     "name": "stdout",
     "output_type": "stream",
     "text": [
      "{'l', 'o', 'e', 'h'}\n"
     ]
    }
   ],
   "source": [
    "# 33. Create a set from a string.\n",
    "\n",
    "\n",
    "my_string = \"hello\"\n",
    "string_set = set(my_string)\n",
    "\n",
    "# Print the set\n",
    "print(string_set)\n"
   ]
  },
  {
   "cell_type": "markdown",
   "id": "adac8790-7459-48b8-99be-1d7d7192fdba",
   "metadata": {},
   "source": [
    "Explanation:\n",
    "\n",
    "We have a string my_string.\n",
    "We use the set() constructor to create a set string_set from the characters of the string. Each character becomes an element in the set.\n",
    "Finally, we print the set of characters."
   ]
  },
  {
   "cell_type": "code",
   "execution_count": 294,
   "id": "a4ae2f10-ece8-4e97-904f-1b98b2c9e4da",
   "metadata": {},
   "outputs": [
    {
     "name": "stdout",
     "output_type": "stream",
     "text": [
      "{1, 2, 3, 4, 5}\n"
     ]
    }
   ],
   "source": [
    "# 34. Convert a set of strings to a set of integers.\n",
    "\n",
    "\n",
    "string_set = {\"1\", \"2\", \"3\", \"4\", \"5\"}\n",
    "int_set = {int(x) for x in string_set}\n",
    "\n",
    "# Print the set of integers\n",
    "print(int_set)\n"
   ]
  },
  {
   "cell_type": "markdown",
   "id": "c6c3e575-03e8-48a8-bc9b-51f067880304",
   "metadata": {},
   "source": [
    "Explanation:\n",
    "\n",
    "We have a set string_set containing string representations of integers.\n",
    "We use a set comprehension to create a new set int_set, where we convert each string element to an integer using int(x).\n",
    "Finally, we print the set of integers."
   ]
  },
  {
   "cell_type": "code",
   "execution_count": 295,
   "id": "4cd5ea29-fbb1-449e-bbfe-48e40388882c",
   "metadata": {},
   "outputs": [
    {
     "name": "stdout",
     "output_type": "stream",
     "text": [
      "{'3', '1', '4', '2', '5'}\n"
     ]
    }
   ],
   "source": [
    "# 35. Convert a set of integers to a set of strings.\n",
    "\n",
    "\n",
    "int_set = {1, 2, 3, 4, 5}\n",
    "string_set = {str(x) for x in int_set}\n",
    "\n",
    "# Print the set of strings\n",
    "print(string_set)\n"
   ]
  },
  {
   "cell_type": "markdown",
   "id": "c2e0594b-6465-420d-8889-50237544bcf2",
   "metadata": {},
   "source": [
    "Explanation:\n",
    "\n",
    "We have a set int_set containing integers.\n",
    "We use a set comprehension to create a new set string_set, where we convert each integer element to a string using str(x).\n",
    "Finally, we print the set of strings."
   ]
  },
  {
   "cell_type": "code",
   "execution_count": 296,
   "id": "4e48012b-373e-4377-afbd-bee7342e7023",
   "metadata": {},
   "outputs": [
    {
     "name": "stdout",
     "output_type": "stream",
     "text": [
      "{1, 2, 3, 4, 5}\n"
     ]
    }
   ],
   "source": [
    "# 36. Create a set from a tuple.\n",
    "\n",
    "\n",
    "my_tuple = (1, 2, 3, 4, 5)\n",
    "tuple_set = set(my_tuple)\n",
    "\n",
    "# Print the set\n",
    "print(tuple_set)\n"
   ]
  },
  {
   "cell_type": "markdown",
   "id": "1828b875-b531-4d6c-aa1f-4677e0e34071",
   "metadata": {},
   "source": [
    "Explanation:\n",
    "\n",
    "We have a tuple my_tuple containing elements.\n",
    "We use the set() constructor to create a set tuple_set from the elements of the tuple.\n",
    "Finally, we print the set."
   ]
  },
  {
   "cell_type": "code",
   "execution_count": 297,
   "id": "8d3555e1-0207-4dcd-ba52-dea735baba0d",
   "metadata": {},
   "outputs": [
    {
     "name": "stdout",
     "output_type": "stream",
     "text": [
      "(1, 2, 3, 4, 5)\n"
     ]
    }
   ],
   "source": [
    "# 37. Convert a set to a tuple.\n",
    "\n",
    "\n",
    "my_set = {1, 2, 3, 4, 5}\n",
    "set_tuple = tuple(my_set)\n",
    "\n",
    "# Print the tuple\n",
    "print(set_tuple)\n"
   ]
  },
  {
   "cell_type": "markdown",
   "id": "2cd0f159-7913-43f4-99e8-0e75093add2b",
   "metadata": {},
   "source": [
    "Explanation:\n",
    "\n",
    "We have a set my_set containing elements.\n",
    "We use the tuple() constructor to convert the set into a tuple set_tuple.\n",
    "Finally, we print the tuple."
   ]
  },
  {
   "cell_type": "code",
   "execution_count": 298,
   "id": "97104555-f780-4598-ae27-c93e8e139bcc",
   "metadata": {},
   "outputs": [
    {
     "name": "stdout",
     "output_type": "stream",
     "text": [
      "The maximum value is: 30\n"
     ]
    }
   ],
   "source": [
    "# 38. Find the maximum value in a set.\n",
    "\n",
    "\n",
    "my_set = {10, 5, 20, 30, 15}\n",
    "max_value = max(my_set)\n",
    "\n",
    "# Print the maximum value\n",
    "print(\"The maximum value is:\", max_value)\n"
   ]
  },
  {
   "cell_type": "markdown",
   "id": "19b223ba-dc69-46e1-9495-dce045175257",
   "metadata": {},
   "source": [
    "Explanation:\n",
    "\n",
    "We have a set my_set containing numeric elements.\n",
    "We use the max() function to find the maximum value within the set.\n",
    "Finally, we print the maximum value."
   ]
  },
  {
   "cell_type": "code",
   "execution_count": 299,
   "id": "438315fb-732e-476a-9f28-8c71d9cfd09d",
   "metadata": {},
   "outputs": [
    {
     "name": "stdout",
     "output_type": "stream",
     "text": [
      "The minimum value is: 5\n"
     ]
    }
   ],
   "source": [
    "# 39. Find the minimum value in a set.\n",
    "\n",
    "\n",
    "my_set = {10, 5, 20, 30, 15}\n",
    "min_value = min(my_set)\n",
    "\n",
    "# Print the minimum value\n",
    "print(\"The minimum value is:\", min_value)\n"
   ]
  },
  {
   "cell_type": "markdown",
   "id": "24370719-b188-45f4-81c2-280896e5f064",
   "metadata": {},
   "source": [
    "Explanation:\n",
    "\n",
    "We have a set my_set containing numeric elements.\n",
    "We use the min() function to find the minimum value within the set.\n",
    "Finally, we print the minimum value."
   ]
  },
  {
   "cell_type": "code",
   "execution_count": 300,
   "id": "69b64b37-22b5-4e13-9a8c-12a891faa704",
   "metadata": {},
   "outputs": [
    {
     "name": "stdin",
     "output_type": "stream",
     "text": [
      "Enter elements separated by spaces:  sourabh yadav pwskills ineurone\n"
     ]
    },
    {
     "name": "stdout",
     "output_type": "stream",
     "text": [
      "User-set: {'ineurone', 'pwskills', 'yadav', 'sourabh'}\n"
     ]
    }
   ],
   "source": [
    "# 40. Create a set from user input.\n",
    "\n",
    "\n",
    "input_string = input(\"Enter elements separated by spaces: \")\n",
    "user_set = set(input_string.split())\n",
    "\n",
    "# Print the user-set\n",
    "print(\"User-set:\", user_set)\n"
   ]
  },
  {
   "cell_type": "markdown",
   "id": "5744beb3-59b6-4e1d-9eaf-bc76607503ac",
   "metadata": {},
   "source": [
    "Explanation:\n",
    "\n",
    "We use the input() function to take user input, which should be a string of elements separated by spaces.\n",
    "We split the input string into a list using split().\n",
    "We use the set() constructor to create a set user_set from the elements entered by the user.\n",
    "Finally, we print the user-set."
   ]
  },
  {
   "cell_type": "code",
   "execution_count": 301,
   "id": "2dc4b2ee-1954-46a8-b405-52b792c81641",
   "metadata": {},
   "outputs": [
    {
     "name": "stdout",
     "output_type": "stream",
     "text": [
      "The intersection is empty.\n"
     ]
    }
   ],
   "source": [
    "# 41. Check if the intersection of two sets is empty.\n",
    "\n",
    "\n",
    "\n",
    "set1 = {1, 2, 3}\n",
    "set2 = {4, 5, 6}\n",
    "\n",
    "if not set1.intersection(set2):\n",
    "    print(\"The intersection is empty.\")\n",
    "else:\n",
    "    print(\"The intersection is not empty.\")\n"
   ]
  },
  {
   "cell_type": "markdown",
   "id": "515d9501-0d08-49bb-bec8-c4df12f5bf40",
   "metadata": {},
   "source": [
    "Explanation:\n",
    "\n",
    "We have two sets, set1 and set2.\n",
    "We use the intersection() method to find the intersection of the two sets.\n",
    "We check if the intersection is empty by using an if statement with the condition not set1.intersection(set2). If the intersection is empty, it prints a message indicating that. If it's not empty, it prints a message indicating that the intersection is not empty."
   ]
  },
  {
   "cell_type": "code",
   "execution_count": 302,
   "id": "edb2605e-ef15-4d20-9a2b-00300a38fb94",
   "metadata": {},
   "outputs": [
    {
     "name": "stdout",
     "output_type": "stream",
     "text": [
      "{0, 1, 2, 3}\n"
     ]
    }
   ],
   "source": [
    "# 42. Create a set of the first 5 Fibonacci numbers.\n",
    "\n",
    "\n",
    "fib_set = {0, 1, 1, 2, 3}\n",
    "\n",
    "# Print the set of Fibonacci numbers\n",
    "print(fib_set)\n"
   ]
  },
  {
   "cell_type": "markdown",
   "id": "4e5b2342-cc7f-4ade-86a8-a6667ed50f55",
   "metadata": {},
   "source": [
    "Explanation:\n",
    "\n",
    "We manually create a set fib_set containing the first 5 Fibonacci numbers (0, 1, 1, 2, 3).\n",
    "Fibonacci numbers are a sequence where each number is the sum of the two preceding ones.\n",
    "In this case, we include duplicates (1) because sets do not allow duplicates, so it effectively removes them."
   ]
  },
  {
   "cell_type": "code",
   "execution_count": 303,
   "id": "095e5773-0722-447c-a2f6-94673b96e97f",
   "metadata": {},
   "outputs": [
    {
     "name": "stdout",
     "output_type": "stream",
     "text": [
      "Original List: [1, 2, 2, 3, 4, 4, 5]\n",
      "List without Duplicates: [1, 2, 3, 4, 5]\n"
     ]
    }
   ],
   "source": [
    "# 43. Remove duplicates from a list using sets.\n",
    "\n",
    "\n",
    "my_list = [1, 2, 2, 3, 4, 4, 5]\n",
    "unique_set = set(my_list)\n",
    "unique_list = list(unique_set)\n",
    "\n",
    "# Print the list without duplicates\n",
    "print(\"Original List:\", my_list)\n",
    "print(\"List without Duplicates:\", unique_list)\n"
   ]
  },
  {
   "cell_type": "markdown",
   "id": "e7a9351a-db99-4e2f-baee-238075436efd",
   "metadata": {},
   "source": [
    "Explanation:\n",
    "\n",
    "We have a list my_list containing elements, including duplicates.\n",
    "We use a set unique_set to store the unique elements by converting the list to a set. Sets automatically remove duplicates.\n",
    "We then convert the set back to a list unique_list to obtain a list without duplicates.\n",
    "Finally, we print both the original list and the list without duplicates."
   ]
  },
  {
   "cell_type": "code",
   "execution_count": 304,
   "id": "72852951-f676-4401-bf33-799a5bd71432",
   "metadata": {},
   "outputs": [
    {
     "name": "stdout",
     "output_type": "stream",
     "text": [
      "The sets have the same elements.\n"
     ]
    }
   ],
   "source": [
    "# 44. Check if two sets have the same elements, regardless of their count.\n",
    "\n",
    "\n",
    "set1 = {1, 2, 3}\n",
    "set2 = {3, 2, 1}\n",
    "\n",
    "if set1 == set2:\n",
    "    print(\"The sets have the same elements.\")\n",
    "else:\n",
    "    print(\"The sets do not have the same elements.\")\n"
   ]
  },
  {
   "cell_type": "markdown",
   "id": "708b8416-14d2-43d1-b619-bc87f16b0fa3",
   "metadata": {},
   "source": [
    "Explanation:\n",
    "\n",
    "We have two sets, set1 and set2, with the same elements but potentially in a different order.\n",
    "We use the equality operator == to check if the sets have the same elements, regardless of their order.\n",
    "If the sets have the same elements, it prints a message indicating that. If they do not have the same elements, it prints a message indicating that they do not have the same elements."
   ]
  },
  {
   "cell_type": "code",
   "execution_count": 305,
   "id": "f19d3c4c-5486-4fe2-8977-e3ee4f592a63",
   "metadata": {},
   "outputs": [
    {
     "name": "stdout",
     "output_type": "stream",
     "text": [
      "{1, 2, 4, 8, 16}\n"
     ]
    }
   ],
   "source": [
    "# 45. Create a set of the first n powers of 2.\n",
    "\n",
    "\n",
    "n = 5\n",
    "powers_of_2_set = {2 ** i for i in range(n)}\n",
    "\n",
    "# Print the set of powers of 2\n",
    "print(powers_of_2_set)\n"
   ]
  },
  {
   "cell_type": "markdown",
   "id": "8fcefc2d-59fe-44f4-8fcf-7b02a9b4ab25",
   "metadata": {},
   "source": [
    "Explanation:\n",
    "\n",
    "We have a variable n that determines the number of powers of 2 to generate.\n",
    "We use a set comprehension to create a set powers_of_2_set containing the first n powers of 2. We use the ** operator to calculate the powers.\n",
    "Finally, we print the set of powers of 2."
   ]
  },
  {
   "cell_type": "code",
   "execution_count": 306,
   "id": "525dcfd2-d61a-4f18-8db9-39c825b41b0a",
   "metadata": {},
   "outputs": [
    {
     "name": "stdout",
     "output_type": "stream",
     "text": [
      "Common Elements: {3, 4, 5}\n"
     ]
    }
   ],
   "source": [
    "# 46. Find the common elements between a set and a list.\n",
    "\n",
    "\n",
    "my_set = {1, 2, 3, 4, 5}\n",
    "my_list = [3, 4, 5, 6, 7]\n",
    "common_elements = my_set.intersection(my_list)\n",
    "\n",
    "# Print the common elements\n",
    "print(\"Common Elements:\", common_elements)\n"
   ]
  },
  {
   "cell_type": "markdown",
   "id": "f5565f67-b8a0-4410-85e6-8d772691ccf8",
   "metadata": {},
   "source": [
    "Explanation:\n",
    "\n",
    "We have a set my_set and a list my_list.\n",
    "We use the intersection() method to find the common elements between the set and the list.\n",
    "The common elements are stored in the common_elements set.\n",
    "Finally, we print the common elements."
   ]
  },
  {
   "cell_type": "code",
   "execution_count": 307,
   "id": "7f9a687f-2696-4bef-8dab-d78760cbaee5",
   "metadata": {},
   "outputs": [
    {
     "name": "stdout",
     "output_type": "stream",
     "text": [
      "{1, 3, 6, 10, 15}\n"
     ]
    }
   ],
   "source": [
    "# 47. Create a set of the first n triangular numbers.\n",
    "\n",
    "\n",
    "n = 5\n",
    "triangular_set = {i * (i + 1) // 2 for i in range(1, n + 1)}\n",
    "\n",
    "# Print the set of triangular numbers\n",
    "print(triangular_set)\n"
   ]
  },
  {
   "cell_type": "markdown",
   "id": "b5afed42-931e-4c35-8e5b-83191d9c36ef",
   "metadata": {},
   "source": [
    "Explanation:\n",
    "\n",
    "We have a variable n that determines the number of triangular numbers to generate.\n",
    "We use a set comprehension to create a set triangular_set containing the first n triangular numbers.\n",
    "Triangular numbers are a sequence where each number is the sum of the natural numbers from 1 to n. We calculate it using the formula (n * (n + 1)) / 2.\n",
    "Finally, we print the set of triangular numbers."
   ]
  },
  {
   "cell_type": "code",
   "execution_count": 308,
   "id": "2f37223e-421d-4de5-8d90-acbe1953588e",
   "metadata": {},
   "outputs": [
    {
     "name": "stdout",
     "output_type": "stream",
     "text": [
      "subset_set is a subset of set1.\n"
     ]
    }
   ],
   "source": [
    "# 48. Check if a set contains another set as a subset.\n",
    "\n",
    "\n",
    "set1 = {1, 2, 3, 4, 5}\n",
    "subset_set = {2, 3}\n",
    "\n",
    "if subset_set.issubset(set1):\n",
    "    print(\"subset_set is a subset of set1.\")\n",
    "else:\n",
    "    print(\"subset_set is not a subset of set1.\")\n"
   ]
  },
  {
   "cell_type": "markdown",
   "id": "8a45e23f-0bea-4d6f-808f-605233648f91",
   "metadata": {},
   "source": [
    "Explanation:\n",
    "\n",
    "We have two sets, set1 and subset_set.\n",
    "We use the issubset() method to check if subset_set is a subset of set1.\n",
    "If subset_set is a subset of set1, it prints a message indicating that. If it's not a subset, it prints a message indicating that it's not a subset."
   ]
  },
  {
   "cell_type": "code",
   "execution_count": 309,
   "id": "c7301b55-085b-46ce-87e5-439a4e5dacfb",
   "metadata": {},
   "outputs": [
    {
     "name": "stdout",
     "output_type": "stream",
     "text": [
      "{0, 1}\n"
     ]
    }
   ],
   "source": [
    "# 49. Create a set of alternating 1s and 0s of length n.\n",
    "\n",
    "\n",
    "n = 5\n",
    "alternating_set = {1 if i % 2 == 0 else 0 for i in range(n)}\n",
    "\n",
    "# Print the set of alternating 1s and 0s\n",
    "print(alternating_set)\n"
   ]
  },
  {
   "cell_type": "markdown",
   "id": "18a3ab01-556a-49d6-8270-cd7bfc039d70",
   "metadata": {},
   "source": [
    "Explanation:\n",
    "\n",
    "We have a variable n that determines the length of the set of alternating 1s and 0s.\n",
    "We use a set comprehension to create the set alternating_set, where we alternate between 1 and 0 based on the index i. If i is even, we put 1; if i is odd, we put 0.\n",
    "Finally, we print the set of alternating 1s and 0s."
   ]
  },
  {
   "cell_type": "code",
   "execution_count": 310,
   "id": "b0fa99a0-153a-4dd5-8e9c-ffab7b45e8d1",
   "metadata": {},
   "outputs": [
    {
     "name": "stdout",
     "output_type": "stream",
     "text": [
      "{1, 2, 3, 4, 5, 6, 7}\n"
     ]
    }
   ],
   "source": [
    "# 50. Merge multiple sets into one.\n",
    "\n",
    "\n",
    "set1 = {1, 2, 3}\n",
    "set2 = {3, 4, 5}\n",
    "set3 = {5, 6, 7}\n",
    "merged_set = set1.union(set2, set3)\n",
    "\n",
    "# Print the merged set\n",
    "print(merged_set)\n"
   ]
  },
  {
   "cell_type": "markdown",
   "id": "704f2855-8eae-4aab-b00c-a1fff4e21145",
   "metadata": {},
   "source": [
    "Explanation:\n",
    "\n",
    "We have three sets, set1, set2, and set3.\n",
    "We use the union() method to merge all three sets into one merged_set. The union() method can take multiple sets as arguments.\n",
    "Finally, we print the merged set containing elements from all three sets."
   ]
  },
  {
   "cell_type": "code",
   "execution_count": null,
   "id": "57cbf72b-5b7f-47d6-b25d-1084730e7aff",
   "metadata": {},
   "outputs": [],
   "source": []
  }
 ],
 "metadata": {
  "kernelspec": {
   "display_name": "Python 3 (ipykernel)",
   "language": "python",
   "name": "python3"
  },
  "language_info": {
   "codemirror_mode": {
    "name": "ipython",
    "version": 3
   },
   "file_extension": ".py",
   "mimetype": "text/x-python",
   "name": "python",
   "nbconvert_exporter": "python",
   "pygments_lexer": "ipython3",
   "version": "3.10.12"
  }
 },
 "nbformat": 4,
 "nbformat_minor": 5
}
